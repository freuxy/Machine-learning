list_c = []
for i in range(1000):
    list_c.append(0.1*(i+10))
        
for i in list_c :
    print(i)