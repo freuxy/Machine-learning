{
 "cells": [
  {
   "cell_type": "code",
   "execution_count": 1,
   "metadata": {},
   "outputs": [],
   "source": [
    "import numpy as np\n",
    "import pandas as pd\n",
    "import matplotlib.pyplot as plt\n",
    "import matplotlib\n",
    "from sklearn.model_selection import train_test_split\n",
    "from sklearn.linear_model import LogisticRegression\n",
    "import math\n",
    "import random\n",
    "from random import uniform\n",
    "from sklearn import preprocessing\n",
    "from sklearn.preprocessing import PolynomialFeatures"
   ]
  },
  {
   "cell_type": "markdown",
   "metadata": {},
   "source": [
    "# Exercice 1 : Binary classification using logistic regression"
   ]
  },
  {
   "cell_type": "markdown",
   "metadata": {},
   "source": [
    "## Load data and inspection of the data"
   ]
  },
  {
   "cell_type": "code",
   "execution_count": 221,
   "metadata": {},
   "outputs": [],
   "source": [
    "# We will load the data that is in the file 'donnees_exo1.txt'\n",
    "data = pd.read_csv('donnees_exo1.txt', sep = ' ')"
   ]
  },
  {
   "cell_type": "code",
   "execution_count": 222,
   "metadata": {},
   "outputs": [
    {
     "name": "stdout",
     "output_type": "stream",
     "text": [
      "<class 'pandas.core.frame.DataFrame'>\n",
      "RangeIndex: 118 entries, 0 to 117\n",
      "Data columns (total 3 columns):\n",
      " #   Column  Non-Null Count  Dtype  \n",
      "---  ------  --------------  -----  \n",
      " 0   X1      118 non-null    float64\n",
      " 1   X2      118 non-null    float64\n",
      " 2   Y       118 non-null    int64  \n",
      "dtypes: float64(2), int64(1)\n",
      "memory usage: 2.9 KB\n"
     ]
    }
   ],
   "source": [
    "data.info()"
   ]
  },
  {
   "cell_type": "code",
   "execution_count": 223,
   "metadata": {},
   "outputs": [
    {
     "data": {
      "text/html": [
       "<div>\n",
       "<style scoped>\n",
       "    .dataframe tbody tr th:only-of-type {\n",
       "        vertical-align: middle;\n",
       "    }\n",
       "\n",
       "    .dataframe tbody tr th {\n",
       "        vertical-align: top;\n",
       "    }\n",
       "\n",
       "    .dataframe thead th {\n",
       "        text-align: right;\n",
       "    }\n",
       "</style>\n",
       "<table border=\"1\" class=\"dataframe\">\n",
       "  <thead>\n",
       "    <tr style=\"text-align: right;\">\n",
       "      <th></th>\n",
       "      <th>X1</th>\n",
       "      <th>X2</th>\n",
       "      <th>Y</th>\n",
       "    </tr>\n",
       "  </thead>\n",
       "  <tbody>\n",
       "    <tr>\n",
       "      <th>count</th>\n",
       "      <td>118.000000</td>\n",
       "      <td>118.000000</td>\n",
       "      <td>118.000000</td>\n",
       "    </tr>\n",
       "    <tr>\n",
       "      <th>mean</th>\n",
       "      <td>0.054779</td>\n",
       "      <td>0.183102</td>\n",
       "      <td>0.491525</td>\n",
       "    </tr>\n",
       "    <tr>\n",
       "      <th>std</th>\n",
       "      <td>0.496654</td>\n",
       "      <td>0.519743</td>\n",
       "      <td>0.502060</td>\n",
       "    </tr>\n",
       "    <tr>\n",
       "      <th>min</th>\n",
       "      <td>-0.830070</td>\n",
       "      <td>-0.769740</td>\n",
       "      <td>0.000000</td>\n",
       "    </tr>\n",
       "    <tr>\n",
       "      <th>25%</th>\n",
       "      <td>-0.372120</td>\n",
       "      <td>-0.254385</td>\n",
       "      <td>0.000000</td>\n",
       "    </tr>\n",
       "    <tr>\n",
       "      <th>50%</th>\n",
       "      <td>-0.006336</td>\n",
       "      <td>0.213455</td>\n",
       "      <td>0.000000</td>\n",
       "    </tr>\n",
       "    <tr>\n",
       "      <th>75%</th>\n",
       "      <td>0.478970</td>\n",
       "      <td>0.646563</td>\n",
       "      <td>1.000000</td>\n",
       "    </tr>\n",
       "    <tr>\n",
       "      <th>max</th>\n",
       "      <td>1.070900</td>\n",
       "      <td>1.108900</td>\n",
       "      <td>1.000000</td>\n",
       "    </tr>\n",
       "  </tbody>\n",
       "</table>\n",
       "</div>"
      ],
      "text/plain": [
       "               X1          X2           Y\n",
       "count  118.000000  118.000000  118.000000\n",
       "mean     0.054779    0.183102    0.491525\n",
       "std      0.496654    0.519743    0.502060\n",
       "min     -0.830070   -0.769740    0.000000\n",
       "25%     -0.372120   -0.254385    0.000000\n",
       "50%     -0.006336    0.213455    0.000000\n",
       "75%      0.478970    0.646563    1.000000\n",
       "max      1.070900    1.108900    1.000000"
      ]
     },
     "execution_count": 223,
     "metadata": {},
     "output_type": "execute_result"
    }
   ],
   "source": [
    "#description description des données\n",
    "data.describe(include=('all'))"
   ]
  },
  {
   "cell_type": "code",
   "execution_count": 224,
   "metadata": {},
   "outputs": [
    {
     "data": {
      "text/plain": [
       "X1    0\n",
       "X2    0\n",
       "Y     0\n",
       "dtype: int64"
      ]
     },
     "execution_count": 224,
     "metadata": {},
     "output_type": "execute_result"
    }
   ],
   "source": [
    "#recherche de valeurs manquantes\n",
    "data.isnull().sum()"
   ]
  },
  {
   "cell_type": "raw",
   "metadata": {},
   "source": [
    "Questions : How many examples are available in this dataset ? How many features ? What is the distribution of the target variable ?\n",
    "Hint : value_counts can help for the last question"
   ]
  },
  {
   "cell_type": "code",
   "execution_count": 225,
   "metadata": {},
   "outputs": [
    {
     "name": "stdout",
     "output_type": "stream",
     "text": [
      "(118, 3)\n",
      "Index(['X1', 'X2', 'Y'], dtype='object')\n",
      "0    0.508475\n",
      "1    0.491525\n",
      "Name: Y, dtype: float64\n",
      "0    60\n",
      "1    58\n",
      "Name: Y, dtype: int64\n"
     ]
    }
   ],
   "source": [
    "print(data.shape)\n",
    "print(data.columns)\n",
    "frame=pd.DataFrame(data)\n",
    "print(frame['Y'].value_counts(normalize=True))\n",
    "print(frame['Y'].value_counts(normalize=False))\n",
    "\n",
    "frame0=pd.DataFrame()\n",
    "frame1=pd.DataFrame()\n",
    "test=0\n",
    "\n",
    "  \n"
   ]
  },
  {
   "cell_type": "raw",
   "metadata": {},
   "source": [
    "Question : Plot on the same graph this dataset with different colors depending on the class value.\n",
    "X1 should be on the x-axis, X2 on the y-axis and the points colored depending on the class value (0 or 1)colorMaps\n",
    "Hint : the scatter function can do the job. Different possibilities for the colors, you can create two sets (one with class 0 and one with class 1), or use  (look at the documentation), or other possibilities "
   ]
  },
  {
   "cell_type": "code",
   "execution_count": 226,
   "metadata": {},
   "outputs": [
    {
     "data": {
      "image/png": "[encoded data removed]",
      "text/plain": [
       "<Figure size 640x480 with 1 Axes>"
      ]
     },
     "metadata": {},
     "output_type": "display_data"
    }
   ],
   "source": [
    "fig, ax = plt.subplots()       \n",
    "colors = {0:\"red\", 1:\"blue\"}\n",
    "ax.scatter(frame['X1'], frame['X2'], c=frame['Y'].map(colors))\n",
    "plt.show()\n"
   ]
  },
  {
   "cell_type": "code",
   "execution_count": null,
   "metadata": {},
   "outputs": [],
   "source": []
  },
  {
   "cell_type": "markdown",
   "metadata": {},
   "source": [
    "## Train / Validation / Test split"
   ]
  },
  {
   "cell_type": "raw",
   "metadata": {},
   "source": [
    "Question : Split the dataset into 3 sets : train (70%), validation (15%) and test (15%).\n",
    "Hint : you can use the 'train_test_split' function that splits a set in 2 sets with a proportion that you can give as parameter. To split into 3 sets, you'll need to use it twice (be careful about the proportions)"
   ]
  },
  {
   "cell_type": "code",
   "execution_count": 227,
   "metadata": {},
   "outputs": [
    {
     "data": {
      "text/plain": [
       "(18, 3)"
      ]
     },
     "execution_count": 227,
     "metadata": {},
     "output_type": "execute_result"
    }
   ],
   "source": [
    "train,test=train_test_split(frame, test_size=0.3, random_state=20)\n",
    "test, validation=train_test_split(test, test_size=0.5, random_state=20)\n",
    "\n",
    "validation.shape"
   ]
  },
  {
   "cell_type": "code",
   "execution_count": null,
   "metadata": {},
   "outputs": [],
   "source": []
  },
  {
   "cell_type": "raw",
   "metadata": {},
   "source": [
    "Question : Plot on the same graph the train and validation data with different colors for the class values and different markers between train and validation set"
   ]
  },
  {
   "cell_type": "code",
   "execution_count": 228,
   "metadata": {},
   "outputs": [
    {
     "data": {
      "text/plain": [
       "<matplotlib.legend.Legend at 0x16951e890>"
      ]
     },
     "execution_count": 228,
     "metadata": {},
     "output_type": "execute_result"
    },
    {
     "data": {
      "image/png": "[encoded data removed]",
      "text/plain": [
       "<Figure size 1200x1000 with 1 Axes>"
      ]
     },
     "metadata": {},
     "output_type": "display_data"
    }
   ],
   "source": [
    "plt.figure(figsize=(12, 10)) # creates a figure with the desired size\n",
    "plt.scatter(train.X1, train.X2, marker = 'o', color = 'skyblue', label = 'train data') # plots the data in the variable Ozone (by default, index is used for the x-axis and the values for the y-axis).\n",
    "plt.scatter(validation.X1, validation.X2, marker = 'x', color = 'red', label = 'train data') # plots the data in the variable Ozone (by default, index is used for the x-axis and the values for the y-axis).\n",
    "# marker is used to define how the points will be depicted (you can try something else). You can also change\n",
    "# the color. The label is the name that you give to the curve (this name will be used in the legend)\n",
    "plt.title(\"Data\") # gives a title to the figure\n",
    "plt.xlabel(\"X1\") # gives a label to the x-axis\n",
    "plt.ylabel(\"Y\")# gives a label to the y-axis\n",
    "plt.legend(loc = 'best') # inserts a legend at the best location"
   ]
  },
  {
   "cell_type": "markdown",
   "metadata": {},
   "source": [
    "## Fitting a logistic regression model"
   ]
  },
  {
   "cell_type": "raw",
   "metadata": {},
   "source": [
    "We will now fit a logistic regression model to the training set.\n",
    "For this, we can use the command on the next cell:"
   ]
  },
  {
   "cell_type": "code",
   "execution_count": 229,
   "metadata": {},
   "outputs": [],
   "source": [
    "lr_model = LogisticRegression().fit(train.iloc[:,0:2], train.Y)\n",
    "# Parameters can be added to the 'LogisticRegression' call (we will see this later when we'll need)\n",
    "# 2 parameters are given to the 'fit' function : \n",
    "#  - a dataset containing the features of the examples (here X1 and X2, the 2 first columns of the training set)\n",
    "#  - a vector containing the labels (Y) of the examples (in the same order), 0 or 1 here"
   ]
  },
  {
   "cell_type": "raw",
   "metadata": {},
   "source": [
    "Question : How many parameters should have this model ?"
   ]
  },
  {
   "cell_type": "raw",
   "metadata": {},
   "source": [
    "3"
   ]
  },
  {
   "cell_type": "raw",
   "metadata": {},
   "source": [
    "The constant of the model (theta_0 in the slides) can be obtained by the command:"
   ]
  },
  {
   "cell_type": "code",
   "execution_count": 230,
   "metadata": {},
   "outputs": [
    {
     "data": {
      "text/plain": [
       "array([-0.05005029])"
      ]
     },
     "execution_count": 230,
     "metadata": {},
     "output_type": "execute_result"
    }
   ],
   "source": [
    "lr_model.intercept_"
   ]
  },
  {
   "cell_type": "raw",
   "metadata": {},
   "source": [
    "The parameters associated to each feature can be obtained by the command:"
   ]
  },
  {
   "cell_type": "code",
   "execution_count": 231,
   "metadata": {},
   "outputs": [
    {
     "data": {
      "text/plain": [
       "array([[-0.05108346,  0.37245342]])"
      ]
     },
     "execution_count": 231,
     "metadata": {},
     "output_type": "execute_result"
    }
   ],
   "source": [
    "lr_model.coef_"
   ]
  },
  {
   "cell_type": "raw",
   "metadata": {},
   "source": [
    "Using the values of the features for the first example of the training set (row 0) and the values of the parameters of the model above, calculate the output that the model should give (using the equation of the logistic regression model).\n",
    "Hint : exponential can be obtained with math.exp()"
   ]
  },
  {
   "cell_type": "code",
   "execution_count": 232,
   "metadata": {},
   "outputs": [
    {
     "data": {
      "text/plain": [
       "0.5544575292202624"
      ]
     },
     "execution_count": 232,
     "metadata": {},
     "output_type": "execute_result"
    }
   ],
   "source": [
    "parm0=lr_model.intercept_[0]\n",
    "parm1=lr_model.coef_[0][0]\n",
    "parm2=lr_model.coef_[0][1]\n",
    "\n",
    "X1=train['X1'].iloc[:1]\n",
    "X2=train['X2'].iloc[:1]\n",
    "\n",
    "\n",
    "rl_model_output=1/(1+math.exp(-((parm0)+(parm1*X1)+(parm2*X2))))\n",
    "rl_model_output\n"
   ]
  },
  {
   "cell_type": "raw",
   "metadata": {},
   "source": [
    "What shoud be the decision made by this model for this example ?"
   ]
  },
  {
   "cell_type": "raw",
   "metadata": {},
   "source": [
    "On décide 1"
   ]
  },
  {
   "cell_type": "raw",
   "metadata": {},
   "source": [
    "It is possible to obtain automatically this value by the command:"
   ]
  },
  {
   "cell_type": "code",
   "execution_count": 233,
   "metadata": {},
   "outputs": [
    {
     "data": {
      "text/plain": [
       "array([[0.44554247, 0.55445753]])"
      ]
     },
     "execution_count": 233,
     "metadata": {},
     "output_type": "execute_result"
    }
   ],
   "source": [
    "lr_model.predict_proba(train.iloc[0:1,0:2])\n",
    "# actually this command gives you the two probabilities : P(Y = 0 | X1, X2) and P(Y = 1 | X1, X2)\n",
    "# You should obtain the same probability than the one calculated above"
   ]
  },
  {
   "cell_type": "code",
   "execution_count": 234,
   "metadata": {},
   "outputs": [
    {
     "data": {
      "text/html": [
       "<div>\n",
       "<style scoped>\n",
       "    .dataframe tbody tr th:only-of-type {\n",
       "        vertical-align: middle;\n",
       "    }\n",
       "\n",
       "    .dataframe tbody tr th {\n",
       "        vertical-align: top;\n",
       "    }\n",
       "\n",
       "    .dataframe thead th {\n",
       "        text-align: right;\n",
       "    }\n",
       "</style>\n",
       "<table border=\"1\" class=\"dataframe\">\n",
       "  <thead>\n",
       "    <tr style=\"text-align: right;\">\n",
       "      <th></th>\n",
       "      <th>X1</th>\n",
       "      <th>X2</th>\n",
       "      <th>Y</th>\n",
       "    </tr>\n",
       "  </thead>\n",
       "  <tbody>\n",
       "    <tr>\n",
       "      <th>36</th>\n",
       "      <td>-0.21371</td>\n",
       "      <td>0.692250</td>\n",
       "      <td>1</td>\n",
       "    </tr>\n",
       "    <tr>\n",
       "      <th>86</th>\n",
       "      <td>0.86348</td>\n",
       "      <td>-0.082602</td>\n",
       "      <td>0</td>\n",
       "    </tr>\n",
       "    <tr>\n",
       "      <th>110</th>\n",
       "      <td>0.92684</td>\n",
       "      <td>0.363300</td>\n",
       "      <td>0</td>\n",
       "    </tr>\n",
       "    <tr>\n",
       "      <th>46</th>\n",
       "      <td>-0.42108</td>\n",
       "      <td>-0.272660</td>\n",
       "      <td>1</td>\n",
       "    </tr>\n",
       "    <tr>\n",
       "      <th>76</th>\n",
       "      <td>-0.50749</td>\n",
       "      <td>0.904240</td>\n",
       "      <td>0</td>\n",
       "    </tr>\n",
       "    <tr>\n",
       "      <th>...</th>\n",
       "      <td>...</td>\n",
       "      <td>...</td>\n",
       "      <td>...</td>\n",
       "    </tr>\n",
       "    <tr>\n",
       "      <th>28</th>\n",
       "      <td>-0.17339</td>\n",
       "      <td>0.699560</td>\n",
       "      <td>1</td>\n",
       "    </tr>\n",
       "    <tr>\n",
       "      <th>95</th>\n",
       "      <td>-0.83007</td>\n",
       "      <td>0.312130</td>\n",
       "      <td>0</td>\n",
       "    </tr>\n",
       "    <tr>\n",
       "      <th>15</th>\n",
       "      <td>0.32200</td>\n",
       "      <td>0.582600</td>\n",
       "      <td>1</td>\n",
       "    </tr>\n",
       "    <tr>\n",
       "      <th>90</th>\n",
       "      <td>0.29320</td>\n",
       "      <td>-0.228800</td>\n",
       "      <td>1</td>\n",
       "    </tr>\n",
       "    <tr>\n",
       "      <th>99</th>\n",
       "      <td>0.35081</td>\n",
       "      <td>-0.579680</td>\n",
       "      <td>0</td>\n",
       "    </tr>\n",
       "  </tbody>\n",
       "</table>\n",
       "<p>82 rows × 3 columns</p>\n",
       "</div>"
      ],
      "text/plain": [
       "          X1        X2  Y\n",
       "36  -0.21371  0.692250  1\n",
       "86   0.86348 -0.082602  0\n",
       "110  0.92684  0.363300  0\n",
       "46  -0.42108 -0.272660  1\n",
       "76  -0.50749  0.904240  0\n",
       "..       ...       ... ..\n",
       "28  -0.17339  0.699560  1\n",
       "95  -0.83007  0.312130  0\n",
       "15   0.32200  0.582600  1\n",
       "90   0.29320 -0.228800  1\n",
       "99   0.35081 -0.579680  0\n",
       "\n",
       "[82 rows x 3 columns]"
      ]
     },
     "execution_count": 234,
     "metadata": {},
     "output_type": "execute_result"
    }
   ],
   "source": [
    "# The final decision of the model can be obtained by the command:\n",
    "lr_model.predict(train.iloc[0:1,0:2])\n",
    "train"
   ]
  },
  {
   "cell_type": "raw",
   "metadata": {},
   "source": [
    "Question : Does this model make a good decision for this example ?"
   ]
  },
  {
   "cell_type": "raw",
   "metadata": {},
   "source": [
    "yes"
   ]
  },
  {
   "cell_type": "raw",
   "metadata": {},
   "source": [
    "The accuracy of a classifier on a dataset (percentage of good prediction made for all the examples of the dataset) can be obtained automatically by the function 'score' applied to a classifier.\n",
    "It needs two 2 parameters : \n",
    " - a dataset containing the examples that we want to predict (their features)\n",
    " - the real class of these examples.\n",
    " Below, you will see how to compute the accuracy of the model 'lr_model' on the training set"
   ]
  },
  {
   "cell_type": "code",
   "execution_count": 235,
   "metadata": {},
   "outputs": [
    {
     "data": {
      "text/plain": [
       "0.5975609756097561"
      ]
     },
     "execution_count": 235,
     "metadata": {},
     "output_type": "execute_result"
    }
   ],
   "source": [
    "lr_model.score(train.iloc[:,0:2], train.Y)"
   ]
  },
  {
   "cell_type": "raw",
   "metadata": {},
   "source": [
    "Question : Compute the accuracy of this model on the validation set "
   ]
  },
  {
   "cell_type": "code",
   "execution_count": 236,
   "metadata": {},
   "outputs": [
    {
     "data": {
      "text/plain": [
       "0.3888888888888889"
      ]
     },
     "execution_count": 236,
     "metadata": {},
     "output_type": "execute_result"
    }
   ],
   "source": [
    "lr_model.score(validation.iloc[:,0:2], validation.Y)"
   ]
  },
  {
   "cell_type": "markdown",
   "metadata": {},
   "source": [
    "## Visualization of the decision boundary"
   ]
  },
  {
   "cell_type": "raw",
   "metadata": {},
   "source": [
    "The function below allows you to see the decision boundary of a logisic regression model.\n",
    "There are 7 parameters : \n",
    " - model : a logistic regression model already fitted\n",
    " - data : the data points that you want to draw together with the boundary (training set for instance)\n",
    " - deg : the degree of the polynomial features used in the model (1 if it is a classical model). These polynomial features will be discussed later\n",
    " - xmin, xmax, ymin, ymax : the min and max coordinates that you want to be displayed (depends on the data)\n",
    "\n",
    "An example of the use of this function is given after. "
   ]
  },
  {
   "cell_type": "code",
   "execution_count": 237,
   "metadata": {},
   "outputs": [],
   "source": [
    "def draw_boundary(model, data, deg, x_min, x_max, y_min, y_max):\n",
    "    h = 0.05\n",
    "    xx, yy = np.meshgrid(np.arange(x_min, x_max, h), np.arange(y_min, y_max, h))\n",
    "    zz = np.c_[xx.ravel(), yy.ravel()]\n",
    "    zz = pd.DataFrame(zz)\n",
    "    if(deg>1):\n",
    "        poly = PolynomialFeatures(degree = deg)\n",
    "        zz2 = poly.fit_transform(zz)\n",
    "        zz2 = pd.DataFrame(zz2)\n",
    "    else:\n",
    "        zz2 = zz\n",
    "    pred_zz= pd.Series(model.predict(zz2))\n",
    "    color_map = matplotlib.colors.ListedColormap(pd.Series(['blue', 'red']))\n",
    "    fig = plt.figure(figsize=  (8,8))\n",
    "    fig = plt.scatter(zz.iloc[:,0], zz.iloc[:,1], c = pred_zz, cmap = color_map, marker='+')\n",
    "    fig = plt.scatter(data.iloc[:,0], data.iloc[:,1], s = 50, c = data.iloc[:,2], cmap = color_map)\n",
    "    "
   ]
  },
  {
   "cell_type": "code",
   "execution_count": 238,
   "metadata": {},
   "outputs": [
    {
     "name": "stderr",
     "output_type": "stream",
     "text": [
      "/Users/freuxy/Library/Python/3.10/lib/python/site-packages/sklearn/base.py:439: UserWarning: X does not have valid feature names, but LogisticRegression was fitted with feature names\n",
      "  warnings.warn(\n"
     ]
    },
    {
     "data": {
      "image/png": "[encoded data removed]",
      "text/plain": [
       "<Figure size 800x800 with 1 Axes>"
      ]
     },
     "metadata": {},
     "output_type": "display_data"
    }
   ],
   "source": [
    "draw_boundary(lr_model, train, 1, -1.2, 1.2, -1.2, 1.2)"
   ]
  },
  {
   "cell_type": "raw",
   "metadata": {},
   "source": [
    "Question : What is the type of this decision boundary ? Was it expected ? Does it seem adapted to this dataset ?"
   ]
  },
  {
   "cell_type": "raw",
   "metadata": {},
   "source": [
    "Lineare\n",
    "Yes\n",
    "No"
   ]
  },
  {
   "cell_type": "raw",
   "metadata": {},
   "source": [
    "We will now see how to add polynomial features to the dataset before fitting a linear regression model:"
   ]
  },
  {
   "cell_type": "code",
   "execution_count": 239,
   "metadata": {},
   "outputs": [],
   "source": [
    "poly = PolynomialFeatures(degree = 2) # Here we create an object that will be used to add polynomial features.\n",
    "# The degree of the features can be modified in the parameters\n",
    "X_train2 = poly.fit_transform(train.iloc[:,0:2]) # Here we use the 'poly' created above to add polynomial\n",
    "# features of degree 2 to the training set\n",
    "# It creates 4 new columns : \n",
    "# - one with 'ones' everywhere\n",
    "# - one with X1^2\n",
    "# - one with X2^2\n",
    "# - one with X1*X2\n"
   ]
  },
  {
   "cell_type": "raw",
   "metadata": {},
   "source": [
    "Question : Check the dimensions of the new training set created above"
   ]
  },
  {
   "cell_type": "code",
   "execution_count": 240,
   "metadata": {},
   "outputs": [
    {
     "name": "stdout",
     "output_type": "stream",
     "text": [
      "(82, 6)\n"
     ]
    }
   ],
   "source": [
    "print(X_train2.shape)\n",
    "#X_train2"
   ]
  },
  {
   "cell_type": "raw",
   "metadata": {},
   "source": [
    "Now we can fit a new logistic regression model using the new training set:"
   ]
  },
  {
   "cell_type": "code",
   "execution_count": 241,
   "metadata": {},
   "outputs": [],
   "source": [
    "lr_model2 = LogisticRegression().fit(X_train2, train.Y)\n"
   ]
  },
  {
   "cell_type": "raw",
   "metadata": {},
   "source": [
    "Question : Compute the prediction accuracy of this new model on the training set. Is it better than the first model ? "
   ]
  },
  {
   "cell_type": "code",
   "execution_count": 242,
   "metadata": {},
   "outputs": [
    {
     "data": {
      "text/plain": [
       "0.8048780487804879"
      ]
     },
     "execution_count": 242,
     "metadata": {},
     "output_type": "execute_result"
    }
   ],
   "source": [
    "lr_model2.score(X_train2, train.Y)"
   ]
  },
  {
   "cell_type": "raw",
   "metadata": {},
   "source": [
    "Question : Look at the decision boundary of this new model, using the 'draw_boundary' function. You will need to set the 'deg' parameter to 2"
   ]
  },
  {
   "cell_type": "code",
   "execution_count": 243,
   "metadata": {},
   "outputs": [
    {
     "data": {
      "image/png": "[encoded data removed]",
      "text/plain": [
       "<Figure size 800x800 with 1 Axes>"
      ]
     },
     "metadata": {},
     "output_type": "display_data"
    }
   ],
   "source": [
    "draw_boundary(lr_model2, train, 2, -1.2, 1.2, -1.2, 1.2)"
   ]
  },
  {
   "cell_type": "raw",
   "metadata": {},
   "source": [
    "Question : Compute the prediction accuracy of this new model on the validation data\n",
    "Hint : You will first need to create a 'new' validation dataset by adding the same polynomial features to the original \n",
    "validation set"
   ]
  },
  {
   "cell_type": "code",
   "execution_count": 244,
   "metadata": {},
   "outputs": [
    {
     "data": {
      "text/plain": [
       "0.6111111111111112"
      ]
     },
     "execution_count": 244,
     "metadata": {},
     "output_type": "execute_result"
    }
   ],
   "source": [
    "poly = PolynomialFeatures(degree = 2) # Here we create an object that will be used to add polynomial features.\n",
    "# The degree of the features can be modified in the parameters\n",
    "validation_2 = poly.fit_transform(validation.iloc[:,0:2]) # Here we use the 'poly' created above to add polynomial\n",
    "\n",
    "lr_model2.score(validation_2, validation.Y)"
   ]
  },
  {
   "cell_type": "raw",
   "metadata": {},
   "source": [
    "Question : Try now to add higher degree polynomial features to the dataset, and apply the procedure explained during the CM to select the most adapted model. Estimate its generalization error"
   ]
  },
  {
   "cell_type": "code",
   "execution_count": 246,
   "metadata": {},
   "outputs": [
    {
     "data": {
      "text/plain": [
       "0.5555555555555556"
      ]
     },
     "execution_count": 246,
     "metadata": {},
     "output_type": "execute_result"
    }
   ],
   "source": [
    "poly = PolynomialFeatures(degree = 3) # Here we create an object that will be used to add polynomial features.\n",
    "# The degree of the features can be modified in the parameters\n",
    "X_train3 = poly.fit_transform(train.iloc[:,0:2]) # Here we use the 'poly' created above to add polynomial\n",
    "\n",
    "lr_model3 = LogisticRegression().fit(X_train3, train.Y)\n",
    "\n",
    "#poly = PolynomialFeatures(degree = 3) # Here we create an object that will be used to add polynomial features.\n",
    "# The degree of the features can be modified in the parameters\n",
    "validation_3 = poly.fit_transform(validation.iloc[:,0:2]) # Here we use the 'poly' created above to add polynomial\n",
    "\n",
    "lr_model3.score(validation_3, validation.Y)"
   ]
  },
  {
   "cell_type": "code",
   "execution_count": null,
   "metadata": {},
   "outputs": [
    {
     "data": {
      "image/png": "[encoded data removed]",
      "text/plain": [
       "<Figure size 800x800 with 1 Axes>"
      ]
     },
     "metadata": {},
     "output_type": "display_data"
    }
   ],
   "source": [
    "draw_boundary(lr_model3, train, 3, -1.2, 1.2, -1.2, 1.2)"
   ]
  },
  {
   "cell_type": "markdown",
   "metadata": {},
   "source": [
    "#  Exercice 2 : Multi-class classification"
   ]
  },
  {
   "cell_type": "raw",
   "metadata": {},
   "source": [
    "In this exercice, we will see how to apply logistic regression for multi-class classification (when the number of possible values for the target is more than 2)"
   ]
  },
  {
   "cell_type": "code",
   "execution_count": null,
   "metadata": {},
   "outputs": [
    {
     "data": {
      "text/html": [
       "<div>\n",
       "<style scoped>\n",
       "    .dataframe tbody tr th:only-of-type {\n",
       "        vertical-align: middle;\n",
       "    }\n",
       "\n",
       "    .dataframe tbody tr th {\n",
       "        vertical-align: top;\n",
       "    }\n",
       "\n",
       "    .dataframe thead th {\n",
       "        text-align: right;\n",
       "    }\n",
       "</style>\n",
       "<table border=\"1\" class=\"dataframe\">\n",
       "  <thead>\n",
       "    <tr style=\"text-align: right;\">\n",
       "      <th></th>\n",
       "      <th>X1</th>\n",
       "      <th>X2</th>\n",
       "      <th>X3</th>\n",
       "      <th>X4</th>\n",
       "      <th>X5</th>\n",
       "      <th>X6</th>\n",
       "      <th>X7</th>\n",
       "      <th>X8</th>\n",
       "      <th>X9</th>\n",
       "      <th>X10</th>\n",
       "      <th>X11</th>\n",
       "      <th>X12</th>\n",
       "      <th>X13</th>\n",
       "      <th>X14</th>\n",
       "      <th>X15</th>\n",
       "      <th>X16</th>\n",
       "      <th>X17</th>\n",
       "      <th>X18</th>\n",
       "      <th>X19</th>\n",
       "      <th>y</th>\n",
       "    </tr>\n",
       "  </thead>\n",
       "  <tbody>\n",
       "    <tr>\n",
       "      <th>0</th>\n",
       "      <td>218</td>\n",
       "      <td>178</td>\n",
       "      <td>9</td>\n",
       "      <td>0.111111</td>\n",
       "      <td>0.0</td>\n",
       "      <td>0.833333</td>\n",
       "      <td>0.547722</td>\n",
       "      <td>1.111109</td>\n",
       "      <td>0.544331</td>\n",
       "      <td>59.629630</td>\n",
       "      <td>52.444443</td>\n",
       "      <td>75.222220</td>\n",
       "      <td>51.222220</td>\n",
       "      <td>-21.555555</td>\n",
       "      <td>46.777780</td>\n",
       "      <td>-25.222221</td>\n",
       "      <td>75.222220</td>\n",
       "      <td>0.318996</td>\n",
       "      <td>-2.040554</td>\n",
       "      <td>6</td>\n",
       "    </tr>\n",
       "    <tr>\n",
       "      <th>1</th>\n",
       "      <td>113</td>\n",
       "      <td>130</td>\n",
       "      <td>9</td>\n",
       "      <td>0.000000</td>\n",
       "      <td>0.0</td>\n",
       "      <td>0.277778</td>\n",
       "      <td>0.250924</td>\n",
       "      <td>0.333333</td>\n",
       "      <td>0.365148</td>\n",
       "      <td>0.888889</td>\n",
       "      <td>0.000000</td>\n",
       "      <td>2.555556</td>\n",
       "      <td>0.111111</td>\n",
       "      <td>-2.666667</td>\n",
       "      <td>5.000000</td>\n",
       "      <td>-2.333333</td>\n",
       "      <td>2.555556</td>\n",
       "      <td>1.000000</td>\n",
       "      <td>-2.123254</td>\n",
       "      <td>3</td>\n",
       "    </tr>\n",
       "    <tr>\n",
       "      <th>2</th>\n",
       "      <td>202</td>\n",
       "      <td>41</td>\n",
       "      <td>9</td>\n",
       "      <td>0.000000</td>\n",
       "      <td>0.0</td>\n",
       "      <td>0.944448</td>\n",
       "      <td>0.772202</td>\n",
       "      <td>1.111112</td>\n",
       "      <td>1.025597</td>\n",
       "      <td>123.037040</td>\n",
       "      <td>111.888885</td>\n",
       "      <td>139.777790</td>\n",
       "      <td>117.444440</td>\n",
       "      <td>-33.444443</td>\n",
       "      <td>50.222220</td>\n",
       "      <td>-16.777779</td>\n",
       "      <td>139.777790</td>\n",
       "      <td>0.199347</td>\n",
       "      <td>-2.299918</td>\n",
       "      <td>2</td>\n",
       "    </tr>\n",
       "    <tr>\n",
       "      <th>3</th>\n",
       "      <td>32</td>\n",
       "      <td>173</td>\n",
       "      <td>9</td>\n",
       "      <td>0.000000</td>\n",
       "      <td>0.0</td>\n",
       "      <td>1.722222</td>\n",
       "      <td>1.781593</td>\n",
       "      <td>9.000000</td>\n",
       "      <td>6.749488</td>\n",
       "      <td>43.592594</td>\n",
       "      <td>39.555557</td>\n",
       "      <td>52.888890</td>\n",
       "      <td>38.333336</td>\n",
       "      <td>-12.111111</td>\n",
       "      <td>27.888890</td>\n",
       "      <td>-15.777778</td>\n",
       "      <td>52.888890</td>\n",
       "      <td>0.266914</td>\n",
       "      <td>-1.998857</td>\n",
       "      <td>6</td>\n",
       "    </tr>\n",
       "    <tr>\n",
       "      <th>4</th>\n",
       "      <td>61</td>\n",
       "      <td>197</td>\n",
       "      <td>9</td>\n",
       "      <td>0.000000</td>\n",
       "      <td>0.0</td>\n",
       "      <td>1.444444</td>\n",
       "      <td>1.515353</td>\n",
       "      <td>2.611111</td>\n",
       "      <td>1.925463</td>\n",
       "      <td>49.592594</td>\n",
       "      <td>44.222220</td>\n",
       "      <td>61.555557</td>\n",
       "      <td>43.000000</td>\n",
       "      <td>-16.111110</td>\n",
       "      <td>35.888890</td>\n",
       "      <td>-19.777779</td>\n",
       "      <td>61.555557</td>\n",
       "      <td>0.302925</td>\n",
       "      <td>-2.022274</td>\n",
       "      <td>6</td>\n",
       "    </tr>\n",
       "    <tr>\n",
       "      <th>...</th>\n",
       "      <td>...</td>\n",
       "      <td>...</td>\n",
       "      <td>...</td>\n",
       "      <td>...</td>\n",
       "      <td>...</td>\n",
       "      <td>...</td>\n",
       "      <td>...</td>\n",
       "      <td>...</td>\n",
       "      <td>...</td>\n",
       "      <td>...</td>\n",
       "      <td>...</td>\n",
       "      <td>...</td>\n",
       "      <td>...</td>\n",
       "      <td>...</td>\n",
       "      <td>...</td>\n",
       "      <td>...</td>\n",
       "      <td>...</td>\n",
       "      <td>...</td>\n",
       "      <td>...</td>\n",
       "      <td>...</td>\n",
       "    </tr>\n",
       "    <tr>\n",
       "      <th>2305</th>\n",
       "      <td>30</td>\n",
       "      <td>102</td>\n",
       "      <td>9</td>\n",
       "      <td>0.000000</td>\n",
       "      <td>0.0</td>\n",
       "      <td>1.222222</td>\n",
       "      <td>0.118518</td>\n",
       "      <td>1.333333</td>\n",
       "      <td>0.800000</td>\n",
       "      <td>20.259260</td>\n",
       "      <td>20.333334</td>\n",
       "      <td>25.000000</td>\n",
       "      <td>15.444445</td>\n",
       "      <td>0.222222</td>\n",
       "      <td>14.222222</td>\n",
       "      <td>-14.444445</td>\n",
       "      <td>25.000000</td>\n",
       "      <td>0.381059</td>\n",
       "      <td>-1.555097</td>\n",
       "      <td>1</td>\n",
       "    </tr>\n",
       "    <tr>\n",
       "      <th>2306</th>\n",
       "      <td>143</td>\n",
       "      <td>24</td>\n",
       "      <td>9</td>\n",
       "      <td>0.000000</td>\n",
       "      <td>0.0</td>\n",
       "      <td>1.277777</td>\n",
       "      <td>0.907406</td>\n",
       "      <td>0.888888</td>\n",
       "      <td>1.140749</td>\n",
       "      <td>127.629630</td>\n",
       "      <td>117.666664</td>\n",
       "      <td>141.666670</td>\n",
       "      <td>123.555560</td>\n",
       "      <td>-29.888890</td>\n",
       "      <td>42.111110</td>\n",
       "      <td>-12.222222</td>\n",
       "      <td>141.666670</td>\n",
       "      <td>0.169397</td>\n",
       "      <td>-2.349252</td>\n",
       "      <td>2</td>\n",
       "    </tr>\n",
       "    <tr>\n",
       "      <th>2307</th>\n",
       "      <td>80</td>\n",
       "      <td>72</td>\n",
       "      <td>9</td>\n",
       "      <td>0.000000</td>\n",
       "      <td>0.0</td>\n",
       "      <td>1.222223</td>\n",
       "      <td>1.003697</td>\n",
       "      <td>1.444444</td>\n",
       "      <td>1.167461</td>\n",
       "      <td>59.000000</td>\n",
       "      <td>51.333332</td>\n",
       "      <td>74.444440</td>\n",
       "      <td>51.222220</td>\n",
       "      <td>-23.000000</td>\n",
       "      <td>46.333332</td>\n",
       "      <td>-23.333334</td>\n",
       "      <td>74.444440</td>\n",
       "      <td>0.314606</td>\n",
       "      <td>-2.090221</td>\n",
       "      <td>4</td>\n",
       "    </tr>\n",
       "    <tr>\n",
       "      <th>2308</th>\n",
       "      <td>98</td>\n",
       "      <td>133</td>\n",
       "      <td>9</td>\n",
       "      <td>0.000000</td>\n",
       "      <td>0.0</td>\n",
       "      <td>0.555555</td>\n",
       "      <td>0.172133</td>\n",
       "      <td>0.388889</td>\n",
       "      <td>0.327731</td>\n",
       "      <td>0.962963</td>\n",
       "      <td>0.000000</td>\n",
       "      <td>2.777778</td>\n",
       "      <td>0.111111</td>\n",
       "      <td>-2.888889</td>\n",
       "      <td>5.444445</td>\n",
       "      <td>-2.555556</td>\n",
       "      <td>2.777778</td>\n",
       "      <td>1.000000</td>\n",
       "      <td>-2.123254</td>\n",
       "      <td>3</td>\n",
       "    </tr>\n",
       "    <tr>\n",
       "      <th>2309</th>\n",
       "      <td>19</td>\n",
       "      <td>147</td>\n",
       "      <td>9</td>\n",
       "      <td>0.000000</td>\n",
       "      <td>0.0</td>\n",
       "      <td>0.222222</td>\n",
       "      <td>0.074074</td>\n",
       "      <td>0.500000</td>\n",
       "      <td>0.077778</td>\n",
       "      <td>4.148148</td>\n",
       "      <td>3.888889</td>\n",
       "      <td>6.666666</td>\n",
       "      <td>1.888889</td>\n",
       "      <td>-0.777778</td>\n",
       "      <td>7.555555</td>\n",
       "      <td>-6.777778</td>\n",
       "      <td>7.000000</td>\n",
       "      <td>0.713228</td>\n",
       "      <td>-1.475643</td>\n",
       "      <td>1</td>\n",
       "    </tr>\n",
       "  </tbody>\n",
       "</table>\n",
       "<p>2310 rows × 20 columns</p>\n",
       "</div>"
      ],
      "text/plain": [
       "       X1   X2  X3        X4   X5        X6        X7        X8        X9  \\\n",
       "0     218  178   9  0.111111  0.0  0.833333  0.547722  1.111109  0.544331   \n",
       "1     113  130   9  0.000000  0.0  0.277778  0.250924  0.333333  0.365148   \n",
       "2     202   41   9  0.000000  0.0  0.944448  0.772202  1.111112  1.025597   \n",
       "3      32  173   9  0.000000  0.0  1.722222  1.781593  9.000000  6.749488   \n",
       "4      61  197   9  0.000000  0.0  1.444444  1.515353  2.611111  1.925463   \n",
       "...   ...  ...  ..       ...  ...       ...       ...       ...       ...   \n",
       "2305   30  102   9  0.000000  0.0  1.222222  0.118518  1.333333  0.800000   \n",
       "2306  143   24   9  0.000000  0.0  1.277777  0.907406  0.888888  1.140749   \n",
       "2307   80   72   9  0.000000  0.0  1.222223  1.003697  1.444444  1.167461   \n",
       "2308   98  133   9  0.000000  0.0  0.555555  0.172133  0.388889  0.327731   \n",
       "2309   19  147   9  0.000000  0.0  0.222222  0.074074  0.500000  0.077778   \n",
       "\n",
       "             X10         X11         X12         X13        X14        X15  \\\n",
       "0      59.629630   52.444443   75.222220   51.222220 -21.555555  46.777780   \n",
       "1       0.888889    0.000000    2.555556    0.111111  -2.666667   5.000000   \n",
       "2     123.037040  111.888885  139.777790  117.444440 -33.444443  50.222220   \n",
       "3      43.592594   39.555557   52.888890   38.333336 -12.111111  27.888890   \n",
       "4      49.592594   44.222220   61.555557   43.000000 -16.111110  35.888890   \n",
       "...          ...         ...         ...         ...        ...        ...   \n",
       "2305   20.259260   20.333334   25.000000   15.444445   0.222222  14.222222   \n",
       "2306  127.629630  117.666664  141.666670  123.555560 -29.888890  42.111110   \n",
       "2307   59.000000   51.333332   74.444440   51.222220 -23.000000  46.333332   \n",
       "2308    0.962963    0.000000    2.777778    0.111111  -2.888889   5.444445   \n",
       "2309    4.148148    3.888889    6.666666    1.888889  -0.777778   7.555555   \n",
       "\n",
       "            X16         X17       X18       X19  y  \n",
       "0    -25.222221   75.222220  0.318996 -2.040554  6  \n",
       "1     -2.333333    2.555556  1.000000 -2.123254  3  \n",
       "2    -16.777779  139.777790  0.199347 -2.299918  2  \n",
       "3    -15.777778   52.888890  0.266914 -1.998857  6  \n",
       "4    -19.777779   61.555557  0.302925 -2.022274  6  \n",
       "...         ...         ...       ...       ... ..  \n",
       "2305 -14.444445   25.000000  0.381059 -1.555097  1  \n",
       "2306 -12.222222  141.666670  0.169397 -2.349252  2  \n",
       "2307 -23.333334   74.444440  0.314606 -2.090221  4  \n",
       "2308  -2.555556    2.777778  1.000000 -2.123254  3  \n",
       "2309  -6.777778    7.000000  0.713228 -1.475643  1  \n",
       "\n",
       "[2310 rows x 20 columns]"
      ]
     },
     "execution_count": 209,
     "metadata": {},
     "output_type": "execute_result"
    }
   ],
   "source": [
    "# Load the data. \n",
    "segment = pd.read_csv(\"segment.txt\", sep = ' ')\n",
    "segment"
   ]
  },
  {
   "cell_type": "code",
   "execution_count": null,
   "metadata": {},
   "outputs": [
    {
     "data": {
      "text/html": [
       "<div>\n",
       "<style scoped>\n",
       "    .dataframe tbody tr th:only-of-type {\n",
       "        vertical-align: middle;\n",
       "    }\n",
       "\n",
       "    .dataframe tbody tr th {\n",
       "        vertical-align: top;\n",
       "    }\n",
       "\n",
       "    .dataframe thead th {\n",
       "        text-align: right;\n",
       "    }\n",
       "</style>\n",
       "<table border=\"1\" class=\"dataframe\">\n",
       "  <thead>\n",
       "    <tr style=\"text-align: right;\">\n",
       "      <th></th>\n",
       "      <th>X1</th>\n",
       "      <th>X2</th>\n",
       "      <th>X3</th>\n",
       "      <th>X4</th>\n",
       "      <th>X5</th>\n",
       "      <th>X6</th>\n",
       "      <th>X7</th>\n",
       "      <th>X8</th>\n",
       "      <th>X9</th>\n",
       "      <th>X10</th>\n",
       "      <th>X11</th>\n",
       "      <th>X12</th>\n",
       "      <th>X13</th>\n",
       "      <th>X14</th>\n",
       "      <th>X15</th>\n",
       "      <th>X16</th>\n",
       "      <th>X17</th>\n",
       "      <th>X18</th>\n",
       "      <th>X19</th>\n",
       "      <th>y</th>\n",
       "    </tr>\n",
       "  </thead>\n",
       "  <tbody>\n",
       "    <tr>\n",
       "      <th>count</th>\n",
       "      <td>2310.000000</td>\n",
       "      <td>2310.000000</td>\n",
       "      <td>2310.0</td>\n",
       "      <td>2310.000000</td>\n",
       "      <td>2310.000000</td>\n",
       "      <td>2310.000000</td>\n",
       "      <td>2310.000000</td>\n",
       "      <td>2310.000000</td>\n",
       "      <td>2.310000e+03</td>\n",
       "      <td>2310.000000</td>\n",
       "      <td>2310.000000</td>\n",
       "      <td>2310.000000</td>\n",
       "      <td>2310.000000</td>\n",
       "      <td>2310.000000</td>\n",
       "      <td>2310.000000</td>\n",
       "      <td>2310.000000</td>\n",
       "      <td>2310.000000</td>\n",
       "      <td>2310.000000</td>\n",
       "      <td>2310.000000</td>\n",
       "      <td>2310.000000</td>\n",
       "    </tr>\n",
       "    <tr>\n",
       "      <th>mean</th>\n",
       "      <td>124.913853</td>\n",
       "      <td>123.417316</td>\n",
       "      <td>9.0</td>\n",
       "      <td>0.014334</td>\n",
       "      <td>0.004714</td>\n",
       "      <td>1.893939</td>\n",
       "      <td>5.709320</td>\n",
       "      <td>2.424723</td>\n",
       "      <td>8.243692e+00</td>\n",
       "      <td>37.051595</td>\n",
       "      <td>32.821308</td>\n",
       "      <td>44.187879</td>\n",
       "      <td>34.145599</td>\n",
       "      <td>-12.690861</td>\n",
       "      <td>21.408850</td>\n",
       "      <td>-8.717989</td>\n",
       "      <td>45.137470</td>\n",
       "      <td>0.426893</td>\n",
       "      <td>-1.362897</td>\n",
       "      <td>4.000000</td>\n",
       "    </tr>\n",
       "    <tr>\n",
       "      <th>std</th>\n",
       "      <td>72.956532</td>\n",
       "      <td>57.483851</td>\n",
       "      <td>0.0</td>\n",
       "      <td>0.040154</td>\n",
       "      <td>0.024234</td>\n",
       "      <td>2.698908</td>\n",
       "      <td>44.846457</td>\n",
       "      <td>3.610084</td>\n",
       "      <td>5.881152e+01</td>\n",
       "      <td>38.176410</td>\n",
       "      <td>35.036774</td>\n",
       "      <td>43.527461</td>\n",
       "      <td>36.364773</td>\n",
       "      <td>11.583562</td>\n",
       "      <td>19.571819</td>\n",
       "      <td>11.551628</td>\n",
       "      <td>42.921764</td>\n",
       "      <td>0.228309</td>\n",
       "      <td>1.545335</td>\n",
       "      <td>2.000433</td>\n",
       "    </tr>\n",
       "    <tr>\n",
       "      <th>min</th>\n",
       "      <td>1.000000</td>\n",
       "      <td>11.000000</td>\n",
       "      <td>9.0</td>\n",
       "      <td>0.000000</td>\n",
       "      <td>0.000000</td>\n",
       "      <td>0.000000</td>\n",
       "      <td>0.000000</td>\n",
       "      <td>0.000000</td>\n",
       "      <td>-1.589457e-08</td>\n",
       "      <td>0.000000</td>\n",
       "      <td>0.000000</td>\n",
       "      <td>0.000000</td>\n",
       "      <td>0.000000</td>\n",
       "      <td>-49.666668</td>\n",
       "      <td>-12.444445</td>\n",
       "      <td>-33.888890</td>\n",
       "      <td>0.000000</td>\n",
       "      <td>0.000000</td>\n",
       "      <td>-3.044175</td>\n",
       "      <td>1.000000</td>\n",
       "    </tr>\n",
       "    <tr>\n",
       "      <th>25%</th>\n",
       "      <td>62.000000</td>\n",
       "      <td>81.000000</td>\n",
       "      <td>9.0</td>\n",
       "      <td>0.000000</td>\n",
       "      <td>0.000000</td>\n",
       "      <td>0.722222</td>\n",
       "      <td>0.355555</td>\n",
       "      <td>0.777780</td>\n",
       "      <td>4.216373e-01</td>\n",
       "      <td>7.296296</td>\n",
       "      <td>7.000000</td>\n",
       "      <td>9.555555</td>\n",
       "      <td>6.027778</td>\n",
       "      <td>-18.555555</td>\n",
       "      <td>4.138889</td>\n",
       "      <td>-16.777779</td>\n",
       "      <td>11.555555</td>\n",
       "      <td>0.284235</td>\n",
       "      <td>-2.188057</td>\n",
       "      <td>2.000000</td>\n",
       "    </tr>\n",
       "    <tr>\n",
       "      <th>50%</th>\n",
       "      <td>121.000000</td>\n",
       "      <td>122.000000</td>\n",
       "      <td>9.0</td>\n",
       "      <td>0.000000</td>\n",
       "      <td>0.000000</td>\n",
       "      <td>1.222224</td>\n",
       "      <td>0.833333</td>\n",
       "      <td>1.444444</td>\n",
       "      <td>9.629633e-01</td>\n",
       "      <td>21.592592</td>\n",
       "      <td>19.555555</td>\n",
       "      <td>27.666667</td>\n",
       "      <td>20.333334</td>\n",
       "      <td>-10.888889</td>\n",
       "      <td>19.666666</td>\n",
       "      <td>-10.888889</td>\n",
       "      <td>28.666666</td>\n",
       "      <td>0.374803</td>\n",
       "      <td>-2.051200</td>\n",
       "      <td>4.000000</td>\n",
       "    </tr>\n",
       "    <tr>\n",
       "      <th>75%</th>\n",
       "      <td>189.000000</td>\n",
       "      <td>172.000000</td>\n",
       "      <td>9.0</td>\n",
       "      <td>0.000000</td>\n",
       "      <td>0.000000</td>\n",
       "      <td>2.166667</td>\n",
       "      <td>1.806367</td>\n",
       "      <td>2.555556</td>\n",
       "      <td>2.183269e+00</td>\n",
       "      <td>53.212964</td>\n",
       "      <td>47.333332</td>\n",
       "      <td>64.888890</td>\n",
       "      <td>46.500001</td>\n",
       "      <td>-4.222222</td>\n",
       "      <td>35.777780</td>\n",
       "      <td>-3.222222</td>\n",
       "      <td>64.888890</td>\n",
       "      <td>0.540123</td>\n",
       "      <td>-1.562308</td>\n",
       "      <td>6.000000</td>\n",
       "    </tr>\n",
       "    <tr>\n",
       "      <th>max</th>\n",
       "      <td>254.000000</td>\n",
       "      <td>251.000000</td>\n",
       "      <td>9.0</td>\n",
       "      <td>0.333333</td>\n",
       "      <td>0.222222</td>\n",
       "      <td>29.222221</td>\n",
       "      <td>991.718400</td>\n",
       "      <td>44.722225</td>\n",
       "      <td>1.386329e+03</td>\n",
       "      <td>143.444440</td>\n",
       "      <td>137.111110</td>\n",
       "      <td>150.888890</td>\n",
       "      <td>142.555560</td>\n",
       "      <td>9.888889</td>\n",
       "      <td>82.000000</td>\n",
       "      <td>24.666666</td>\n",
       "      <td>150.888890</td>\n",
       "      <td>1.000000</td>\n",
       "      <td>2.912480</td>\n",
       "      <td>7.000000</td>\n",
       "    </tr>\n",
       "  </tbody>\n",
       "</table>\n",
       "</div>"
      ],
      "text/plain": [
       "                X1           X2      X3           X4           X5  \\\n",
       "count  2310.000000  2310.000000  2310.0  2310.000000  2310.000000   \n",
       "mean    124.913853   123.417316     9.0     0.014334     0.004714   \n",
       "std      72.956532    57.483851     0.0     0.040154     0.024234   \n",
       "min       1.000000    11.000000     9.0     0.000000     0.000000   \n",
       "25%      62.000000    81.000000     9.0     0.000000     0.000000   \n",
       "50%     121.000000   122.000000     9.0     0.000000     0.000000   \n",
       "75%     189.000000   172.000000     9.0     0.000000     0.000000   \n",
       "max     254.000000   251.000000     9.0     0.333333     0.222222   \n",
       "\n",
       "                X6           X7           X8            X9          X10  \\\n",
       "count  2310.000000  2310.000000  2310.000000  2.310000e+03  2310.000000   \n",
       "mean      1.893939     5.709320     2.424723  8.243692e+00    37.051595   \n",
       "std       2.698908    44.846457     3.610084  5.881152e+01    38.176410   \n",
       "min       0.000000     0.000000     0.000000 -1.589457e-08     0.000000   \n",
       "25%       0.722222     0.355555     0.777780  4.216373e-01     7.296296   \n",
       "50%       1.222224     0.833333     1.444444  9.629633e-01    21.592592   \n",
       "75%       2.166667     1.806367     2.555556  2.183269e+00    53.212964   \n",
       "max      29.222221   991.718400    44.722225  1.386329e+03   143.444440   \n",
       "\n",
       "               X11          X12          X13          X14          X15  \\\n",
       "count  2310.000000  2310.000000  2310.000000  2310.000000  2310.000000   \n",
       "mean     32.821308    44.187879    34.145599   -12.690861    21.408850   \n",
       "std      35.036774    43.527461    36.364773    11.583562    19.571819   \n",
       "min       0.000000     0.000000     0.000000   -49.666668   -12.444445   \n",
       "25%       7.000000     9.555555     6.027778   -18.555555     4.138889   \n",
       "50%      19.555555    27.666667    20.333334   -10.888889    19.666666   \n",
       "75%      47.333332    64.888890    46.500001    -4.222222    35.777780   \n",
       "max     137.111110   150.888890   142.555560     9.888889    82.000000   \n",
       "\n",
       "               X16          X17          X18          X19            y  \n",
       "count  2310.000000  2310.000000  2310.000000  2310.000000  2310.000000  \n",
       "mean     -8.717989    45.137470     0.426893    -1.362897     4.000000  \n",
       "std      11.551628    42.921764     0.228309     1.545335     2.000433  \n",
       "min     -33.888890     0.000000     0.000000    -3.044175     1.000000  \n",
       "25%     -16.777779    11.555555     0.284235    -2.188057     2.000000  \n",
       "50%     -10.888889    28.666666     0.374803    -2.051200     4.000000  \n",
       "75%      -3.222222    64.888890     0.540123    -1.562308     6.000000  \n",
       "max      24.666666   150.888890     1.000000     2.912480     7.000000  "
      ]
     },
     "execution_count": 210,
     "metadata": {},
     "output_type": "execute_result"
    }
   ],
   "source": [
    "segment.describe()"
   ]
  },
  {
   "cell_type": "raw",
   "metadata": {},
   "source": [
    "Question : How many features are there in this dataset ? How many examples ? What is the distribution of the target values ? You can find some informations about this dataset on the file segment.dat"
   ]
  },
  {
   "cell_type": "code",
   "execution_count": null,
   "metadata": {},
   "outputs": [
    {
     "name": "stdout",
     "output_type": "stream",
     "text": [
      "(2310, 20)\n",
      "Index(['X1', 'X2', 'X3', 'X4', 'X5', 'X6', 'X7', 'X8', 'X9', 'X10', 'X11',\n",
      "       'X12', 'X13', 'X14', 'X15', 'X16', 'X17', 'X18', 'X19', 'y'],\n",
      "      dtype='object')\n",
      "6    0.142857\n",
      "3    0.142857\n",
      "2    0.142857\n",
      "7    0.142857\n",
      "1    0.142857\n",
      "4    0.142857\n",
      "5    0.142857\n",
      "Name: y, dtype: float64\n",
      "6    330\n",
      "3    330\n",
      "2    330\n",
      "7    330\n",
      "1    330\n",
      "4    330\n",
      "5    330\n",
      "Name: y, dtype: int64\n"
     ]
    }
   ],
   "source": [
    "print(segment.shape)\n",
    "print(segment.columns)\n",
    "segment_frame=pd.DataFrame(segment)\n",
    "print(segment_frame['y'].value_counts(normalize=True))\n",
    "print(segment_frame['y'].value_counts(normalize=False))"
   ]
  },
  {
   "cell_type": "code",
   "execution_count": null,
   "metadata": {},
   "outputs": [
    {
     "name": "stdout",
     "output_type": "stream",
     "text": [
      "<class 'pandas.core.frame.DataFrame'>\n",
      "RangeIndex: 2310 entries, 0 to 2309\n",
      "Data columns (total 20 columns):\n",
      " #   Column  Non-Null Count  Dtype  \n",
      "---  ------  --------------  -----  \n",
      " 0   0       2310 non-null   float64\n",
      " 1   1       2310 non-null   float64\n",
      " 2   2       2310 non-null   float64\n",
      " 3   3       2310 non-null   float64\n",
      " 4   4       2310 non-null   float64\n",
      " 5   5       2310 non-null   float64\n",
      " 6   6       2310 non-null   float64\n",
      " 7   7       2310 non-null   float64\n",
      " 8   8       2310 non-null   float64\n",
      " 9   9       2310 non-null   float64\n",
      " 10  10      2310 non-null   float64\n",
      " 11  11      2310 non-null   float64\n",
      " 12  12      2310 non-null   float64\n",
      " 13  13      2310 non-null   float64\n",
      " 14  14      2310 non-null   float64\n",
      " 15  15      2310 non-null   float64\n",
      " 16  16      2310 non-null   float64\n",
      " 17  17      2310 non-null   float64\n",
      " 18  18      2310 non-null   float64\n",
      " 19  y       2310 non-null   int64  \n",
      "dtypes: float64(19), int64(1)\n",
      "memory usage: 361.1 KB\n"
     ]
    }
   ],
   "source": [
    "# It is adviced to \"standardize\" the features before applying a logistic regression model. Santardize means\n",
    "# transforming each feature so that the mean of each feature is 0 and the standard deviation 1.\n",
    "# This can be done by the following commands\n",
    "X_segment = segment.iloc[:,0:19] # X_segment contains the features\n",
    "y_segment = segment.y # y_segment contains the class\n",
    "scaler = preprocessing.StandardScaler().fit(X_segment) # Standard Scaler is the command to standardize\n",
    "X_segment = scaler.transform(X_segment)\n",
    "X_segment = pd.DataFrame(X_segment)\n",
    "# Now the features are standardized inside the table X_segment\n",
    "data_segment = X_segment\n",
    "data_segment['y'] = y_segment\n",
    "# data_segment contains the features (standardized) and the class (column 'y')\n",
    "\n",
    "\n",
    "#Question_dev: pourquoi pas standardisé pour deux classes\n",
    "data_segment.info()"
   ]
  },
  {
   "cell_type": "raw",
   "metadata": {},
   "source": [
    "Question : Check (for 1 feature of your choice) that its mean is 0 (you can use np.mean)"
   ]
  },
  {
   "cell_type": "code",
   "execution_count": null,
   "metadata": {},
   "outputs": [
    {
     "data": {
      "text/plain": [
       "9.996813381906172e-17"
      ]
     },
     "execution_count": 213,
     "metadata": {},
     "output_type": "execute_result"
    }
   ],
   "source": [
    "np.mean(data_segment[1])"
   ]
  },
  {
   "cell_type": "raw",
   "metadata": {},
   "source": [
    "Question : Split the dataset into a train, a validation, and a test set"
   ]
  },
  {
   "cell_type": "code",
   "execution_count": null,
   "metadata": {},
   "outputs": [
    {
     "data": {
      "text/html": [
       "<div>\n",
       "<style scoped>\n",
       "    .dataframe tbody tr th:only-of-type {\n",
       "        vertical-align: middle;\n",
       "    }\n",
       "\n",
       "    .dataframe tbody tr th {\n",
       "        vertical-align: top;\n",
       "    }\n",
       "\n",
       "    .dataframe thead th {\n",
       "        text-align: right;\n",
       "    }\n",
       "</style>\n",
       "<table border=\"1\" class=\"dataframe\">\n",
       "  <thead>\n",
       "    <tr style=\"text-align: right;\">\n",
       "      <th></th>\n",
       "      <th>0</th>\n",
       "      <th>1</th>\n",
       "      <th>2</th>\n",
       "      <th>3</th>\n",
       "      <th>4</th>\n",
       "      <th>5</th>\n",
       "      <th>6</th>\n",
       "      <th>7</th>\n",
       "      <th>8</th>\n",
       "      <th>9</th>\n",
       "      <th>10</th>\n",
       "      <th>11</th>\n",
       "      <th>12</th>\n",
       "      <th>13</th>\n",
       "      <th>14</th>\n",
       "      <th>15</th>\n",
       "      <th>16</th>\n",
       "      <th>17</th>\n",
       "      <th>18</th>\n",
       "      <th>y</th>\n",
       "    </tr>\n",
       "  </thead>\n",
       "  <tbody>\n",
       "    <tr>\n",
       "      <th>1063</th>\n",
       "      <td>-0.766565</td>\n",
       "      <td>0.271138</td>\n",
       "      <td>0.0</td>\n",
       "      <td>-0.357047</td>\n",
       "      <td>-0.194552</td>\n",
       "      <td>0.348140</td>\n",
       "      <td>-0.087786</td>\n",
       "      <td>-0.086890</td>\n",
       "      <td>-0.111819</td>\n",
       "      <td>-0.497208</td>\n",
       "      <td>-0.480208</td>\n",
       "      <td>-0.497089</td>\n",
       "      <td>-0.508265</td>\n",
       "      <td>0.558554</td>\n",
       "      <td>-0.407020</td>\n",
       "      <td>0.129513</td>\n",
       "      <td>-0.495161</td>\n",
       "      <td>-0.176471</td>\n",
       "      <td>-0.220023</td>\n",
       "      <td>3</td>\n",
       "    </tr>\n",
       "    <tr>\n",
       "      <th>1620</th>\n",
       "      <td>-1.383505</td>\n",
       "      <td>-1.016459</td>\n",
       "      <td>0.0</td>\n",
       "      <td>-0.357047</td>\n",
       "      <td>-0.194552</td>\n",
       "      <td>-0.248939</td>\n",
       "      <td>-0.088016</td>\n",
       "      <td>-0.025321</td>\n",
       "      <td>-0.100140</td>\n",
       "      <td>-0.425401</td>\n",
       "      <td>-0.362846</td>\n",
       "      <td>-0.400066</td>\n",
       "      <td>-0.511321</td>\n",
       "      <td>0.913539</td>\n",
       "      <td>-0.179887</td>\n",
       "      <td>-0.611283</td>\n",
       "      <td>-0.427840</td>\n",
       "      <td>-0.032750</td>\n",
       "      <td>-0.196088</td>\n",
       "      <td>1</td>\n",
       "    </tr>\n",
       "    <tr>\n",
       "      <th>231</th>\n",
       "      <td>-0.588339</td>\n",
       "      <td>-0.250861</td>\n",
       "      <td>0.0</td>\n",
       "      <td>2.410668</td>\n",
       "      <td>-0.194552</td>\n",
       "      <td>-0.434239</td>\n",
       "      <td>-0.121966</td>\n",
       "      <td>-0.302382</td>\n",
       "      <td>-0.126596</td>\n",
       "      <td>-0.504971</td>\n",
       "      <td>-0.388222</td>\n",
       "      <td>-0.532834</td>\n",
       "      <td>-0.578556</td>\n",
       "      <td>1.470004</td>\n",
       "      <td>-0.600084</td>\n",
       "      <td>-0.457351</td>\n",
       "      <td>-0.562481</td>\n",
       "      <td>-0.222857</td>\n",
       "      <td>0.055880</td>\n",
       "      <td>1</td>\n",
       "    </tr>\n",
       "    <tr>\n",
       "      <th>536</th>\n",
       "      <td>1.262479</td>\n",
       "      <td>-0.877259</td>\n",
       "      <td>0.0</td>\n",
       "      <td>-0.357047</td>\n",
       "      <td>-0.194552</td>\n",
       "      <td>-0.372472</td>\n",
       "      <td>-0.109824</td>\n",
       "      <td>-0.194636</td>\n",
       "      <td>-0.125525</td>\n",
       "      <td>-0.843629</td>\n",
       "      <td>-0.886219</td>\n",
       "      <td>-0.793262</td>\n",
       "      <td>-0.853607</td>\n",
       "      <td>0.299510</td>\n",
       "      <td>-0.355915</td>\n",
       "      <td>0.302687</td>\n",
       "      <td>-0.826585</td>\n",
       "      <td>1.733173</td>\n",
       "      <td>-0.585941</td>\n",
       "      <td>3</td>\n",
       "    </tr>\n",
       "    <tr>\n",
       "      <th>1097</th>\n",
       "      <td>1.166511</td>\n",
       "      <td>1.889334</td>\n",
       "      <td>0.0</td>\n",
       "      <td>-0.357047</td>\n",
       "      <td>-0.194552</td>\n",
       "      <td>-0.022461</td>\n",
       "      <td>-0.100428</td>\n",
       "      <td>-0.256206</td>\n",
       "      <td>-0.110909</td>\n",
       "      <td>-0.739800</td>\n",
       "      <td>-0.749825</td>\n",
       "      <td>-0.849433</td>\n",
       "      <td>-0.590780</td>\n",
       "      <td>0.510582</td>\n",
       "      <td>-1.338266</td>\n",
       "      <td>1.755418</td>\n",
       "      <td>-0.756675</td>\n",
       "      <td>0.282552</td>\n",
       "      <td>2.306934</td>\n",
       "      <td>7</td>\n",
       "    </tr>\n",
       "    <tr>\n",
       "      <th>...</th>\n",
       "      <td>...</td>\n",
       "      <td>...</td>\n",
       "      <td>...</td>\n",
       "      <td>...</td>\n",
       "      <td>...</td>\n",
       "      <td>...</td>\n",
       "      <td>...</td>\n",
       "      <td>...</td>\n",
       "      <td>...</td>\n",
       "      <td>...</td>\n",
       "      <td>...</td>\n",
       "      <td>...</td>\n",
       "      <td>...</td>\n",
       "      <td>...</td>\n",
       "      <td>...</td>\n",
       "      <td>...</td>\n",
       "      <td>...</td>\n",
       "      <td>...</td>\n",
       "      <td>...</td>\n",
       "      <td>...</td>\n",
       "    </tr>\n",
       "    <tr>\n",
       "      <th>552</th>\n",
       "      <td>0.906025</td>\n",
       "      <td>-0.285661</td>\n",
       "      <td>0.0</td>\n",
       "      <td>-0.357047</td>\n",
       "      <td>-0.194552</td>\n",
       "      <td>0.059895</td>\n",
       "      <td>-0.093294</td>\n",
       "      <td>2.191174</td>\n",
       "      <td>-0.088992</td>\n",
       "      <td>-0.205128</td>\n",
       "      <td>-0.169356</td>\n",
       "      <td>-0.190702</td>\n",
       "      <td>-0.254607</td>\n",
       "      <td>0.491394</td>\n",
       "      <td>-0.071999</td>\n",
       "      <td>-0.370765</td>\n",
       "      <td>-0.215522</td>\n",
       "      <td>-0.505304</td>\n",
       "      <td>-0.332855</td>\n",
       "      <td>4</td>\n",
       "    </tr>\n",
       "    <tr>\n",
       "      <th>1607</th>\n",
       "      <td>-0.286724</td>\n",
       "      <td>-0.198661</td>\n",
       "      <td>0.0</td>\n",
       "      <td>-0.357047</td>\n",
       "      <td>-0.194552</td>\n",
       "      <td>-0.475417</td>\n",
       "      <td>-0.121739</td>\n",
       "      <td>-0.379344</td>\n",
       "      <td>-0.128087</td>\n",
       "      <td>0.578927</td>\n",
       "      <td>0.553850</td>\n",
       "      <td>0.669733</td>\n",
       "      <td>0.488031</td>\n",
       "      <td>-0.698289</td>\n",
       "      <td>1.080701</td>\n",
       "      <td>-1.130803</td>\n",
       "      <td>0.657055</td>\n",
       "      <td>-0.583600</td>\n",
       "      <td>-0.463149</td>\n",
       "      <td>4</td>\n",
       "    </tr>\n",
       "    <tr>\n",
       "      <th>1814</th>\n",
       "      <td>-1.657700</td>\n",
       "      <td>2.167733</td>\n",
       "      <td>0.0</td>\n",
       "      <td>-0.357047</td>\n",
       "      <td>-0.194552</td>\n",
       "      <td>0.533440</td>\n",
       "      <td>-0.086888</td>\n",
       "      <td>0.220957</td>\n",
       "      <td>-0.118789</td>\n",
       "      <td>-0.458394</td>\n",
       "      <td>-0.492896</td>\n",
       "      <td>-0.632409</td>\n",
       "      <td>-0.211821</td>\n",
       "      <td>0.059654</td>\n",
       "      <td>-1.537007</td>\n",
       "      <td>2.544318</td>\n",
       "      <td>-0.435608</td>\n",
       "      <td>-0.020776</td>\n",
       "      <td>2.309381</td>\n",
       "      <td>7</td>\n",
       "    </tr>\n",
       "    <tr>\n",
       "      <th>1428</th>\n",
       "      <td>-0.231885</td>\n",
       "      <td>0.253738</td>\n",
       "      <td>0.0</td>\n",
       "      <td>-0.357047</td>\n",
       "      <td>-0.194552</td>\n",
       "      <td>-0.598950</td>\n",
       "      <td>-0.125931</td>\n",
       "      <td>-0.533267</td>\n",
       "      <td>-0.138123</td>\n",
       "      <td>-0.887295</td>\n",
       "      <td>-0.895735</td>\n",
       "      <td>-0.862199</td>\n",
       "      <td>-0.899448</td>\n",
       "      <td>0.644901</td>\n",
       "      <td>-0.560335</td>\n",
       "      <td>0.302687</td>\n",
       "      <td>-0.896495</td>\n",
       "      <td>1.632832</td>\n",
       "      <td>-0.469212</td>\n",
       "      <td>5</td>\n",
       "    </tr>\n",
       "    <tr>\n",
       "      <th>271</th>\n",
       "      <td>-0.177046</td>\n",
       "      <td>-1.538457</td>\n",
       "      <td>0.0</td>\n",
       "      <td>-0.357047</td>\n",
       "      <td>-0.194552</td>\n",
       "      <td>-0.290117</td>\n",
       "      <td>-0.099911</td>\n",
       "      <td>-0.271598</td>\n",
       "      <td>-0.126092</td>\n",
       "      <td>2.371191</td>\n",
       "      <td>2.415789</td>\n",
       "      <td>2.260389</td>\n",
       "      <td>2.434780</td>\n",
       "      <td>-1.523391</td>\n",
       "      <td>1.205624</td>\n",
       "      <td>-0.515076</td>\n",
       "      <td>2.270158</td>\n",
       "      <td>-1.098790</td>\n",
       "      <td>-0.613690</td>\n",
       "      <td>2</td>\n",
       "    </tr>\n",
       "  </tbody>\n",
       "</table>\n",
       "<p>1617 rows × 20 columns</p>\n",
       "</div>"
      ],
      "text/plain": [
       "             0         1    2         3         4         5         6  \\\n",
       "1063 -0.766565  0.271138  0.0 -0.357047 -0.194552  0.348140 -0.087786   \n",
       "1620 -1.383505 -1.016459  0.0 -0.357047 -0.194552 -0.248939 -0.088016   \n",
       "231  -0.588339 -0.250861  0.0  2.410668 -0.194552 -0.434239 -0.121966   \n",
       "536   1.262479 -0.877259  0.0 -0.357047 -0.194552 -0.372472 -0.109824   \n",
       "1097  1.166511  1.889334  0.0 -0.357047 -0.194552 -0.022461 -0.100428   \n",
       "...        ...       ...  ...       ...       ...       ...       ...   \n",
       "552   0.906025 -0.285661  0.0 -0.357047 -0.194552  0.059895 -0.093294   \n",
       "1607 -0.286724 -0.198661  0.0 -0.357047 -0.194552 -0.475417 -0.121739   \n",
       "1814 -1.657700  2.167733  0.0 -0.357047 -0.194552  0.533440 -0.086888   \n",
       "1428 -0.231885  0.253738  0.0 -0.357047 -0.194552 -0.598950 -0.125931   \n",
       "271  -0.177046 -1.538457  0.0 -0.357047 -0.194552 -0.290117 -0.099911   \n",
       "\n",
       "             7         8         9        10        11        12        13  \\\n",
       "1063 -0.086890 -0.111819 -0.497208 -0.480208 -0.497089 -0.508265  0.558554   \n",
       "1620 -0.025321 -0.100140 -0.425401 -0.362846 -0.400066 -0.511321  0.913539   \n",
       "231  -0.302382 -0.126596 -0.504971 -0.388222 -0.532834 -0.578556  1.470004   \n",
       "536  -0.194636 -0.125525 -0.843629 -0.886219 -0.793262 -0.853607  0.299510   \n",
       "1097 -0.256206 -0.110909 -0.739800 -0.749825 -0.849433 -0.590780  0.510582   \n",
       "...        ...       ...       ...       ...       ...       ...       ...   \n",
       "552   2.191174 -0.088992 -0.205128 -0.169356 -0.190702 -0.254607  0.491394   \n",
       "1607 -0.379344 -0.128087  0.578927  0.553850  0.669733  0.488031 -0.698289   \n",
       "1814  0.220957 -0.118789 -0.458394 -0.492896 -0.632409 -0.211821  0.059654   \n",
       "1428 -0.533267 -0.138123 -0.887295 -0.895735 -0.862199 -0.899448  0.644901   \n",
       "271  -0.271598 -0.126092  2.371191  2.415789  2.260389  2.434780 -1.523391   \n",
       "\n",
       "            14        15        16        17        18  y  \n",
       "1063 -0.407020  0.129513 -0.495161 -0.176471 -0.220023  3  \n",
       "1620 -0.179887 -0.611283 -0.427840 -0.032750 -0.196088  1  \n",
       "231  -0.600084 -0.457351 -0.562481 -0.222857  0.055880  1  \n",
       "536  -0.355915  0.302687 -0.826585  1.733173 -0.585941  3  \n",
       "1097 -1.338266  1.755418 -0.756675  0.282552  2.306934  7  \n",
       "...        ...       ...       ...       ...       ... ..  \n",
       "552  -0.071999 -0.370765 -0.215522 -0.505304 -0.332855  4  \n",
       "1607  1.080701 -1.130803  0.657055 -0.583600 -0.463149  4  \n",
       "1814 -1.537007  2.544318 -0.435608 -0.020776  2.309381  7  \n",
       "1428 -0.560335  0.302687 -0.896495  1.632832 -0.469212  5  \n",
       "271   1.205624 -0.515076  2.270158 -1.098790 -0.613690  2  \n",
       "\n",
       "[1617 rows x 20 columns]"
      ]
     },
     "execution_count": 214,
     "metadata": {},
     "output_type": "execute_result"
    }
   ],
   "source": [
    "train_data,test=train_test_split(data_segment, test_size=0.3, random_state=20)\n",
    "test, validation=train_test_split(test, test_size=0.5, random_state=20)\n",
    "\n",
    "train_data"
   ]
  },
  {
   "cell_type": "raw",
   "metadata": {},
   "source": [
    "We will now fit a logistic regression model to the traning set. It is like in exercice 1, but we now need to specify that the problem is multi-class. For that, you need to use multi-class = 'multinomial' inside the call to LogisticRegression:"
   ]
  },
  {
   "cell_type": "code",
   "execution_count": 248,
   "metadata": {},
   "outputs": [
    {
     "name": "stderr",
     "output_type": "stream",
     "text": [
      "/Users/freuxy/Library/Python/3.10/lib/python/site-packages/sklearn/linear_model/_logistic.py:458: ConvergenceWarning: lbfgs failed to converge (status=1):\n",
      "STOP: TOTAL NO. of ITERATIONS REACHED LIMIT.\n",
      "\n",
      "Increase the number of iterations (max_iter) or scale the data as shown in:\n",
      "    https://scikit-learn.org/stable/modules/preprocessing.html\n",
      "Please also refer to the documentation for alternative solver options:\n",
      "    https://scikit-learn.org/stable/modules/linear_model.html#logistic-regression\n",
      "  n_iter_i = _check_optimize_result(\n"
     ]
    }
   ],
   "source": [
    "mc_model = LogisticRegression(multi_class='multinomial').fit(train_data.iloc[:,0:19], train_data.y)\n",
    "#lr_model = LogisticRegression().fit(train.iloc[:,0:2], train.Y)"
   ]
  },
  {
   "cell_type": "raw",
   "metadata": {},
   "source": [
    "You should have a warning that says 'TOTAL NO. of ITERATIONS REACHED LIMIT'\n",
    "It means that the parameters should not have been learned well beacuse the algorithm has reached the maximum number of iterations without converging. It is possible to imcrease the maximum number of iterations:"
   ]
  },
  {
   "cell_type": "code",
   "execution_count": null,
   "metadata": {},
   "outputs": [],
   "source": [
    "mc_model = LogisticRegression(multi_class='multinomial', max_iter=1000).fit(train_data.iloc[:,0:19], train_data.y)\n",
    "# Now it should converge"
   ]
  },
  {
   "cell_type": "raw",
   "metadata": {},
   "source": [
    "Question : How many parameters should have this model ?"
   ]
  },
  {
   "cell_type": "raw",
   "metadata": {},
   "source": [
    "140\n",
    "#Question_dev"
   ]
  },
  {
   "cell_type": "raw",
   "metadata": {},
   "source": [
    "Question : Check the number of parameters by looking at their values (same commands as exercice 1)"
   ]
  },
  {
   "cell_type": "code",
   "execution_count": null,
   "metadata": {},
   "outputs": [
    {
     "data": {
      "text/html": [
       "<div>\n",
       "<style scoped>\n",
       "    .dataframe tbody tr th:only-of-type {\n",
       "        vertical-align: middle;\n",
       "    }\n",
       "\n",
       "    .dataframe tbody tr th {\n",
       "        vertical-align: top;\n",
       "    }\n",
       "\n",
       "    .dataframe thead th {\n",
       "        text-align: right;\n",
       "    }\n",
       "</style>\n",
       "<table border=\"1\" class=\"dataframe\">\n",
       "  <thead>\n",
       "    <tr style=\"text-align: right;\">\n",
       "      <th></th>\n",
       "      <th>0</th>\n",
       "      <th>1</th>\n",
       "      <th>2</th>\n",
       "      <th>3</th>\n",
       "      <th>4</th>\n",
       "      <th>5</th>\n",
       "      <th>6</th>\n",
       "      <th>7</th>\n",
       "      <th>8</th>\n",
       "      <th>9</th>\n",
       "      <th>10</th>\n",
       "      <th>11</th>\n",
       "      <th>12</th>\n",
       "      <th>13</th>\n",
       "      <th>14</th>\n",
       "      <th>15</th>\n",
       "      <th>16</th>\n",
       "      <th>17</th>\n",
       "      <th>18</th>\n",
       "    </tr>\n",
       "  </thead>\n",
       "  <tbody>\n",
       "    <tr>\n",
       "      <th>0</th>\n",
       "      <td>-0.348893</td>\n",
       "      <td>-1.573885</td>\n",
       "      <td>0.0</td>\n",
       "      <td>0.054442</td>\n",
       "      <td>-0.020863</td>\n",
       "      <td>-0.671049</td>\n",
       "      <td>-0.202679</td>\n",
       "      <td>-0.220425</td>\n",
       "      <td>-0.155646</td>\n",
       "      <td>-0.605666</td>\n",
       "      <td>-0.185978</td>\n",
       "      <td>-0.471037</td>\n",
       "      <td>-1.164515</td>\n",
       "      <td>4.300767</td>\n",
       "      <td>0.401460</td>\n",
       "      <td>-4.992847</td>\n",
       "      <td>-0.542134</td>\n",
       "      <td>0.532778</td>\n",
       "      <td>1.573094</td>\n",
       "    </tr>\n",
       "    <tr>\n",
       "      <th>1</th>\n",
       "      <td>0.423020</td>\n",
       "      <td>-0.161274</td>\n",
       "      <td>0.0</td>\n",
       "      <td>-0.066243</td>\n",
       "      <td>-0.084223</td>\n",
       "      <td>-0.220357</td>\n",
       "      <td>-0.015026</td>\n",
       "      <td>-0.179400</td>\n",
       "      <td>-0.018573</td>\n",
       "      <td>1.546166</td>\n",
       "      <td>1.595463</td>\n",
       "      <td>1.421375</td>\n",
       "      <td>1.631041</td>\n",
       "      <td>-0.809899</td>\n",
       "      <td>0.435595</td>\n",
       "      <td>0.074113</td>\n",
       "      <td>1.441449</td>\n",
       "      <td>-0.432976</td>\n",
       "      <td>-0.073164</td>\n",
       "    </tr>\n",
       "    <tr>\n",
       "      <th>2</th>\n",
       "      <td>-0.552232</td>\n",
       "      <td>-2.582671</td>\n",
       "      <td>0.0</td>\n",
       "      <td>-0.139880</td>\n",
       "      <td>0.110527</td>\n",
       "      <td>0.425922</td>\n",
       "      <td>0.523027</td>\n",
       "      <td>0.207886</td>\n",
       "      <td>0.156792</td>\n",
       "      <td>-1.251822</td>\n",
       "      <td>-1.749077</td>\n",
       "      <td>-1.138075</td>\n",
       "      <td>-0.895116</td>\n",
       "      <td>-3.494243</td>\n",
       "      <td>-0.267851</td>\n",
       "      <td>3.957720</td>\n",
       "      <td>-1.198952</td>\n",
       "      <td>0.879044</td>\n",
       "      <td>-1.414079</td>\n",
       "    </tr>\n",
       "    <tr>\n",
       "      <th>3</th>\n",
       "      <td>0.053041</td>\n",
       "      <td>-0.772200</td>\n",
       "      <td>0.0</td>\n",
       "      <td>0.090632</td>\n",
       "      <td>-0.221985</td>\n",
       "      <td>0.526508</td>\n",
       "      <td>-0.134333</td>\n",
       "      <td>-0.194907</td>\n",
       "      <td>-0.290570</td>\n",
       "      <td>0.435798</td>\n",
       "      <td>0.577747</td>\n",
       "      <td>0.374828</td>\n",
       "      <td>0.367222</td>\n",
       "      <td>0.933694</td>\n",
       "      <td>-0.049343</td>\n",
       "      <td>-0.852675</td>\n",
       "      <td>0.315762</td>\n",
       "      <td>-0.269964</td>\n",
       "      <td>-0.667651</td>\n",
       "    </tr>\n",
       "    <tr>\n",
       "      <th>4</th>\n",
       "      <td>0.458923</td>\n",
       "      <td>-1.900393</td>\n",
       "      <td>0.0</td>\n",
       "      <td>-0.050849</td>\n",
       "      <td>0.128870</td>\n",
       "      <td>0.018553</td>\n",
       "      <td>0.343301</td>\n",
       "      <td>-0.692565</td>\n",
       "      <td>0.675106</td>\n",
       "      <td>-0.939424</td>\n",
       "      <td>-1.111914</td>\n",
       "      <td>-0.799461</td>\n",
       "      <td>-0.930438</td>\n",
       "      <td>-0.801317</td>\n",
       "      <td>0.163299</td>\n",
       "      <td>0.526857</td>\n",
       "      <td>-0.756849</td>\n",
       "      <td>-0.006760</td>\n",
       "      <td>-0.053364</td>\n",
       "    </tr>\n",
       "    <tr>\n",
       "      <th>5</th>\n",
       "      <td>0.278102</td>\n",
       "      <td>5.315355</td>\n",
       "      <td>0.0</td>\n",
       "      <td>0.025811</td>\n",
       "      <td>-0.408179</td>\n",
       "      <td>0.105676</td>\n",
       "      <td>-0.325732</td>\n",
       "      <td>0.399231</td>\n",
       "      <td>0.007647</td>\n",
       "      <td>0.705904</td>\n",
       "      <td>0.796059</td>\n",
       "      <td>0.668530</td>\n",
       "      <td>0.656015</td>\n",
       "      <td>0.244090</td>\n",
       "      <td>0.329641</td>\n",
       "      <td>-0.803273</td>\n",
       "      <td>0.654807</td>\n",
       "      <td>-0.965586</td>\n",
       "      <td>-0.967823</td>\n",
       "    </tr>\n",
       "    <tr>\n",
       "      <th>6</th>\n",
       "      <td>-0.311961</td>\n",
       "      <td>1.675067</td>\n",
       "      <td>0.0</td>\n",
       "      <td>0.086087</td>\n",
       "      <td>0.495851</td>\n",
       "      <td>-0.185253</td>\n",
       "      <td>-0.188557</td>\n",
       "      <td>0.680181</td>\n",
       "      <td>-0.374756</td>\n",
       "      <td>0.109044</td>\n",
       "      <td>0.077700</td>\n",
       "      <td>-0.056161</td>\n",
       "      <td>0.335791</td>\n",
       "      <td>-0.373092</td>\n",
       "      <td>-1.012801</td>\n",
       "      <td>2.090104</td>\n",
       "      <td>0.085917</td>\n",
       "      <td>0.263463</td>\n",
       "      <td>1.602986</td>\n",
       "    </tr>\n",
       "  </tbody>\n",
       "</table>\n",
       "</div>"
      ],
      "text/plain": [
       "         0         1    2         3         4         5         6         7   \\\n",
       "0 -0.348893 -1.573885  0.0  0.054442 -0.020863 -0.671049 -0.202679 -0.220425   \n",
       "1  0.423020 -0.161274  0.0 -0.066243 -0.084223 -0.220357 -0.015026 -0.179400   \n",
       "2 -0.552232 -2.582671  0.0 -0.139880  0.110527  0.425922  0.523027  0.207886   \n",
       "3  0.053041 -0.772200  0.0  0.090632 -0.221985  0.526508 -0.134333 -0.194907   \n",
       "4  0.458923 -1.900393  0.0 -0.050849  0.128870  0.018553  0.343301 -0.692565   \n",
       "5  0.278102  5.315355  0.0  0.025811 -0.408179  0.105676 -0.325732  0.399231   \n",
       "6 -0.311961  1.675067  0.0  0.086087  0.495851 -0.185253 -0.188557  0.680181   \n",
       "\n",
       "         8         9         10        11        12        13        14  \\\n",
       "0 -0.155646 -0.605666 -0.185978 -0.471037 -1.164515  4.300767  0.401460   \n",
       "1 -0.018573  1.546166  1.595463  1.421375  1.631041 -0.809899  0.435595   \n",
       "2  0.156792 -1.251822 -1.749077 -1.138075 -0.895116 -3.494243 -0.267851   \n",
       "3 -0.290570  0.435798  0.577747  0.374828  0.367222  0.933694 -0.049343   \n",
       "4  0.675106 -0.939424 -1.111914 -0.799461 -0.930438 -0.801317  0.163299   \n",
       "5  0.007647  0.705904  0.796059  0.668530  0.656015  0.244090  0.329641   \n",
       "6 -0.374756  0.109044  0.077700 -0.056161  0.335791 -0.373092 -1.012801   \n",
       "\n",
       "         15        16        17        18  \n",
       "0 -4.992847 -0.542134  0.532778  1.573094  \n",
       "1  0.074113  1.441449 -0.432976 -0.073164  \n",
       "2  3.957720 -1.198952  0.879044 -1.414079  \n",
       "3 -0.852675  0.315762 -0.269964 -0.667651  \n",
       "4  0.526857 -0.756849 -0.006760 -0.053364  \n",
       "5 -0.803273  0.654807 -0.965586 -0.967823  \n",
       "6  2.090104  0.085917  0.263463  1.602986  "
      ]
     },
     "execution_count": 59,
     "metadata": {},
     "output_type": "execute_result"
    }
   ],
   "source": [
    "mc_model.intercept_\n",
    "test=pd.DataFrame(mc_model.coef_)\n",
    "test\n"
   ]
  },
  {
   "cell_type": "raw",
   "metadata": {},
   "source": [
    "Question : How many outputs should have this model ? Check the output values of the model for the first example of the training set using the function predict_proba (as in exercice 1). What should be the decision of the model here ?\n",
    "Check it with the 'predict' function"
   ]
  },
  {
   "cell_type": "code",
   "execution_count": null,
   "metadata": {},
   "outputs": [
    {
     "name": "stdout",
     "output_type": "stream",
     "text": [
      "                 0             1             2         3             4  \\\n",
      "0     5.152671e-05  8.269796e-04  1.361009e-09  0.025537  1.995862e-05   \n",
      "1     1.950034e-02  9.176714e-10  7.402721e-01  0.003360  2.358812e-01   \n",
      "2     2.260395e-12  9.991724e-01  1.725893e-11  0.000827  3.214637e-09   \n",
      "3     8.050303e-04  3.418028e-05  4.609554e-06  0.072780  1.036059e-04   \n",
      "4     5.798879e-05  2.644740e-05  2.657524e-08  0.009482  1.023943e-05   \n",
      "...            ...           ...           ...       ...           ...   \n",
      "2305  9.717880e-01  2.417733e-08  2.348818e-05  0.023555  4.612536e-03   \n",
      "2306  1.016751e-12  9.988478e-01  4.213298e-11  0.001152  1.794119e-09   \n",
      "2307  5.597772e-03  9.147014e-03  4.063909e-05  0.978359  6.431309e-03   \n",
      "2308  1.917870e-02  8.909359e-10  7.740816e-01  0.003539  2.020695e-01   \n",
      "2309  8.162194e-01  5.525057e-09  3.184119e-02  0.018685  1.281636e-01   \n",
      "\n",
      "                 5             6  \n",
      "0     9.735623e-01  2.305163e-06  \n",
      "1     1.465755e-06  9.844615e-04  \n",
      "2     5.934133e-07  2.924503e-10  \n",
      "3     9.249796e-01  1.292551e-03  \n",
      "4     9.903938e-01  2.903257e-05  \n",
      "...            ...           ...  \n",
      "2305  4.820192e-06  1.589456e-05  \n",
      "2306  9.390578e-08  5.443005e-10  \n",
      "2307  4.204716e-04  3.536526e-06  \n",
      "2308  2.006088e-06  1.129447e-03  \n",
      "2309  8.430976e-05  5.006186e-03  \n",
      "\n",
      "[2310 rows x 7 columns]\n"
     ]
    }
   ],
   "source": [
    "\n",
    "print(pd.DataFrame(mc_model.predict_proba(data_segment.iloc[:,0:19])))"
   ]
  },
  {
   "cell_type": "code",
   "execution_count": null,
   "metadata": {},
   "outputs": [],
   "source": [
    "\n"
   ]
  },
  {
   "cell_type": "raw",
   "metadata": {},
   "source": [
    "What is the prediction accuracy of this model on the train set ? and on the validation set ?"
   ]
  },
  {
   "cell_type": "code",
   "execution_count": null,
   "metadata": {},
   "outputs": [
    {
     "data": {
      "text/plain": [
       "0.943104514533086"
      ]
     },
     "execution_count": 118,
     "metadata": {},
     "output_type": "execute_result"
    }
   ],
   "source": [
    "train_data.columns = train_data.columns.astype(str)\n",
    "validation.columns = validation.columns.astype(str)\n",
    "mc_model.score(train_data.iloc[:,0:19], train_data.y)"
   ]
  },
  {
   "cell_type": "raw",
   "metadata": {},
   "source": [
    "Question : Using the same procedure as in Exercice 1, try different polynomial features and select the best one.\n",
    "Then, estimate the generalization error of logistic regression on this dataset\n",
    "Don't go over degree 5, otherwise it might be quite long to learn the model (a lot of features)"
   ]
  },
  {
   "cell_type": "code",
   "execution_count": null,
   "metadata": {},
   "outputs": [
    {
     "name": "stderr",
     "output_type": "stream",
     "text": [
      "/Users/freuxy/Library/Python/3.10/lib/python/site-packages/sklearn/linear_model/_logistic.py:458: ConvergenceWarning: lbfgs failed to converge (status=1):\n",
      "STOP: TOTAL NO. of ITERATIONS REACHED LIMIT.\n",
      "\n",
      "Increase the number of iterations (max_iter) or scale the data as shown in:\n",
      "    https://scikit-learn.org/stable/modules/preprocessing.html\n",
      "Please also refer to the documentation for alternative solver options:\n",
      "    https://scikit-learn.org/stable/modules/linear_model.html#logistic-regression\n",
      "  n_iter_i = _check_optimize_result(\n",
      "/Users/freuxy/Library/Python/3.10/lib/python/site-packages/sklearn/linear_model/_logistic.py:458: ConvergenceWarning: lbfgs failed to converge (status=1):\n",
      "STOP: TOTAL NO. of ITERATIONS REACHED LIMIT.\n",
      "\n",
      "Increase the number of iterations (max_iter) or scale the data as shown in:\n",
      "    https://scikit-learn.org/stable/modules/preprocessing.html\n",
      "Please also refer to the documentation for alternative solver options:\n",
      "    https://scikit-learn.org/stable/modules/linear_model.html#logistic-regression\n",
      "  n_iter_i = _check_optimize_result(\n"
     ]
    },
    {
     "data": {
      "text/plain": [
       "[LogisticRegression(max_iter=1000, multi_class='multinomial'), 2]"
      ]
     },
     "execution_count": 169,
     "metadata": {},
     "output_type": "execute_result"
    }
   ],
   "source": [
    "result=pd.DataFrame()\n",
    "models=[]\n",
    "score_train = []\n",
    "score_valid = []\n",
    "score_test= []\n",
    "for i in range (1,5):\n",
    "    poly = PolynomialFeatures(degree = i) \n",
    "    train_poly = pd.DataFrame(poly.fit_transform(train_data.iloc[:,0:19]))\n",
    "    valid_poly = pd.DataFrame(poly.fit_transform(validation.iloc[:,0:19]))\n",
    "    test_poly = pd.DataFrame(poly.fit_transform(test.iloc[:,0:19]))\n",
    "    mc_model = LogisticRegression(multi_class='multinomial', max_iter=1000).fit(train_poly, train_data.y)\n",
    "    score_train.append(mc_model.score(train_poly, train_data.y))\n",
    "    score_valid.append(mc_model.score(valid_poly, validation.y))\n",
    "    score_test.append(mc_model.score(test_poly, test.y))\n",
    "    models.append(mc_model)\n",
    "\n",
    "result['score_train'] = score_train\n",
    "result['score_valid'] = score_valid\n",
    "result['score_test'] = score_test\n",
    "result['models'] = models\n",
    "best_index = result['score_valid'].idxmax()\n",
    "rendu= [result['models'][best_index],best_index]\n",
    "\n",
    "rendu"
   ]
  },
  {
   "cell_type": "code",
   "execution_count": null,
   "metadata": {},
   "outputs": [
    {
     "data": {
      "text/html": [
       "<div>\n",
       "<style scoped>\n",
       "    .dataframe tbody tr th:only-of-type {\n",
       "        vertical-align: middle;\n",
       "    }\n",
       "\n",
       "    .dataframe tbody tr th {\n",
       "        vertical-align: top;\n",
       "    }\n",
       "\n",
       "    .dataframe thead th {\n",
       "        text-align: right;\n",
       "    }\n",
       "</style>\n",
       "<table border=\"1\" class=\"dataframe\">\n",
       "  <thead>\n",
       "    <tr style=\"text-align: right;\">\n",
       "      <th></th>\n",
       "      <th>score_train</th>\n",
       "      <th>score_valid</th>\n",
       "      <th>score_test</th>\n",
       "      <th>models</th>\n",
       "    </tr>\n",
       "  </thead>\n",
       "  <tbody>\n",
       "    <tr>\n",
       "      <th>0</th>\n",
       "      <td>0.943105</td>\n",
       "      <td>0.939481</td>\n",
       "      <td>0.924855</td>\n",
       "      <td>LogisticRegression(max_iter=1000, multi_class=...</td>\n",
       "    </tr>\n",
       "    <tr>\n",
       "      <th>1</th>\n",
       "      <td>0.981447</td>\n",
       "      <td>0.979827</td>\n",
       "      <td>0.959538</td>\n",
       "      <td>LogisticRegression(max_iter=1000, multi_class=...</td>\n",
       "    </tr>\n",
       "    <tr>\n",
       "      <th>2</th>\n",
       "      <td>0.991960</td>\n",
       "      <td>0.985591</td>\n",
       "      <td>0.962428</td>\n",
       "      <td>LogisticRegression(max_iter=1000, multi_class=...</td>\n",
       "    </tr>\n",
       "    <tr>\n",
       "      <th>3</th>\n",
       "      <td>0.996908</td>\n",
       "      <td>0.968300</td>\n",
       "      <td>0.971098</td>\n",
       "      <td>LogisticRegression(max_iter=1000, multi_class=...</td>\n",
       "    </tr>\n",
       "  </tbody>\n",
       "</table>\n",
       "</div>"
      ],
      "text/plain": [
       "   score_train  score_valid  score_test  \\\n",
       "0     0.943105     0.939481    0.924855   \n",
       "1     0.981447     0.979827    0.959538   \n",
       "2     0.991960     0.985591    0.962428   \n",
       "3     0.996908     0.968300    0.971098   \n",
       "\n",
       "                                              models  \n",
       "0  LogisticRegression(max_iter=1000, multi_class=...  \n",
       "1  LogisticRegression(max_iter=1000, multi_class=...  \n",
       "2  LogisticRegression(max_iter=1000, multi_class=...  \n",
       "3  LogisticRegression(max_iter=1000, multi_class=...  "
      ]
     },
     "execution_count": 171,
     "metadata": {},
     "output_type": "execute_result"
    }
   ],
   "source": [
    "result"
   ]
  },
  {
   "cell_type": "code",
   "execution_count": null,
   "metadata": {},
   "outputs": [],
   "source": [
    "err_gen=1-result['score_test'][best_index]"
   ]
  },
  {
   "cell_type": "code",
   "execution_count": null,
   "metadata": {},
   "outputs": [
    {
     "data": {
      "text/plain": [
       "0.037572254335260125"
      ]
     },
     "execution_count": 176,
     "metadata": {},
     "output_type": "execute_result"
    }
   ],
   "source": [
    "err_gen"
   ]
  },
  {
   "cell_type": "code",
   "execution_count": null,
   "metadata": {},
   "outputs": [],
   "source": [
    "def lr_model(data_train,data_valid,data_test,deb,fin):   \n",
    "    result=pd.DataFrame()\n",
    "    models=[]\n",
    "    score_train = []\n",
    "    score_valid = []\n",
    "    score_test= []\n",
    "    for i in range (1,4):\n",
    "        poly = PolynomialFeatures(degree = i) \n",
    "        train_poly = pd.DataFrame(poly.fit_transform(data_train.iloc[:,1:]))\n",
    "        valid_poly = pd.DataFrame(poly.fit_transform(data_valid.iloc[:,1:]))\n",
    "        test_poly = pd.DataFrame(poly.fit_transform(data_test.iloc[:,1:]))\n",
    "        mc_model = LogisticRegression(multi_class='multinomial', max_iter=1000).fit(train_poly.iloc[:,0:], data_train.label)\n",
    "        score_train.append(mc_model.score(train_poly.iloc[:,0:], data_train.label))\n",
    "        score_valid.append(mc_model.score(valid_poly.iloc[:,0:], data_valid.label))\n",
    "        score_test.append(mc_model.score(test_poly.iloc[:,0:], data_test.label))\n",
    "        models.append(mc_model)\n",
    "\n",
    "    result['score_train'] = score_train\n",
    "    result['score_valid'] = score_valid\n",
    "    result['score_test'] = score_test\n",
    "    result['models'] = models\n",
    "    best_index = result['score_valid'].idxmax()\n",
    "    model=result['models'][best_index]\n",
    "    return(result,model)\n"
   ]
  }
 ],
 "metadata": {
  "kernelspec": {
   "display_name": "Python 3",
   "language": "python",
   "name": "python3"
  },
  "language_info": {
   "codemirror_mode": {
    "name": "ipython",
    "version": 3
   },
   "file_extension": ".py",
   "mimetype": "text/x-python",
   "name": "python",
   "nbconvert_exporter": "python",
   "pygments_lexer": "ipython3",
   "version": "3.12.0"
  }
 },
 "nbformat": 4,
 "nbformat_minor": 4
}
