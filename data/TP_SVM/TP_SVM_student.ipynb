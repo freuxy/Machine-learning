{
 "cells": [
  {
   "cell_type": "code",
   "execution_count": 78,
   "metadata": {},
   "outputs": [],
   "source": [
    "import numpy as np\n",
    "import pandas as pd\n",
    "import matplotlib.pyplot as plt\n",
    "import matplotlib\n",
    "from sklearn.model_selection import train_test_split\n",
    "import math\n",
    "import random\n",
    "from random import uniform\n",
    "from sklearn import svm"
   ]
  },
  {
   "cell_type": "markdown",
   "metadata": {},
   "source": [
    "# Exercise 1 : Linear SVM - Influence of parameter C"
   ]
  },
  {
   "cell_type": "raw",
   "metadata": {},
   "source": [
    "Let's load a dataset first"
   ]
  },
  {
   "cell_type": "code",
   "execution_count": 79,
   "metadata": {},
   "outputs": [
    {
     "data": {
      "text/html": [
       "<div>\n",
       "<style scoped>\n",
       "    .dataframe tbody tr th:only-of-type {\n",
       "        vertical-align: middle;\n",
       "    }\n",
       "\n",
       "    .dataframe tbody tr th {\n",
       "        vertical-align: top;\n",
       "    }\n",
       "\n",
       "    .dataframe thead th {\n",
       "        text-align: right;\n",
       "    }\n",
       "</style>\n",
       "<table border=\"1\" class=\"dataframe\">\n",
       "  <thead>\n",
       "    <tr style=\"text-align: right;\">\n",
       "      <th></th>\n",
       "      <th>x1</th>\n",
       "      <th>x2</th>\n",
       "      <th>y</th>\n",
       "    </tr>\n",
       "  </thead>\n",
       "  <tbody>\n",
       "    <tr>\n",
       "      <th>0</th>\n",
       "      <td>10.00</td>\n",
       "      <td>5.00</td>\n",
       "      <td>1</td>\n",
       "    </tr>\n",
       "    <tr>\n",
       "      <th>1</th>\n",
       "      <td>9.50</td>\n",
       "      <td>10.00</td>\n",
       "      <td>-1</td>\n",
       "    </tr>\n",
       "    <tr>\n",
       "      <th>2</th>\n",
       "      <td>2.30</td>\n",
       "      <td>5.25</td>\n",
       "      <td>-1</td>\n",
       "    </tr>\n",
       "    <tr>\n",
       "      <th>3</th>\n",
       "      <td>3.40</td>\n",
       "      <td>3.88</td>\n",
       "      <td>-1</td>\n",
       "    </tr>\n",
       "    <tr>\n",
       "      <th>4</th>\n",
       "      <td>7.66</td>\n",
       "      <td>4.46</td>\n",
       "      <td>-1</td>\n",
       "    </tr>\n",
       "    <tr>\n",
       "      <th>...</th>\n",
       "      <td>...</td>\n",
       "      <td>...</td>\n",
       "      <td>...</td>\n",
       "    </tr>\n",
       "    <tr>\n",
       "      <th>147</th>\n",
       "      <td>15.01</td>\n",
       "      <td>15.67</td>\n",
       "      <td>1</td>\n",
       "    </tr>\n",
       "    <tr>\n",
       "      <th>148</th>\n",
       "      <td>16.05</td>\n",
       "      <td>14.70</td>\n",
       "      <td>1</td>\n",
       "    </tr>\n",
       "    <tr>\n",
       "      <th>149</th>\n",
       "      <td>15.65</td>\n",
       "      <td>18.23</td>\n",
       "      <td>1</td>\n",
       "    </tr>\n",
       "    <tr>\n",
       "      <th>150</th>\n",
       "      <td>18.85</td>\n",
       "      <td>17.43</td>\n",
       "      <td>1</td>\n",
       "    </tr>\n",
       "    <tr>\n",
       "      <th>151</th>\n",
       "      <td>17.25</td>\n",
       "      <td>15.21</td>\n",
       "      <td>1</td>\n",
       "    </tr>\n",
       "  </tbody>\n",
       "</table>\n",
       "<p>152 rows × 3 columns</p>\n",
       "</div>"
      ],
      "text/plain": [
       "        x1     x2  y\n",
       "0    10.00   5.00  1\n",
       "1     9.50  10.00 -1\n",
       "2     2.30   5.25 -1\n",
       "3     3.40   3.88 -1\n",
       "4     7.66   4.46 -1\n",
       "..     ...    ... ..\n",
       "147  15.01  15.67  1\n",
       "148  16.05  14.70  1\n",
       "149  15.65  18.23  1\n",
       "150  18.85  17.43  1\n",
       "151  17.25  15.21  1\n",
       "\n",
       "[152 rows x 3 columns]"
      ]
     },
     "execution_count": 79,
     "metadata": {},
     "output_type": "execute_result"
    }
   ],
   "source": [
    "dataset = pd.read_csv('LineaireNoisy2.csv', delimiter=';')\n",
    "dataset"
   ]
  },
  {
   "cell_type": "raw",
   "metadata": {},
   "source": [
    "As you can see, we have here 152 examples described by 2 numerical variables (x1 and x2) and 1 categorical target variable (y).\n",
    "Question : What are the possible values for y ? How many examples for each possible values of y ?"
   ]
  },
  {
   "cell_type": "code",
   "execution_count": 80,
   "metadata": {},
   "outputs": [
    {
     "data": {
      "text/plain": [
       " 1    76\n",
       "-1    76\n",
       "Name: y, dtype: int64"
      ]
     },
     "execution_count": 80,
     "metadata": {},
     "output_type": "execute_result"
    }
   ],
   "source": [
    "dataset['y'].value_counts(normalize=False)"
   ]
  },
  {
   "cell_type": "code",
   "execution_count": null,
   "metadata": {},
   "outputs": [],
   "source": []
  },
  {
   "cell_type": "raw",
   "metadata": {},
   "source": [
    "Question : Plot this dataset in a (x1, x2) plane, with different colors for the values of y."
   ]
  },
  {
   "cell_type": "code",
   "execution_count": 81,
   "metadata": {},
   "outputs": [
    {
     "data": {
      "image/png": "[encoded data removed]",
      "text/plain": [
       "<Figure size 640x480 with 1 Axes>"
      ]
     },
     "metadata": {},
     "output_type": "display_data"
    }
   ],
   "source": [
    "fig, ax = plt.subplots()       \n",
    "colors = {-1:\"red\", 1:\"blue\"}\n",
    "ax.scatter(dataset['x1'], dataset['x2'], c=dataset['y'].map(colors))\n",
    "plt.show()"
   ]
  },
  {
   "cell_type": "raw",
   "metadata": {},
   "source": [
    "Question : Is this dataset linearly separable ? Find some examples that are close to the boundary"
   ]
  },
  {
   "cell_type": "raw",
   "metadata": {},
   "source": []
  },
  {
   "cell_type": "markdown",
   "metadata": {},
   "source": [
    "## Fitting a linear SVM to this dataset"
   ]
  },
  {
   "cell_type": "code",
   "execution_count": null,
   "metadata": {},
   "outputs": [],
   "source": []
  },
  {
   "cell_type": "code",
   "execution_count": 82,
   "metadata": {},
   "outputs": [],
   "source": [
    "model_svm = svm.SVC(C = 1000, kernel = 'linear')\n",
    "# here SVC stands for Support Vector Classification (there are other kinds of SVM),and we ask for a linear kernel\n",
    "# The parameter C is set to 1000"
   ]
  },
  {
   "cell_type": "code",
   "execution_count": 83,
   "metadata": {},
   "outputs": [
    {
     "data": {
      "text/html": [
       "<style>#sk-container-id-11 {color: black;background-color: white;}#sk-container-id-11 pre{padding: 0;}#sk-container-id-11 div.sk-toggleable {background-color: white;}#sk-container-id-11 label.sk-toggleable__label {cursor: pointer;display: block;width: 100%;margin-bottom: 0;padding: 0.3em;box-sizing: border-box;text-align: center;}#sk-container-id-11 label.sk-toggleable__label-arrow:before {content: \"▸\";float: left;margin-right: 0.25em;color: #696969;}#sk-container-id-11 label.sk-toggleable__label-arrow:hover:before {color: black;}#sk-container-id-11 div.sk-estimator:hover label.sk-toggleable__label-arrow:before {color: black;}#sk-container-id-11 div.sk-toggleable__content {max-height: 0;max-width: 0;overflow: hidden;text-align: left;background-color: #f0f8ff;}#sk-container-id-11 div.sk-toggleable__content pre {margin: 0.2em;color: black;border-radius: 0.25em;background-color: #f0f8ff;}#sk-container-id-11 input.sk-toggleable__control:checked~div.sk-toggleable__content {max-height: 200px;max-width: 100%;overflow: auto;}#sk-container-id-11 input.sk-toggleable__control:checked~label.sk-toggleable__label-arrow:before {content: \"▾\";}#sk-container-id-11 div.sk-estimator input.sk-toggleable__control:checked~label.sk-toggleable__label {background-color: #d4ebff;}#sk-container-id-11 div.sk-label input.sk-toggleable__control:checked~label.sk-toggleable__label {background-color: #d4ebff;}#sk-container-id-11 input.sk-hidden--visually {border: 0;clip: rect(1px 1px 1px 1px);clip: rect(1px, 1px, 1px, 1px);height: 1px;margin: -1px;overflow: hidden;padding: 0;position: absolute;width: 1px;}#sk-container-id-11 div.sk-estimator {font-family: monospace;background-color: #f0f8ff;border: 1px dotted black;border-radius: 0.25em;box-sizing: border-box;margin-bottom: 0.5em;}#sk-container-id-11 div.sk-estimator:hover {background-color: #d4ebff;}#sk-container-id-11 div.sk-parallel-item::after {content: \"\";width: 100%;border-bottom: 1px solid gray;flex-grow: 1;}#sk-container-id-11 div.sk-label:hover label.sk-toggleable__label {background-color: #d4ebff;}#sk-container-id-11 div.sk-serial::before {content: \"\";position: absolute;border-left: 1px solid gray;box-sizing: border-box;top: 0;bottom: 0;left: 50%;z-index: 0;}#sk-container-id-11 div.sk-serial {display: flex;flex-direction: column;align-items: center;background-color: white;padding-right: 0.2em;padding-left: 0.2em;position: relative;}#sk-container-id-11 div.sk-item {position: relative;z-index: 1;}#sk-container-id-11 div.sk-parallel {display: flex;align-items: stretch;justify-content: center;background-color: white;position: relative;}#sk-container-id-11 div.sk-item::before, #sk-container-id-11 div.sk-parallel-item::before {content: \"\";position: absolute;border-left: 1px solid gray;box-sizing: border-box;top: 0;bottom: 0;left: 50%;z-index: -1;}#sk-container-id-11 div.sk-parallel-item {display: flex;flex-direction: column;z-index: 1;position: relative;background-color: white;}#sk-container-id-11 div.sk-parallel-item:first-child::after {align-self: flex-end;width: 50%;}#sk-container-id-11 div.sk-parallel-item:last-child::after {align-self: flex-start;width: 50%;}#sk-container-id-11 div.sk-parallel-item:only-child::after {width: 0;}#sk-container-id-11 div.sk-dashed-wrapped {border: 1px dashed gray;margin: 0 0.4em 0.5em 0.4em;box-sizing: border-box;padding-bottom: 0.4em;background-color: white;}#sk-container-id-11 div.sk-label label {font-family: monospace;font-weight: bold;display: inline-block;line-height: 1.2em;}#sk-container-id-11 div.sk-label-container {text-align: center;}#sk-container-id-11 div.sk-container {/* jupyter's `normalize.less` sets `[hidden] { display: none; }` but bootstrap.min.css set `[hidden] { display: none !important; }` so we also need the `!important` here to be able to override the default hidden behavior on the sphinx rendered scikit-learn.org. See: https://github.com/scikit-learn/scikit-learn/issues/21755 */display: inline-block !important;position: relative;}#sk-container-id-11 div.sk-text-repr-fallback {display: none;}</style><div id=\"sk-container-id-11\" class=\"sk-top-container\"><div class=\"sk-text-repr-fallback\"><pre>SVC(C=1000, kernel=&#x27;linear&#x27;)</pre><b>In a Jupyter environment, please rerun this cell to show the HTML representation or trust the notebook. <br />On GitHub, the HTML representation is unable to render, please try loading this page with nbviewer.org.</b></div><div class=\"sk-container\" hidden><div class=\"sk-item\"><div class=\"sk-estimator sk-toggleable\"><input class=\"sk-toggleable__control sk-hidden--visually\" id=\"sk-estimator-id-11\" type=\"checkbox\" checked><label for=\"sk-estimator-id-11\" class=\"sk-toggleable__label sk-toggleable__label-arrow\">SVC</label><div class=\"sk-toggleable__content\"><pre>SVC(C=1000, kernel=&#x27;linear&#x27;)</pre></div></div></div></div></div>"
      ],
      "text/plain": [
       "SVC(C=1000, kernel='linear')"
      ]
     },
     "execution_count": 83,
     "metadata": {},
     "output_type": "execute_result"
    }
   ],
   "source": [
    "model_svm.fit(dataset.iloc[:,0:2], dataset.y)\n",
    "# here we ask to fit the model using the features (x1 and x2) and the target (y)"
   ]
  },
  {
   "cell_type": "raw",
   "metadata": {},
   "source": [
    "In the CM, you have seen that when fitting a SVC model, some support vectors are identified and one coefficient (called weight or Lagrange coefficient) is associated to each support vector. In addition, one more parameter is also estimated: the constant of the model.\n",
    "We can find these informations bt the following commands:"
   ]
  },
  {
   "cell_type": "code",
   "execution_count": 84,
   "metadata": {},
   "outputs": [
    {
     "data": {
      "text/plain": [
       "array([[ 9.41,  6.97],\n",
       "       [10.  ,  5.  ],\n",
       "       [10.78, 18.49]])"
      ]
     },
     "execution_count": 84,
     "metadata": {},
     "output_type": "execute_result"
    }
   ],
   "source": [
    "model_svm.support_vectors_\n",
    "# the support vectors found by the SVC. Here 3 support vectors, called sv1, sv2 and sv3"
   ]
  },
  {
   "cell_type": "code",
   "execution_count": 85,
   "metadata": {},
   "outputs": [
    {
     "data": {
      "text/plain": [
       "array([ 61,   0, 102], dtype=int32)"
      ]
     },
     "execution_count": 85,
     "metadata": {},
     "output_type": "execute_result"
    }
   ],
   "source": [
    "model_svm.support_\n",
    "# the index of the support vectors in the dataset. you can check "
   ]
  },
  {
   "cell_type": "code",
   "execution_count": 86,
   "metadata": {},
   "outputs": [
    {
     "data": {
      "text/plain": [
       "array([[-4.04838982,  3.46935572,  0.5790341 ]])"
      ]
     },
     "execution_count": 86,
     "metadata": {},
     "output_type": "execute_result"
    }
   ],
   "source": [
    "model_svm.dual_coef_\n",
    "# the lagrange coefficients associated to the support vectors (w1, w2 and w3)"
   ]
  },
  {
   "cell_type": "code",
   "execution_count": 87,
   "metadata": {},
   "outputs": [
    {
     "data": {
      "text/plain": [
       "array([-26.58177221])"
      ]
     },
     "execution_count": 87,
     "metadata": {},
     "output_type": "execute_result"
    }
   ],
   "source": [
    "model_svm.intercept_\n",
    "# the constant of the model (w0)"
   ]
  },
  {
   "cell_type": "raw",
   "metadata": {},
   "source": [
    "When a model is fitted, it can be used to make some predictions. We'll recall the decision process of a SVC here.\n",
    "For an example described by a feature vector x (here with 2 features), the model computes:\n",
    "h(x) = w1* (sv1.x) + w2*(sv2.x) + w3 * (sv3.x) + w0 \n",
    "here there is 3 support vectors, so three terms in this formula, plus the constant\n",
    "then if h(x) > 0, it predicts y = 1, otherwise it predicts y = -1 (here it is binary classification)\n",
    "You can obtain the h(x) values for the examples in the dataset by the following command:"
   ]
  },
  {
   "cell_type": "code",
   "execution_count": 88,
   "metadata": {},
   "outputs": [
    {
     "data": {
      "text/plain": [
       "array([  0.99940407,  -1.24148389, -20.91114918, -17.56203656,\n",
       "        -5.55801067, -10.10889154,  -3.90822106, -21.76685665,\n",
       "       -10.39666304, -18.76130279, -13.09448448, -15.41565599,\n",
       "       -22.18728362,  -3.62255982, -16.27032034, -17.78695937,\n",
       "        -7.43350422, -17.49256868, -17.13473082,  -7.38326661,\n",
       "       -19.5516331 , -12.85908729, -16.87859157, -18.21741848,\n",
       "        -4.32685023, -10.06558557,  -6.0540296 , -12.56078853,\n",
       "       -12.99192542, -11.72582313,  -7.3553862 , -12.18372041,\n",
       "        -7.47457014, -24.64741494, -10.16024918, -18.04301931,\n",
       "       -14.80785344, -21.27232307,  -1.34003152, -17.23762877,\n",
       "        -7.28068112, -13.86615894, -19.43865014, -10.60139177,\n",
       "        -7.27870065, -10.47191611,  -5.97833429, -10.88212828,\n",
       "        -3.49899913, -12.14974236,  -4.26845759, -20.12147022,\n",
       "       -11.9679693 , -11.42929574, -14.07039256, -24.64824895,\n",
       "        -6.91064799, -19.1329775 , -16.77089868,  -8.609971  ,\n",
       "        -9.54137378,  -0.99970304, -10.91975481,  -7.86935675,\n",
       "       -19.29142955,  -9.86622382, -13.47327349, -21.38481091,\n",
       "       -12.16303122,  -3.04138787, -18.88973774,  -6.08563542,\n",
       "       -11.23397424, -21.91339945, -21.53578334, -24.28360924,\n",
       "       -10.94026133,  11.17421548,  19.20404996,   9.92861971,\n",
       "        20.03091321,  13.13832788,  16.69910087,   8.34470237,\n",
       "        13.68124839,  12.45511842,  15.96721608,   4.13081394,\n",
       "        16.63815334,  14.39411201,  19.83746643,   5.63744726,\n",
       "        19.67263072,  11.46438326,  19.11986073,  17.72779908,\n",
       "         4.53487799,  18.03120523,  21.22731209,   9.7979447 ,\n",
       "        13.76173865,  23.24992287,   1.00026691,  22.67359873,\n",
       "        11.25139614,  23.45449538,   5.03868662,  12.51364085,\n",
       "        11.64227468,   9.52888192,  16.39600717,  15.81851014,\n",
       "        16.62528268,   6.20978641,  16.19787119,  26.19585832,\n",
       "        23.10254606,   8.46878461,   8.73326155,  18.9249286 ,\n",
       "         4.38789055,  11.97306614,  16.02847607,  15.56403891,\n",
       "        13.53293421,  16.8728487 ,   4.88588995,   9.80372989,\n",
       "        18.22183753,  10.02690537,   8.79188972,  15.36751807,\n",
       "        15.81861349,  11.76604448,   6.34606393,   5.872532  ,\n",
       "        13.78159383,   9.90850494,   9.55921149,  24.05111932,\n",
       "        15.08263797,   4.53881249,  15.33236712,  22.02290602,\n",
       "        15.70107113,  15.28296352,  13.41395698,  13.47722387,\n",
       "        16.59026152,  14.87470538,  24.09466083,  19.91477689])"
      ]
     },
     "execution_count": 88,
     "metadata": {},
     "output_type": "execute_result"
    }
   ],
   "source": [
    "model_svm.decision_function(dataset.iloc[:,0:2])"
   ]
  },
  {
   "cell_type": "raw",
   "metadata": {},
   "source": [
    "Question : what are the decisions (predictions of y) for the 2 first examples of the dataset ? Are these decisions correct ?"
   ]
  },
  {
   "cell_type": "raw",
   "metadata": {},
   "source": [
    "Yes"
   ]
  },
  {
   "cell_type": "raw",
   "metadata": {},
   "source": [
    "Question : what are the decision values for the 3 support vectors ? Was it expected ?"
   ]
  },
  {
   "cell_type": "code",
   "execution_count": 89,
   "metadata": {},
   "outputs": [
    {
     "name": "stdout",
     "output_type": "stream",
     "text": [
      "[-0.99970304]\n",
      "[0.99940407]\n",
      "[1.00026691]\n"
     ]
    }
   ],
   "source": [
    "for elt in model_svm.support_:\n",
    "    print(model_svm.decision_function(dataset.iloc[[elt],0:2]))\n"
   ]
  },
  {
   "cell_type": "raw",
   "metadata": {},
   "source": [
    "Question : without any command or computation, what should be the prediction score of this model on the examples of dataset ?"
   ]
  },
  {
   "cell_type": "raw",
   "metadata": {},
   "source": [
    "Les données sont linéairement séparables et vu la taille de C il n'y a pas d'erreur possibles"
   ]
  },
  {
   "cell_type": "raw",
   "metadata": {},
   "source": [
    "Question : using the score function applied to svm_model on dataset, compute the prediction score on this dataset (same use of score function than previous algorithms). "
   ]
  },
  {
   "cell_type": "code",
   "execution_count": 90,
   "metadata": {},
   "outputs": [
    {
     "data": {
      "text/plain": [
       "1.0"
      ]
     },
     "execution_count": 90,
     "metadata": {},
     "output_type": "execute_result"
    }
   ],
   "source": [
    "model_svm.predict(dataset.iloc[:,0:2])\n",
    "model_svm.score(dataset.iloc[:,0:2], dataset.y)\n",
    "#dataset"
   ]
  },
  {
   "cell_type": "raw",
   "metadata": {},
   "source": [
    "Run the following cells to see a plot of your dataset together with the decision boundary and the margins.\n",
    "Question : Does this boundary seem adapted to the dataset ?"
   ]
  },
  {
   "cell_type": "code",
   "execution_count": 91,
   "metadata": {},
   "outputs": [],
   "source": [
    "def svm_draw(model_svm, xmin, xmax, dataset):\n",
    "    \n",
    "    color_map = matplotlib.colors.ListedColormap(pd.Series(['blue', 'red']))\n",
    "\n",
    "\n",
    "    plt.figure(figsize=(10, 8))\n",
    "    # Plotting our two-features-space\n",
    "    plt.scatter(dataset.iloc[:,0], dataset.iloc[:,1], c = dataset.y, cmap = color_map, marker='+')\n",
    "    # Constructing a hyperplane using a formula.\n",
    "    w = model_svm.coef_[0]           # w consists of 2 elements\n",
    "    b = model_svm.intercept_[0]      # b consists of 1 element\n",
    "    x_points = np.linspace(xmin, xmax)    # generating x-points from -1 to 1\n",
    "    y_points = -(w[0] / w[1]) * x_points - b / w[1]  # getting corresponding y-points\n",
    "\n",
    "    plt.plot(x_points, y_points, c='g');\n",
    "\n",
    "    plt.scatter(model_svm.support_vectors_[:, 0],\n",
    "                model_svm.support_vectors_[:, 1], \n",
    "                s=50, \n",
    "                facecolors='none', \n",
    "                edgecolors='k', \n",
    "                alpha=1);\n",
    "\n",
    "    # Step 2 (unit-vector):\n",
    "    w_hat = model_svm.coef_[0] / (np.sqrt(np.sum(model_svm.coef_[0] ** 2)))\n",
    "    # Step 3 (margin):\n",
    "    margin = 1 / np.sqrt(np.sum(model_svm.coef_[0] ** 2))\n",
    "    # Step 4 (calculate points of the margin lines):\n",
    "    decision_boundary_points = np.array(list(zip(x_points, y_points)))\n",
    "    points_of_line_above = decision_boundary_points + w_hat * margin\n",
    "    points_of_line_below = decision_boundary_points - w_hat * margin\n",
    "    # Plot margin lines\n",
    "    # Blue margin line above\n",
    "    plt.plot(points_of_line_above[:, 0], \n",
    "             points_of_line_above[:, 1], \n",
    "             'g--', \n",
    "             linewidth=2)\n",
    "    # Green margin line below\n",
    "    plt.plot(points_of_line_below[:, 0], \n",
    "             points_of_line_below[:, 1], \n",
    "             'g--',\n",
    "             linewidth=2)"
   ]
  },
  {
   "cell_type": "code",
   "execution_count": 92,
   "metadata": {},
   "outputs": [
    {
     "data": {
      "image/png": "[encoded data removed]",
      "text/plain": [
       "<Figure size 1000x800 with 1 Axes>"
      ]
     },
     "metadata": {},
     "output_type": "display_data"
    }
   ],
   "source": [
    "svm_draw(model_svm, 9.3, 10.7, dataset)"
   ]
  },
  {
   "cell_type": "raw",
   "metadata": {},
   "source": [
    "Even if the dataset is linearly separable, this boundary is not very adapted. because C is very high the model favours no training error. a diagonal line would have been more adapted by it would have made a few errors, that are penalized by the high value of C"
   ]
  },
  {
   "cell_type": "raw",
   "metadata": {},
   "source": [
    "We will now try a smaller value of C to understand its influence.\n",
    "Questions : \n",
    " - Fit a model with C = 1\n",
    " - How many support vectors are selected ?\n",
    " - Plot the new boundary and margins\n",
    " - How many points are inside the margins ? on the margins ?\n",
    " - How many points from the dataset are misclassified ?\n",
    " - What are the values of h(x) for the support vectors ?"
   ]
  },
  {
   "cell_type": "code",
   "execution_count": 93,
   "metadata": {},
   "outputs": [],
   "source": [
    "model_svm = svm.SVC(C = 1, kernel = 'linear')\n",
    "# here SVC stands for Support Vector Classification (there are other kinds of SVM),and we ask for a linear kernel\n",
    "# The parameter C is set to 1"
   ]
  },
  {
   "cell_type": "code",
   "execution_count": 94,
   "metadata": {},
   "outputs": [
    {
     "data": {
      "text/html": [
       "<style>#sk-container-id-12 {color: black;background-color: white;}#sk-container-id-12 pre{padding: 0;}#sk-container-id-12 div.sk-toggleable {background-color: white;}#sk-container-id-12 label.sk-toggleable__label {cursor: pointer;display: block;width: 100%;margin-bottom: 0;padding: 0.3em;box-sizing: border-box;text-align: center;}#sk-container-id-12 label.sk-toggleable__label-arrow:before {content: \"▸\";float: left;margin-right: 0.25em;color: #696969;}#sk-container-id-12 label.sk-toggleable__label-arrow:hover:before {color: black;}#sk-container-id-12 div.sk-estimator:hover label.sk-toggleable__label-arrow:before {color: black;}#sk-container-id-12 div.sk-toggleable__content {max-height: 0;max-width: 0;overflow: hidden;text-align: left;background-color: #f0f8ff;}#sk-container-id-12 div.sk-toggleable__content pre {margin: 0.2em;color: black;border-radius: 0.25em;background-color: #f0f8ff;}#sk-container-id-12 input.sk-toggleable__control:checked~div.sk-toggleable__content {max-height: 200px;max-width: 100%;overflow: auto;}#sk-container-id-12 input.sk-toggleable__control:checked~label.sk-toggleable__label-arrow:before {content: \"▾\";}#sk-container-id-12 div.sk-estimator input.sk-toggleable__control:checked~label.sk-toggleable__label {background-color: #d4ebff;}#sk-container-id-12 div.sk-label input.sk-toggleable__control:checked~label.sk-toggleable__label {background-color: #d4ebff;}#sk-container-id-12 input.sk-hidden--visually {border: 0;clip: rect(1px 1px 1px 1px);clip: rect(1px, 1px, 1px, 1px);height: 1px;margin: -1px;overflow: hidden;padding: 0;position: absolute;width: 1px;}#sk-container-id-12 div.sk-estimator {font-family: monospace;background-color: #f0f8ff;border: 1px dotted black;border-radius: 0.25em;box-sizing: border-box;margin-bottom: 0.5em;}#sk-container-id-12 div.sk-estimator:hover {background-color: #d4ebff;}#sk-container-id-12 div.sk-parallel-item::after {content: \"\";width: 100%;border-bottom: 1px solid gray;flex-grow: 1;}#sk-container-id-12 div.sk-label:hover label.sk-toggleable__label {background-color: #d4ebff;}#sk-container-id-12 div.sk-serial::before {content: \"\";position: absolute;border-left: 1px solid gray;box-sizing: border-box;top: 0;bottom: 0;left: 50%;z-index: 0;}#sk-container-id-12 div.sk-serial {display: flex;flex-direction: column;align-items: center;background-color: white;padding-right: 0.2em;padding-left: 0.2em;position: relative;}#sk-container-id-12 div.sk-item {position: relative;z-index: 1;}#sk-container-id-12 div.sk-parallel {display: flex;align-items: stretch;justify-content: center;background-color: white;position: relative;}#sk-container-id-12 div.sk-item::before, #sk-container-id-12 div.sk-parallel-item::before {content: \"\";position: absolute;border-left: 1px solid gray;box-sizing: border-box;top: 0;bottom: 0;left: 50%;z-index: -1;}#sk-container-id-12 div.sk-parallel-item {display: flex;flex-direction: column;z-index: 1;position: relative;background-color: white;}#sk-container-id-12 div.sk-parallel-item:first-child::after {align-self: flex-end;width: 50%;}#sk-container-id-12 div.sk-parallel-item:last-child::after {align-self: flex-start;width: 50%;}#sk-container-id-12 div.sk-parallel-item:only-child::after {width: 0;}#sk-container-id-12 div.sk-dashed-wrapped {border: 1px dashed gray;margin: 0 0.4em 0.5em 0.4em;box-sizing: border-box;padding-bottom: 0.4em;background-color: white;}#sk-container-id-12 div.sk-label label {font-family: monospace;font-weight: bold;display: inline-block;line-height: 1.2em;}#sk-container-id-12 div.sk-label-container {text-align: center;}#sk-container-id-12 div.sk-container {/* jupyter's `normalize.less` sets `[hidden] { display: none; }` but bootstrap.min.css set `[hidden] { display: none !important; }` so we also need the `!important` here to be able to override the default hidden behavior on the sphinx rendered scikit-learn.org. See: https://github.com/scikit-learn/scikit-learn/issues/21755 */display: inline-block !important;position: relative;}#sk-container-id-12 div.sk-text-repr-fallback {display: none;}</style><div id=\"sk-container-id-12\" class=\"sk-top-container\"><div class=\"sk-text-repr-fallback\"><pre>SVC(C=1, kernel=&#x27;linear&#x27;)</pre><b>In a Jupyter environment, please rerun this cell to show the HTML representation or trust the notebook. <br />On GitHub, the HTML representation is unable to render, please try loading this page with nbviewer.org.</b></div><div class=\"sk-container\" hidden><div class=\"sk-item\"><div class=\"sk-estimator sk-toggleable\"><input class=\"sk-toggleable__control sk-hidden--visually\" id=\"sk-estimator-id-12\" type=\"checkbox\" checked><label for=\"sk-estimator-id-12\" class=\"sk-toggleable__label sk-toggleable__label-arrow\">SVC</label><div class=\"sk-toggleable__content\"><pre>SVC(C=1, kernel=&#x27;linear&#x27;)</pre></div></div></div></div></div>"
      ],
      "text/plain": [
       "SVC(C=1, kernel='linear')"
      ]
     },
     "execution_count": 94,
     "metadata": {},
     "output_type": "execute_result"
    }
   ],
   "source": [
    "model_svm.fit(dataset.iloc[:,0:2], dataset.y)\n",
    "# here we ask to fit the model using the features (x1 and x2) and the target (y)"
   ]
  },
  {
   "cell_type": "code",
   "execution_count": 95,
   "metadata": {},
   "outputs": [
    {
     "data": {
      "image/png": "[encoded data removed]",
      "text/plain": [
       "<Figure size 1000x800 with 1 Axes>"
      ]
     },
     "metadata": {},
     "output_type": "display_data"
    }
   ],
   "source": [
    "svm_draw(model_svm, 9.3, 10.7, dataset)"
   ]
  },
  {
   "cell_type": "code",
   "execution_count": 96,
   "metadata": {},
   "outputs": [
    {
     "name": "stdout",
     "output_type": "stream",
     "text": [
      "Le nombre de points dans la marge est 4 avec un point mal placé\n"
     ]
    }
   ],
   "source": [
    "print(\"Le nombre de points dans la marge est 4 avec un point mal placé\")"
   ]
  },
  {
   "cell_type": "code",
   "execution_count": 97,
   "metadata": {},
   "outputs": [
    {
     "data": {
      "text/plain": [
       "array([ -0.43553644,  -0.77124977,  -8.89260688,  -7.74159938,\n",
       "        -3.03198842,  -4.78981348,  -2.30276606,  -9.47926821,\n",
       "        -4.73314161,  -8.07296277,  -5.52026292,  -7.04990094,\n",
       "        -9.49842957,  -2.1932232 ,  -7.23187758,  -7.86698876,\n",
       "        -3.61028944,  -7.55724499,  -7.83467545,  -3.58658208,\n",
       "        -8.38216681,  -5.61849182,  -7.53335908,  -8.01238266,\n",
       "        -2.37761785,  -5.02199746,  -3.58364186,  -5.5306532 ,\n",
       "        -5.8231273 ,  -5.34353714,  -3.77792731,  -5.64743664,\n",
       "        -3.78364671, -10.42119227,  -4.61075021,  -7.61611196,\n",
       "        -6.58263301,  -8.98244864,  -1.11368147,  -7.60535116,\n",
       "        -3.70538206,  -6.23929106,  -8.11712977,  -4.84539246,\n",
       "        -3.63227025,  -5.19209358,  -3.47454071,  -4.95622016,\n",
       "        -2.57519538,  -5.67470857,  -2.72418069,  -8.54641865,\n",
       "        -5.37239734,  -5.0159437 ,  -6.33326396, -10.51301032,\n",
       "        -3.65466592,  -8.12325062,  -7.52464168,  -4.07645106,\n",
       "        -4.77221355,  -0.99999406,  -5.18569615,  -3.58861205,\n",
       "        -8.35801774,  -4.55861093,  -5.95524437,  -9.22920772,\n",
       "        -5.61602015,  -1.97670721,  -8.48122544,  -3.04158923,\n",
       "        -5.25097397,  -9.09130005,  -8.82167675, -10.29522289,\n",
       "        -5.0883104 ,   4.73290573,   7.55264165,   4.15592982,\n",
       "         8.4781567 ,   5.10401498,   6.62316469,   3.7224427 ,\n",
       "         5.31210358,   5.39270571,   6.33552659,   1.71103284,\n",
       "         6.32614459,   5.75196129,   8.05004122,   2.40397588,\n",
       "         7.94578949,   4.21543045,   7.74027061,   6.94380755,\n",
       "         2.10260583,   7.15916356,   8.27646144,   4.1532084 ,\n",
       "         5.65924641,   9.03726542,   0.9999945 ,   9.42691989,\n",
       "         4.89684074,   9.20477842,   2.02638457,   4.80681634,\n",
       "         4.92371122,   4.16818495,   6.29728439,   6.5215807 ,\n",
       "         7.01056628,   2.84368188,   6.36738479,  10.25664677,\n",
       "         9.33341554,   3.54281286,   3.60266127,   7.25732127,\n",
       "         1.68077634,   4.92944405,   6.52202241,   6.40390044,\n",
       "         5.93982656,   7.05641959,   2.30554159,   4.42780599,\n",
       "         7.42234917,   3.8173661 ,   3.75302946,   6.28950817,\n",
       "         6.09818977,   4.85460568,   2.99219864,   2.41627126,\n",
       "         5.59884485,   4.69498445,   3.88416509,   9.56452005,\n",
       "         5.90365459,   2.06476507,   6.15142195,   8.65792072,\n",
       "         6.09204208,   6.21953263,   5.0873253 ,   5.53099732,\n",
       "         6.63315353,   6.34445348,   9.82926709,   7.97464969])"
      ]
     },
     "execution_count": 97,
     "metadata": {},
     "output_type": "execute_result"
    }
   ],
   "source": [
    "model_svm.decision_function(dataset.iloc[:,0:2])"
   ]
  },
  {
   "cell_type": "raw",
   "metadata": {},
   "source": [
    "Questions : Same questions for C = 0.01.\n",
    "you'll have to modify xmin and xmax in the svm_draw function to 3 and 17"
   ]
  },
  {
   "cell_type": "code",
   "execution_count": 98,
   "metadata": {},
   "outputs": [],
   "source": [
    "model_svm = svm.SVC(C = 0.01, kernel = 'linear')\n",
    "# here SVC stands for Support Vector Classification (there are other kinds of SVM),and we ask for a linear kernel\n",
    "# The parameter C is set to 1"
   ]
  },
  {
   "cell_type": "code",
   "execution_count": 99,
   "metadata": {},
   "outputs": [
    {
     "data": {
      "text/html": [
       "<style>#sk-container-id-13 {color: black;background-color: white;}#sk-container-id-13 pre{padding: 0;}#sk-container-id-13 div.sk-toggleable {background-color: white;}#sk-container-id-13 label.sk-toggleable__label {cursor: pointer;display: block;width: 100%;margin-bottom: 0;padding: 0.3em;box-sizing: border-box;text-align: center;}#sk-container-id-13 label.sk-toggleable__label-arrow:before {content: \"▸\";float: left;margin-right: 0.25em;color: #696969;}#sk-container-id-13 label.sk-toggleable__label-arrow:hover:before {color: black;}#sk-container-id-13 div.sk-estimator:hover label.sk-toggleable__label-arrow:before {color: black;}#sk-container-id-13 div.sk-toggleable__content {max-height: 0;max-width: 0;overflow: hidden;text-align: left;background-color: #f0f8ff;}#sk-container-id-13 div.sk-toggleable__content pre {margin: 0.2em;color: black;border-radius: 0.25em;background-color: #f0f8ff;}#sk-container-id-13 input.sk-toggleable__control:checked~div.sk-toggleable__content {max-height: 200px;max-width: 100%;overflow: auto;}#sk-container-id-13 input.sk-toggleable__control:checked~label.sk-toggleable__label-arrow:before {content: \"▾\";}#sk-container-id-13 div.sk-estimator input.sk-toggleable__control:checked~label.sk-toggleable__label {background-color: #d4ebff;}#sk-container-id-13 div.sk-label input.sk-toggleable__control:checked~label.sk-toggleable__label {background-color: #d4ebff;}#sk-container-id-13 input.sk-hidden--visually {border: 0;clip: rect(1px 1px 1px 1px);clip: rect(1px, 1px, 1px, 1px);height: 1px;margin: -1px;overflow: hidden;padding: 0;position: absolute;width: 1px;}#sk-container-id-13 div.sk-estimator {font-family: monospace;background-color: #f0f8ff;border: 1px dotted black;border-radius: 0.25em;box-sizing: border-box;margin-bottom: 0.5em;}#sk-container-id-13 div.sk-estimator:hover {background-color: #d4ebff;}#sk-container-id-13 div.sk-parallel-item::after {content: \"\";width: 100%;border-bottom: 1px solid gray;flex-grow: 1;}#sk-container-id-13 div.sk-label:hover label.sk-toggleable__label {background-color: #d4ebff;}#sk-container-id-13 div.sk-serial::before {content: \"\";position: absolute;border-left: 1px solid gray;box-sizing: border-box;top: 0;bottom: 0;left: 50%;z-index: 0;}#sk-container-id-13 div.sk-serial {display: flex;flex-direction: column;align-items: center;background-color: white;padding-right: 0.2em;padding-left: 0.2em;position: relative;}#sk-container-id-13 div.sk-item {position: relative;z-index: 1;}#sk-container-id-13 div.sk-parallel {display: flex;align-items: stretch;justify-content: center;background-color: white;position: relative;}#sk-container-id-13 div.sk-item::before, #sk-container-id-13 div.sk-parallel-item::before {content: \"\";position: absolute;border-left: 1px solid gray;box-sizing: border-box;top: 0;bottom: 0;left: 50%;z-index: -1;}#sk-container-id-13 div.sk-parallel-item {display: flex;flex-direction: column;z-index: 1;position: relative;background-color: white;}#sk-container-id-13 div.sk-parallel-item:first-child::after {align-self: flex-end;width: 50%;}#sk-container-id-13 div.sk-parallel-item:last-child::after {align-self: flex-start;width: 50%;}#sk-container-id-13 div.sk-parallel-item:only-child::after {width: 0;}#sk-container-id-13 div.sk-dashed-wrapped {border: 1px dashed gray;margin: 0 0.4em 0.5em 0.4em;box-sizing: border-box;padding-bottom: 0.4em;background-color: white;}#sk-container-id-13 div.sk-label label {font-family: monospace;font-weight: bold;display: inline-block;line-height: 1.2em;}#sk-container-id-13 div.sk-label-container {text-align: center;}#sk-container-id-13 div.sk-container {/* jupyter's `normalize.less` sets `[hidden] { display: none; }` but bootstrap.min.css set `[hidden] { display: none !important; }` so we also need the `!important` here to be able to override the default hidden behavior on the sphinx rendered scikit-learn.org. See: https://github.com/scikit-learn/scikit-learn/issues/21755 */display: inline-block !important;position: relative;}#sk-container-id-13 div.sk-text-repr-fallback {display: none;}</style><div id=\"sk-container-id-13\" class=\"sk-top-container\"><div class=\"sk-text-repr-fallback\"><pre>SVC(C=0.01, kernel=&#x27;linear&#x27;)</pre><b>In a Jupyter environment, please rerun this cell to show the HTML representation or trust the notebook. <br />On GitHub, the HTML representation is unable to render, please try loading this page with nbviewer.org.</b></div><div class=\"sk-container\" hidden><div class=\"sk-item\"><div class=\"sk-estimator sk-toggleable\"><input class=\"sk-toggleable__control sk-hidden--visually\" id=\"sk-estimator-id-13\" type=\"checkbox\" checked><label for=\"sk-estimator-id-13\" class=\"sk-toggleable__label sk-toggleable__label-arrow\">SVC</label><div class=\"sk-toggleable__content\"><pre>SVC(C=0.01, kernel=&#x27;linear&#x27;)</pre></div></div></div></div></div>"
      ],
      "text/plain": [
       "SVC(C=0.01, kernel='linear')"
      ]
     },
     "execution_count": 99,
     "metadata": {},
     "output_type": "execute_result"
    }
   ],
   "source": [
    "model_svm.fit(dataset.iloc[:,0:2], dataset.y)\n",
    "# here we ask to fit the model using the features (x1 and x2) and the target (y)"
   ]
  },
  {
   "cell_type": "code",
   "execution_count": 109,
   "metadata": {},
   "outputs": [
    {
     "data": {
      "image/png": "[encoded data removed]",
      "text/plain": [
       "<Figure size 1000x800 with 1 Axes>"
      ]
     },
     "metadata": {},
     "output_type": "display_data"
    }
   ],
   "source": [
    "svm_draw(model_svm, 3, 17, dataset)"
   ]
  },
  {
   "cell_type": "code",
   "execution_count": 108,
   "metadata": {},
   "outputs": [
    {
     "data": {
      "text/plain": [
       "array([-2.40696194, -2.84337285, -3.36105283, -2.48823102, -2.74707101,\n",
       "       -2.65076918, -3.16844916, -3.4423219 , -2.99087824, -2.58453286,\n",
       "       -2.08432775, -2.37689643, -2.10302368, -2.63573642, -2.03678736,\n",
       "       -2.2468659 , -2.02927098, -3.03841863, -2.01179611, -2.81330733,\n",
       "       -2.6432528 , -2.53821352, -2.92586298, -2.95714955, -2.39192919,\n",
       "       -3.17295898, -3.22350592, -3.10221284, -2.16559683, -2.18636047,\n",
       "       -2.26434078, -1.77494082, -2.29562735, -2.52073865, -3.23224336,\n",
       "       -2.79583246, -2.44069063, -3.02094376, -2.7946114 , -2.80607317,\n",
       "       -3.2310223 , -2.49067314, -2.0217546 , -1.74543974, -2.84036629,\n",
       "       -3.89376557, -3.97503464, -1.82304564, -2.34072562, -2.06685287,\n",
       "       -2.97584549, -4.1375728 , -3.90879832, -3.21354743, -3.41225639,\n",
       "       -4.23387463, -2.52440183, -3.81249649, -3.8149386 , -2.26556183,\n",
       "       -3.64995833, -3.30984926, -1.63044197, -3.68612914, -2.59956561,\n",
       "       -2.65321129, -3.05711456, -3.78365203, -4.04127096, -4.47768187,\n",
       "       -4.31514371, -3.87873281, -4.18811974, -3.33098731, -3.9124615 ,\n",
       "       -4.21884188, -4.10685066, -4.04033212, -3.93679613, -3.77998886,\n",
       "       -3.5536565 , -3.91180487, -3.47238742, -3.7787678 , -3.42362597,\n",
       "       -3.70924271, -3.78177435, -3.39111834, -4.15504767, -3.54106586,\n",
       "       -2.78775164, -3.29481651, -2.94719106, -3.53618162, -3.1810398 ,\n",
       "       -3.00346889, -3.50367399, -2.98721507, -2.79339034, -3.47116636,\n",
       "       -2.93845362, -2.76088271, -2.38948707, -3.69749872, -3.61171982,\n",
       "       -3.43865873, -3.58372201, -3.22858019, -3.05100927, -1.9855838 ,\n",
       "       -3.55121438, -3.00224783, -2.43702746, -2.24320273, -1.75925144,\n",
       "       -3.71976564, -3.86304343, -3.34113584, -2.69586745, -2.9697402 ,\n",
       "       -3.68002385, -1.92056853, -2.4857889 , -3.24182745, -2.84093073,\n",
       "       -2.63085219, -2.2606776 , -2.33320924, -1.85677433, -1.5016325 ,\n",
       "       -2.0773758 , -3.97682014, -4.29766884, -3.95878083, -3.93501063,\n",
       "       -4.23688119, -4.39941934, -4.00876333, -4.30011095, -2.75524401,\n",
       "       -3.69871978, -4.44395318, -3.94675462, -4.48219169, -3.71863677,\n",
       "       -4.40214367, -3.63858875, -3.28344692, -3.21843166, -2.84703602])"
      ]
     },
     "execution_count": 108,
     "metadata": {},
     "output_type": "execute_result"
    }
   ],
   "source": [
    "model_svm.decision_function(dataset.iloc[:,0:2])"
   ]
  },
  {
   "cell_type": "raw",
   "metadata": {},
   "source": [
    "Question : what can you conclude about the influence of C ?"
   ]
  },
  {
   "cell_type": "raw",
   "metadata": {},
   "source": [
    "#Question_dev"
   ]
  },
  {
   "cell_type": "markdown",
   "metadata": {},
   "source": [
    "# Exercise 2: Choosing C using train/val/test split"
   ]
  },
  {
   "cell_type": "raw",
   "metadata": {},
   "source": [
    "In this exercise, you will choose the best value of C (for a given dataset) by the same procedure as for the other algorithms: train/validation/test split"
   ]
  },
  {
   "cell_type": "code",
   "execution_count": 110,
   "metadata": {},
   "outputs": [
    {
     "data": {
      "text/html": [
       "<div>\n",
       "<style scoped>\n",
       "    .dataframe tbody tr th:only-of-type {\n",
       "        vertical-align: middle;\n",
       "    }\n",
       "\n",
       "    .dataframe tbody tr th {\n",
       "        vertical-align: top;\n",
       "    }\n",
       "\n",
       "    .dataframe thead th {\n",
       "        text-align: right;\n",
       "    }\n",
       "</style>\n",
       "<table border=\"1\" class=\"dataframe\">\n",
       "  <thead>\n",
       "    <tr style=\"text-align: right;\">\n",
       "      <th></th>\n",
       "      <th>crl.tot</th>\n",
       "      <th>dollar</th>\n",
       "      <th>bang</th>\n",
       "      <th>money</th>\n",
       "      <th>n000</th>\n",
       "      <th>make</th>\n",
       "      <th>yesno</th>\n",
       "    </tr>\n",
       "  </thead>\n",
       "  <tbody>\n",
       "    <tr>\n",
       "      <th>0</th>\n",
       "      <td>278</td>\n",
       "      <td>0.000</td>\n",
       "      <td>0.778</td>\n",
       "      <td>0.00</td>\n",
       "      <td>0.00</td>\n",
       "      <td>0.00</td>\n",
       "      <td>y</td>\n",
       "    </tr>\n",
       "    <tr>\n",
       "      <th>1</th>\n",
       "      <td>1028</td>\n",
       "      <td>0.180</td>\n",
       "      <td>0.372</td>\n",
       "      <td>0.43</td>\n",
       "      <td>0.43</td>\n",
       "      <td>0.21</td>\n",
       "      <td>y</td>\n",
       "    </tr>\n",
       "    <tr>\n",
       "      <th>2</th>\n",
       "      <td>2259</td>\n",
       "      <td>0.184</td>\n",
       "      <td>0.276</td>\n",
       "      <td>0.06</td>\n",
       "      <td>1.16</td>\n",
       "      <td>0.06</td>\n",
       "      <td>y</td>\n",
       "    </tr>\n",
       "    <tr>\n",
       "      <th>3</th>\n",
       "      <td>191</td>\n",
       "      <td>0.000</td>\n",
       "      <td>0.137</td>\n",
       "      <td>0.00</td>\n",
       "      <td>0.00</td>\n",
       "      <td>0.00</td>\n",
       "      <td>y</td>\n",
       "    </tr>\n",
       "    <tr>\n",
       "      <th>4</th>\n",
       "      <td>191</td>\n",
       "      <td>0.000</td>\n",
       "      <td>0.135</td>\n",
       "      <td>0.00</td>\n",
       "      <td>0.00</td>\n",
       "      <td>0.00</td>\n",
       "      <td>y</td>\n",
       "    </tr>\n",
       "    <tr>\n",
       "      <th>...</th>\n",
       "      <td>...</td>\n",
       "      <td>...</td>\n",
       "      <td>...</td>\n",
       "      <td>...</td>\n",
       "      <td>...</td>\n",
       "      <td>...</td>\n",
       "      <td>...</td>\n",
       "    </tr>\n",
       "    <tr>\n",
       "      <th>4596</th>\n",
       "      <td>88</td>\n",
       "      <td>0.000</td>\n",
       "      <td>0.000</td>\n",
       "      <td>0.00</td>\n",
       "      <td>0.00</td>\n",
       "      <td>0.31</td>\n",
       "      <td>n</td>\n",
       "    </tr>\n",
       "    <tr>\n",
       "      <th>4597</th>\n",
       "      <td>14</td>\n",
       "      <td>0.000</td>\n",
       "      <td>0.353</td>\n",
       "      <td>0.00</td>\n",
       "      <td>0.00</td>\n",
       "      <td>0.00</td>\n",
       "      <td>n</td>\n",
       "    </tr>\n",
       "    <tr>\n",
       "      <th>4598</th>\n",
       "      <td>118</td>\n",
       "      <td>0.000</td>\n",
       "      <td>0.000</td>\n",
       "      <td>0.00</td>\n",
       "      <td>0.00</td>\n",
       "      <td>0.30</td>\n",
       "      <td>n</td>\n",
       "    </tr>\n",
       "    <tr>\n",
       "      <th>4599</th>\n",
       "      <td>78</td>\n",
       "      <td>0.000</td>\n",
       "      <td>0.000</td>\n",
       "      <td>0.00</td>\n",
       "      <td>0.00</td>\n",
       "      <td>0.96</td>\n",
       "      <td>n</td>\n",
       "    </tr>\n",
       "    <tr>\n",
       "      <th>4600</th>\n",
       "      <td>40</td>\n",
       "      <td>0.000</td>\n",
       "      <td>0.125</td>\n",
       "      <td>0.00</td>\n",
       "      <td>0.00</td>\n",
       "      <td>0.00</td>\n",
       "      <td>n</td>\n",
       "    </tr>\n",
       "  </tbody>\n",
       "</table>\n",
       "<p>4601 rows × 7 columns</p>\n",
       "</div>"
      ],
      "text/plain": [
       "      crl.tot  dollar   bang  money  n000  make yesno\n",
       "0         278   0.000  0.778   0.00  0.00  0.00     y\n",
       "1        1028   0.180  0.372   0.43  0.43  0.21     y\n",
       "2        2259   0.184  0.276   0.06  1.16  0.06     y\n",
       "3         191   0.000  0.137   0.00  0.00  0.00     y\n",
       "4         191   0.000  0.135   0.00  0.00  0.00     y\n",
       "...       ...     ...    ...    ...   ...   ...   ...\n",
       "4596       88   0.000  0.000   0.00  0.00  0.31     n\n",
       "4597       14   0.000  0.353   0.00  0.00  0.00     n\n",
       "4598      118   0.000  0.000   0.00  0.00  0.30     n\n",
       "4599       78   0.000  0.000   0.00  0.00  0.96     n\n",
       "4600       40   0.000  0.125   0.00  0.00  0.00     n\n",
       "\n",
       "[4601 rows x 7 columns]"
      ]
     },
     "execution_count": 110,
     "metadata": {},
     "output_type": "execute_result"
    }
   ],
   "source": [
    "# Load the dataset\n",
    "dataset = pd.read_csv(\"spam7.csv\", decimal=\",\", index_col=0, delimiter = \";\")\n",
    "dataset\n",
    "# A description about this dataset is given here:\n",
    "# http://math.furman.edu/~dcs/courses/math47/R/library/DAAG/html/spam7.html"
   ]
  },
  {
   "cell_type": "raw",
   "metadata": {},
   "source": [
    "Question : How many examples ? How many features ? What is the distribution of the target"
   ]
  },
  {
   "cell_type": "code",
   "execution_count": null,
   "metadata": {},
   "outputs": [],
   "source": []
  },
  {
   "cell_type": "raw",
   "metadata": {},
   "source": [
    "SVM can be very long to fit when the dataset is big (number of examples, number of features).\n",
    "It is better to scale the features before fitting a model. A classical scaling is the standard scaler, which removes the mean and divide by the standard deviation. Hence, after this operation, each feature has a mean of zero and a standard deviation of 1. We are going to do this in the next cells"
   ]
  },
  {
   "cell_type": "code",
   "execution_count": 112,
   "metadata": {},
   "outputs": [
    {
     "name": "stdout",
     "output_type": "stream",
     "text": [
      "-2.470915838331146e-17\n"
     ]
    }
   ],
   "source": [
    "from sklearn.preprocessing import StandardScaler\n",
    "# First, get the features\n",
    "X = dataset.iloc[:,0:6]\n",
    "# then create a scaler on X\n",
    "scaler = StandardScaler().fit(X)\n",
    "# Apply it to X\n",
    "X = scaler.transform(X)\n",
    "# create a dataframe with X\n",
    "X = pd.DataFrame(X, columns=dataset.columns[0:6])\n",
    "X\n",
    "# You should see that the features have been transformed\n",
    "print(X.dollar.mean())\n",
    "# the mean of feature 'dollar' is now 0 (very close to 0)\n",
    "# it is the same for the other features"
   ]
  },
  {
   "cell_type": "code",
   "execution_count": 113,
   "metadata": {},
   "outputs": [
    {
     "data": {
      "text/html": [
       "<div>\n",
       "<style scoped>\n",
       "    .dataframe tbody tr th:only-of-type {\n",
       "        vertical-align: middle;\n",
       "    }\n",
       "\n",
       "    .dataframe tbody tr th {\n",
       "        vertical-align: top;\n",
       "    }\n",
       "\n",
       "    .dataframe thead th {\n",
       "        text-align: right;\n",
       "    }\n",
       "</style>\n",
       "<table border=\"1\" class=\"dataframe\">\n",
       "  <thead>\n",
       "    <tr style=\"text-align: right;\">\n",
       "      <th></th>\n",
       "      <th>crl.tot</th>\n",
       "      <th>dollar</th>\n",
       "      <th>bang</th>\n",
       "      <th>money</th>\n",
       "      <th>n000</th>\n",
       "      <th>make</th>\n",
       "      <th>yesno</th>\n",
       "    </tr>\n",
       "  </thead>\n",
       "  <tbody>\n",
       "    <tr>\n",
       "      <th>0</th>\n",
       "      <td>-0.008724</td>\n",
       "      <td>-0.308355</td>\n",
       "      <td>0.624007</td>\n",
       "      <td>-0.212994</td>\n",
       "      <td>-0.290209</td>\n",
       "      <td>-0.342434</td>\n",
       "      <td>y</td>\n",
       "    </tr>\n",
       "    <tr>\n",
       "      <th>1</th>\n",
       "      <td>1.228324</td>\n",
       "      <td>0.423783</td>\n",
       "      <td>0.126203</td>\n",
       "      <td>0.758565</td>\n",
       "      <td>0.937491</td>\n",
       "      <td>0.345359</td>\n",
       "      <td>y</td>\n",
       "    </tr>\n",
       "    <tr>\n",
       "      <th>2</th>\n",
       "      <td>3.258733</td>\n",
       "      <td>0.440053</td>\n",
       "      <td>0.008496</td>\n",
       "      <td>-0.077428</td>\n",
       "      <td>3.021726</td>\n",
       "      <td>-0.145921</td>\n",
       "      <td>y</td>\n",
       "    </tr>\n",
       "    <tr>\n",
       "      <th>3</th>\n",
       "      <td>-0.152222</td>\n",
       "      <td>-0.308355</td>\n",
       "      <td>-0.161934</td>\n",
       "      <td>-0.212994</td>\n",
       "      <td>-0.290209</td>\n",
       "      <td>-0.342434</td>\n",
       "      <td>y</td>\n",
       "    </tr>\n",
       "    <tr>\n",
       "      <th>4</th>\n",
       "      <td>-0.152222</td>\n",
       "      <td>-0.308355</td>\n",
       "      <td>-0.164387</td>\n",
       "      <td>-0.212994</td>\n",
       "      <td>-0.290209</td>\n",
       "      <td>-0.342434</td>\n",
       "      <td>y</td>\n",
       "    </tr>\n",
       "    <tr>\n",
       "      <th>...</th>\n",
       "      <td>...</td>\n",
       "      <td>...</td>\n",
       "      <td>...</td>\n",
       "      <td>...</td>\n",
       "      <td>...</td>\n",
       "      <td>...</td>\n",
       "      <td>...</td>\n",
       "    </tr>\n",
       "    <tr>\n",
       "      <th>4596</th>\n",
       "      <td>-0.322110</td>\n",
       "      <td>-0.308355</td>\n",
       "      <td>-0.329912</td>\n",
       "      <td>-0.212994</td>\n",
       "      <td>-0.290209</td>\n",
       "      <td>0.672880</td>\n",
       "      <td>n</td>\n",
       "    </tr>\n",
       "    <tr>\n",
       "      <th>4597</th>\n",
       "      <td>-0.444165</td>\n",
       "      <td>-0.308355</td>\n",
       "      <td>0.102907</td>\n",
       "      <td>-0.212994</td>\n",
       "      <td>-0.290209</td>\n",
       "      <td>-0.342434</td>\n",
       "      <td>n</td>\n",
       "    </tr>\n",
       "    <tr>\n",
       "      <th>4598</th>\n",
       "      <td>-0.272628</td>\n",
       "      <td>-0.308355</td>\n",
       "      <td>-0.329912</td>\n",
       "      <td>-0.212994</td>\n",
       "      <td>-0.290209</td>\n",
       "      <td>0.640128</td>\n",
       "      <td>n</td>\n",
       "    </tr>\n",
       "    <tr>\n",
       "      <th>4599</th>\n",
       "      <td>-0.338604</td>\n",
       "      <td>-0.308355</td>\n",
       "      <td>-0.329912</td>\n",
       "      <td>-0.212994</td>\n",
       "      <td>-0.290209</td>\n",
       "      <td>2.801763</td>\n",
       "      <td>n</td>\n",
       "    </tr>\n",
       "    <tr>\n",
       "      <th>4600</th>\n",
       "      <td>-0.401281</td>\n",
       "      <td>-0.308355</td>\n",
       "      <td>-0.176648</td>\n",
       "      <td>-0.212994</td>\n",
       "      <td>-0.290209</td>\n",
       "      <td>-0.342434</td>\n",
       "      <td>n</td>\n",
       "    </tr>\n",
       "  </tbody>\n",
       "</table>\n",
       "<p>4601 rows × 7 columns</p>\n",
       "</div>"
      ],
      "text/plain": [
       "       crl.tot    dollar      bang     money      n000      make yesno\n",
       "0    -0.008724 -0.308355  0.624007 -0.212994 -0.290209 -0.342434     y\n",
       "1     1.228324  0.423783  0.126203  0.758565  0.937491  0.345359     y\n",
       "2     3.258733  0.440053  0.008496 -0.077428  3.021726 -0.145921     y\n",
       "3    -0.152222 -0.308355 -0.161934 -0.212994 -0.290209 -0.342434     y\n",
       "4    -0.152222 -0.308355 -0.164387 -0.212994 -0.290209 -0.342434     y\n",
       "...        ...       ...       ...       ...       ...       ...   ...\n",
       "4596 -0.322110 -0.308355 -0.329912 -0.212994 -0.290209  0.672880     n\n",
       "4597 -0.444165 -0.308355  0.102907 -0.212994 -0.290209 -0.342434     n\n",
       "4598 -0.272628 -0.308355 -0.329912 -0.212994 -0.290209  0.640128     n\n",
       "4599 -0.338604 -0.308355 -0.329912 -0.212994 -0.290209  2.801763     n\n",
       "4600 -0.401281 -0.308355 -0.176648 -0.212994 -0.290209 -0.342434     n\n",
       "\n",
       "[4601 rows x 7 columns]"
      ]
     },
     "execution_count": 113,
     "metadata": {},
     "output_type": "execute_result"
    }
   ],
   "source": [
    "# Now we will add the target variable inside X\n",
    "X['yesno'] = dataset.yesno\n",
    "X\n",
    "# now our dataset is called X"
   ]
  },
  {
   "cell_type": "raw",
   "metadata": {},
   "source": [
    "Question : Split this dataset into training/validation/test "
   ]
  },
  {
   "cell_type": "code",
   "execution_count": 118,
   "metadata": {},
   "outputs": [],
   "source": [
    "train, test = train_test_split(X, test_size = 0.3, random_state = 4)\n",
    "valid, test = train_test_split(X, test_size = 0.5, random_state = 4)"
   ]
  },
  {
   "cell_type": "code",
   "execution_count": 119,
   "metadata": {},
   "outputs": [
    {
     "data": {
      "text/html": [
       "<div>\n",
       "<style scoped>\n",
       "    .dataframe tbody tr th:only-of-type {\n",
       "        vertical-align: middle;\n",
       "    }\n",
       "\n",
       "    .dataframe tbody tr th {\n",
       "        vertical-align: top;\n",
       "    }\n",
       "\n",
       "    .dataframe thead th {\n",
       "        text-align: right;\n",
       "    }\n",
       "</style>\n",
       "<table border=\"1\" class=\"dataframe\">\n",
       "  <thead>\n",
       "    <tr style=\"text-align: right;\">\n",
       "      <th></th>\n",
       "      <th>crl.tot</th>\n",
       "      <th>dollar</th>\n",
       "      <th>bang</th>\n",
       "      <th>money</th>\n",
       "      <th>n000</th>\n",
       "      <th>make</th>\n",
       "      <th>yesno</th>\n",
       "    </tr>\n",
       "  </thead>\n",
       "  <tbody>\n",
       "    <tr>\n",
       "      <th>818</th>\n",
       "      <td>-0.013672</td>\n",
       "      <td>-0.308355</td>\n",
       "      <td>-0.133734</td>\n",
       "      <td>1.300831</td>\n",
       "      <td>-0.290209</td>\n",
       "      <td>-0.342434</td>\n",
       "      <td>y</td>\n",
       "    </tr>\n",
       "    <tr>\n",
       "      <th>2789</th>\n",
       "      <td>-0.302317</td>\n",
       "      <td>-0.308355</td>\n",
       "      <td>-0.329912</td>\n",
       "      <td>-0.212994</td>\n",
       "      <td>-0.290209</td>\n",
       "      <td>-0.342434</td>\n",
       "      <td>n</td>\n",
       "    </tr>\n",
       "    <tr>\n",
       "      <th>3455</th>\n",
       "      <td>-0.327058</td>\n",
       "      <td>-0.308355</td>\n",
       "      <td>-0.329912</td>\n",
       "      <td>-0.212994</td>\n",
       "      <td>-0.290209</td>\n",
       "      <td>2.113970</td>\n",
       "      <td>n</td>\n",
       "    </tr>\n",
       "    <tr>\n",
       "      <th>702</th>\n",
       "      <td>-0.294070</td>\n",
       "      <td>-0.308355</td>\n",
       "      <td>-0.172969</td>\n",
       "      <td>-0.212994</td>\n",
       "      <td>-0.290209</td>\n",
       "      <td>-0.342434</td>\n",
       "      <td>y</td>\n",
       "    </tr>\n",
       "    <tr>\n",
       "      <th>154</th>\n",
       "      <td>-0.132429</td>\n",
       "      <td>-0.308355</td>\n",
       "      <td>0.263528</td>\n",
       "      <td>-0.212994</td>\n",
       "      <td>-0.290209</td>\n",
       "      <td>-0.342434</td>\n",
       "      <td>y</td>\n",
       "    </tr>\n",
       "    <tr>\n",
       "      <th>...</th>\n",
       "      <td>...</td>\n",
       "      <td>...</td>\n",
       "      <td>...</td>\n",
       "      <td>...</td>\n",
       "      <td>...</td>\n",
       "      <td>...</td>\n",
       "      <td>...</td>\n",
       "    </tr>\n",
       "    <tr>\n",
       "      <th>3671</th>\n",
       "      <td>-0.459010</td>\n",
       "      <td>-0.308355</td>\n",
       "      <td>-0.329912</td>\n",
       "      <td>-0.212994</td>\n",
       "      <td>-0.290209</td>\n",
       "      <td>-0.342434</td>\n",
       "      <td>n</td>\n",
       "    </tr>\n",
       "    <tr>\n",
       "      <th>709</th>\n",
       "      <td>0.355793</td>\n",
       "      <td>0.004837</td>\n",
       "      <td>0.708609</td>\n",
       "      <td>0.894132</td>\n",
       "      <td>-0.290209</td>\n",
       "      <td>0.443616</td>\n",
       "      <td>y</td>\n",
       "    </tr>\n",
       "    <tr>\n",
       "      <th>2487</th>\n",
       "      <td>-0.449113</td>\n",
       "      <td>-0.308355</td>\n",
       "      <td>-0.329912</td>\n",
       "      <td>-0.212994</td>\n",
       "      <td>-0.290209</td>\n",
       "      <td>-0.342434</td>\n",
       "      <td>n</td>\n",
       "    </tr>\n",
       "    <tr>\n",
       "      <th>174</th>\n",
       "      <td>-0.386436</td>\n",
       "      <td>-0.308355</td>\n",
       "      <td>0.760106</td>\n",
       "      <td>-0.212994</td>\n",
       "      <td>1.936782</td>\n",
       "      <td>-0.342434</td>\n",
       "      <td>y</td>\n",
       "    </tr>\n",
       "    <tr>\n",
       "      <th>1146</th>\n",
       "      <td>-0.374890</td>\n",
       "      <td>-0.308355</td>\n",
       "      <td>0.174022</td>\n",
       "      <td>-0.212994</td>\n",
       "      <td>-0.290209</td>\n",
       "      <td>-0.342434</td>\n",
       "      <td>y</td>\n",
       "    </tr>\n",
       "  </tbody>\n",
       "</table>\n",
       "<p>3220 rows × 7 columns</p>\n",
       "</div>"
      ],
      "text/plain": [
       "       crl.tot    dollar      bang     money      n000      make yesno\n",
       "818  -0.013672 -0.308355 -0.133734  1.300831 -0.290209 -0.342434     y\n",
       "2789 -0.302317 -0.308355 -0.329912 -0.212994 -0.290209 -0.342434     n\n",
       "3455 -0.327058 -0.308355 -0.329912 -0.212994 -0.290209  2.113970     n\n",
       "702  -0.294070 -0.308355 -0.172969 -0.212994 -0.290209 -0.342434     y\n",
       "154  -0.132429 -0.308355  0.263528 -0.212994 -0.290209 -0.342434     y\n",
       "...        ...       ...       ...       ...       ...       ...   ...\n",
       "3671 -0.459010 -0.308355 -0.329912 -0.212994 -0.290209 -0.342434     n\n",
       "709   0.355793  0.004837  0.708609  0.894132 -0.290209  0.443616     y\n",
       "2487 -0.449113 -0.308355 -0.329912 -0.212994 -0.290209 -0.342434     n\n",
       "174  -0.386436 -0.308355  0.760106 -0.212994  1.936782 -0.342434     y\n",
       "1146 -0.374890 -0.308355  0.174022 -0.212994 -0.290209 -0.342434     y\n",
       "\n",
       "[3220 rows x 7 columns]"
      ]
     },
     "execution_count": 119,
     "metadata": {},
     "output_type": "execute_result"
    }
   ],
   "source": [
    "train"
   ]
  },
  {
   "cell_type": "raw",
   "metadata": {},
   "source": [
    "Questions: \n",
    " - Fit a first linear SVM model with C = 1\n",
    " - How many support vectors are selected ?\n",
    " - What is the performance of this model on the training set ? on the validation set ?\n",
    " - What is the confusion matrix of the predictions of the validation set ? What kind of errors is more often made? (check confusion_matrix function for that"
   ]
  },
  {
   "cell_type": "code",
   "execution_count": 120,
   "metadata": {},
   "outputs": [
    {
     "data": {
      "text/html": [
       "<style>#sk-container-id-14 {color: black;background-color: white;}#sk-container-id-14 pre{padding: 0;}#sk-container-id-14 div.sk-toggleable {background-color: white;}#sk-container-id-14 label.sk-toggleable__label {cursor: pointer;display: block;width: 100%;margin-bottom: 0;padding: 0.3em;box-sizing: border-box;text-align: center;}#sk-container-id-14 label.sk-toggleable__label-arrow:before {content: \"▸\";float: left;margin-right: 0.25em;color: #696969;}#sk-container-id-14 label.sk-toggleable__label-arrow:hover:before {color: black;}#sk-container-id-14 div.sk-estimator:hover label.sk-toggleable__label-arrow:before {color: black;}#sk-container-id-14 div.sk-toggleable__content {max-height: 0;max-width: 0;overflow: hidden;text-align: left;background-color: #f0f8ff;}#sk-container-id-14 div.sk-toggleable__content pre {margin: 0.2em;color: black;border-radius: 0.25em;background-color: #f0f8ff;}#sk-container-id-14 input.sk-toggleable__control:checked~div.sk-toggleable__content {max-height: 200px;max-width: 100%;overflow: auto;}#sk-container-id-14 input.sk-toggleable__control:checked~label.sk-toggleable__label-arrow:before {content: \"▾\";}#sk-container-id-14 div.sk-estimator input.sk-toggleable__control:checked~label.sk-toggleable__label {background-color: #d4ebff;}#sk-container-id-14 div.sk-label input.sk-toggleable__control:checked~label.sk-toggleable__label {background-color: #d4ebff;}#sk-container-id-14 input.sk-hidden--visually {border: 0;clip: rect(1px 1px 1px 1px);clip: rect(1px, 1px, 1px, 1px);height: 1px;margin: -1px;overflow: hidden;padding: 0;position: absolute;width: 1px;}#sk-container-id-14 div.sk-estimator {font-family: monospace;background-color: #f0f8ff;border: 1px dotted black;border-radius: 0.25em;box-sizing: border-box;margin-bottom: 0.5em;}#sk-container-id-14 div.sk-estimator:hover {background-color: #d4ebff;}#sk-container-id-14 div.sk-parallel-item::after {content: \"\";width: 100%;border-bottom: 1px solid gray;flex-grow: 1;}#sk-container-id-14 div.sk-label:hover label.sk-toggleable__label {background-color: #d4ebff;}#sk-container-id-14 div.sk-serial::before {content: \"\";position: absolute;border-left: 1px solid gray;box-sizing: border-box;top: 0;bottom: 0;left: 50%;z-index: 0;}#sk-container-id-14 div.sk-serial {display: flex;flex-direction: column;align-items: center;background-color: white;padding-right: 0.2em;padding-left: 0.2em;position: relative;}#sk-container-id-14 div.sk-item {position: relative;z-index: 1;}#sk-container-id-14 div.sk-parallel {display: flex;align-items: stretch;justify-content: center;background-color: white;position: relative;}#sk-container-id-14 div.sk-item::before, #sk-container-id-14 div.sk-parallel-item::before {content: \"\";position: absolute;border-left: 1px solid gray;box-sizing: border-box;top: 0;bottom: 0;left: 50%;z-index: -1;}#sk-container-id-14 div.sk-parallel-item {display: flex;flex-direction: column;z-index: 1;position: relative;background-color: white;}#sk-container-id-14 div.sk-parallel-item:first-child::after {align-self: flex-end;width: 50%;}#sk-container-id-14 div.sk-parallel-item:last-child::after {align-self: flex-start;width: 50%;}#sk-container-id-14 div.sk-parallel-item:only-child::after {width: 0;}#sk-container-id-14 div.sk-dashed-wrapped {border: 1px dashed gray;margin: 0 0.4em 0.5em 0.4em;box-sizing: border-box;padding-bottom: 0.4em;background-color: white;}#sk-container-id-14 div.sk-label label {font-family: monospace;font-weight: bold;display: inline-block;line-height: 1.2em;}#sk-container-id-14 div.sk-label-container {text-align: center;}#sk-container-id-14 div.sk-container {/* jupyter's `normalize.less` sets `[hidden] { display: none; }` but bootstrap.min.css set `[hidden] { display: none !important; }` so we also need the `!important` here to be able to override the default hidden behavior on the sphinx rendered scikit-learn.org. See: https://github.com/scikit-learn/scikit-learn/issues/21755 */display: inline-block !important;position: relative;}#sk-container-id-14 div.sk-text-repr-fallback {display: none;}</style><div id=\"sk-container-id-14\" class=\"sk-top-container\"><div class=\"sk-text-repr-fallback\"><pre>SVC(C=1, kernel=&#x27;linear&#x27;)</pre><b>In a Jupyter environment, please rerun this cell to show the HTML representation or trust the notebook. <br />On GitHub, the HTML representation is unable to render, please try loading this page with nbviewer.org.</b></div><div class=\"sk-container\" hidden><div class=\"sk-item\"><div class=\"sk-estimator sk-toggleable\"><input class=\"sk-toggleable__control sk-hidden--visually\" id=\"sk-estimator-id-14\" type=\"checkbox\" checked><label for=\"sk-estimator-id-14\" class=\"sk-toggleable__label sk-toggleable__label-arrow\">SVC</label><div class=\"sk-toggleable__content\"><pre>SVC(C=1, kernel=&#x27;linear&#x27;)</pre></div></div></div></div></div>"
      ],
      "text/plain": [
       "SVC(C=1, kernel='linear')"
      ]
     },
     "execution_count": 120,
     "metadata": {},
     "output_type": "execute_result"
    }
   ],
   "source": [
    "model_svm_1 = svm.SVC(C = 1, kernel = 'linear')\n",
    "model_svm_1.fit(train.iloc[:,0:2], train.yesno)\n",
    "# here we ask to fit the model using the features (x1 and x2) and the target (y)"
   ]
  },
  {
   "cell_type": "code",
   "execution_count": null,
   "metadata": {},
   "outputs": [],
   "source": []
  },
  {
   "cell_type": "code",
   "execution_count": null,
   "metadata": {},
   "outputs": [],
   "source": []
  },
  {
   "cell_type": "code",
   "execution_count": null,
   "metadata": {},
   "outputs": [],
   "source": []
  },
  {
   "cell_type": "code",
   "execution_count": null,
   "metadata": {},
   "outputs": [],
   "source": []
  },
  {
   "cell_type": "raw",
   "metadata": {},
   "source": [
    "Question : Now try different values of C (between 0.01 and 1000 for instance) and compute the training and validation scores for each value of C. Select the best value of C and estimate the generalization error of the selected SVM"
   ]
  },
  {
   "cell_type": "code",
   "execution_count": null,
   "metadata": {},
   "outputs": [],
   "source": []
  },
  {
   "cell_type": "code",
   "execution_count": null,
   "metadata": {},
   "outputs": [],
   "source": []
  },
  {
   "cell_type": "markdown",
   "metadata": {},
   "source": [
    "# Exercise 3: Non-linear SVM"
   ]
  },
  {
   "cell_type": "code",
   "execution_count": 105,
   "metadata": {},
   "outputs": [
    {
     "data": {
      "text/html": [
       "<div>\n",
       "<style scoped>\n",
       "    .dataframe tbody tr th:only-of-type {\n",
       "        vertical-align: middle;\n",
       "    }\n",
       "\n",
       "    .dataframe tbody tr th {\n",
       "        vertical-align: top;\n",
       "    }\n",
       "\n",
       "    .dataframe thead th {\n",
       "        text-align: right;\n",
       "    }\n",
       "</style>\n",
       "<table border=\"1\" class=\"dataframe\">\n",
       "  <thead>\n",
       "    <tr style=\"text-align: right;\">\n",
       "      <th></th>\n",
       "      <th>x1</th>\n",
       "      <th>x2</th>\n",
       "      <th>y</th>\n",
       "    </tr>\n",
       "  </thead>\n",
       "  <tbody>\n",
       "    <tr>\n",
       "      <th>0</th>\n",
       "      <td>1.5</td>\n",
       "      <td>4.0</td>\n",
       "      <td>1</td>\n",
       "    </tr>\n",
       "    <tr>\n",
       "      <th>1</th>\n",
       "      <td>1.0</td>\n",
       "      <td>2.0</td>\n",
       "      <td>1</td>\n",
       "    </tr>\n",
       "    <tr>\n",
       "      <th>2</th>\n",
       "      <td>0.0</td>\n",
       "      <td>0.0</td>\n",
       "      <td>1</td>\n",
       "    </tr>\n",
       "    <tr>\n",
       "      <th>3</th>\n",
       "      <td>1.0</td>\n",
       "      <td>4.0</td>\n",
       "      <td>1</td>\n",
       "    </tr>\n",
       "    <tr>\n",
       "      <th>4</th>\n",
       "      <td>0.5</td>\n",
       "      <td>3.0</td>\n",
       "      <td>1</td>\n",
       "    </tr>\n",
       "    <tr>\n",
       "      <th>...</th>\n",
       "      <td>...</td>\n",
       "      <td>...</td>\n",
       "      <td>...</td>\n",
       "    </tr>\n",
       "    <tr>\n",
       "      <th>145</th>\n",
       "      <td>-2.8</td>\n",
       "      <td>-3.3</td>\n",
       "      <td>0</td>\n",
       "    </tr>\n",
       "    <tr>\n",
       "      <th>146</th>\n",
       "      <td>-2.8</td>\n",
       "      <td>1.0</td>\n",
       "      <td>0</td>\n",
       "    </tr>\n",
       "    <tr>\n",
       "      <th>147</th>\n",
       "      <td>-2.8</td>\n",
       "      <td>3.0</td>\n",
       "      <td>0</td>\n",
       "    </tr>\n",
       "    <tr>\n",
       "      <th>148</th>\n",
       "      <td>-2.4</td>\n",
       "      <td>3.0</td>\n",
       "      <td>0</td>\n",
       "    </tr>\n",
       "    <tr>\n",
       "      <th>149</th>\n",
       "      <td>-2.3</td>\n",
       "      <td>5.0</td>\n",
       "      <td>0</td>\n",
       "    </tr>\n",
       "  </tbody>\n",
       "</table>\n",
       "<p>150 rows × 3 columns</p>\n",
       "</div>"
      ],
      "text/plain": [
       "      x1   x2  y\n",
       "0    1.5  4.0  1\n",
       "1    1.0  2.0  1\n",
       "2    0.0  0.0  1\n",
       "3    1.0  4.0  1\n",
       "4    0.5  3.0  1\n",
       "..   ...  ... ..\n",
       "145 -2.8 -3.3  0\n",
       "146 -2.8  1.0  0\n",
       "147 -2.8  3.0  0\n",
       "148 -2.4  3.0  0\n",
       "149 -2.3  5.0  0\n",
       "\n",
       "[150 rows x 3 columns]"
      ]
     },
     "execution_count": 105,
     "metadata": {},
     "output_type": "execute_result"
    }
   ],
   "source": [
    "# Load a dataset\n",
    "dataset = pd.read_csv(\"SepNonLineaire.csv\")\n",
    "dataset\n"
   ]
  },
  {
   "cell_type": "raw",
   "metadata": {},
   "source": [
    "Question : How many examples? features? distribution of the target values ?"
   ]
  },
  {
   "cell_type": "code",
   "execution_count": null,
   "metadata": {},
   "outputs": [],
   "source": []
  },
  {
   "cell_type": "raw",
   "metadata": {},
   "source": [
    "Question : Plot this dataset with different colours for the values of y"
   ]
  },
  {
   "cell_type": "code",
   "execution_count": null,
   "metadata": {},
   "outputs": [],
   "source": []
  },
  {
   "cell_type": "raw",
   "metadata": {},
   "source": [
    "Question : Is this dataset linearly separable ?"
   ]
  },
  {
   "cell_type": "raw",
   "metadata": {},
   "source": []
  },
  {
   "cell_type": "raw",
   "metadata": {},
   "source": [
    "Question : Split this dataset into training/validation/test "
   ]
  },
  {
   "cell_type": "code",
   "execution_count": null,
   "metadata": {},
   "outputs": [],
   "source": []
  },
  {
   "cell_type": "raw",
   "metadata": {},
   "source": [
    "We will apply a radial SVM (with rbf kernel).\n",
    "For this, you just need to specify kernel = 'rbf' rather than kernel = 'linear'\n",
    "And you'll need to set also a value for gamma (otherwise there is a default value)\n",
    "Questions:\n",
    " - Fit a rbf SVM with C = 1 and gamma = 10\n",
    " - Compute train and validation scores\n",
    " - Plot the decision boundaries and the margins using the function draw_boundary above\n",
    " - What phenomenon can you observe here ?"
   ]
  },
  {
   "cell_type": "code",
   "execution_count": null,
   "metadata": {},
   "outputs": [],
   "source": []
  },
  {
   "cell_type": "code",
   "execution_count": null,
   "metadata": {},
   "outputs": [],
   "source": []
  },
  {
   "cell_type": "code",
   "execution_count": 106,
   "metadata": {},
   "outputs": [],
   "source": [
    "def draw_boundary(model, data, x_min, x_max, y_min, y_max):\n",
    "    h = 0.1\n",
    "    xx, yy = np.meshgrid(np.arange(x_min, x_max, h), np.arange(y_min, y_max, h))\n",
    "    zz = np.c_[xx.ravel(), yy.ravel()]\n",
    "    zz = pd.DataFrame(zz)\n",
    "    zz2 = zz\n",
    "    pred_zz= pd.Series(model.predict(zz2))\n",
    "    color_map = matplotlib.colors.ListedColormap(pd.Series(['blue', 'red']))\n",
    "    fig = plt.figure(figsize=  (8,8))\n",
    "    fig = plt.scatter(zz.iloc[:,0], zz.iloc[:,1], c = pred_zz, cmap = color_map, marker='+')\n",
    "    fig = plt.scatter(data.iloc[:,0], data.iloc[:,1], s = 50, c = data.iloc[:,2], cmap = color_map)\n",
    "    "
   ]
  },
  {
   "cell_type": "code",
   "execution_count": 107,
   "metadata": {},
   "outputs": [
    {
     "ename": "NameError",
     "evalue": "name 'data_train' is not defined",
     "output_type": "error",
     "traceback": [
      "\u001b[0;31m---------------------------------------------------------------------------\u001b[0m",
      "\u001b[0;31mNameError\u001b[0m                                 Traceback (most recent call last)",
      "\u001b[1;32m/Users/freuxy/Documents/Istic/Cours/M2/FST/TP/TP_SVM/TP_SVM_student.ipynb Cellule 82\u001b[0m line \u001b[0;36m1\n\u001b[0;32m----> <a href='vscode-notebook-cell:/Users/freuxy/Documents/Istic/Cours/M2/FST/TP/TP_SVM/TP_SVM_student.ipynb#Y144sZmlsZQ%3D%3D?line=0'>1</a>\u001b[0m draw_boundary(model_svm, data_train, \u001b[39m-\u001b[39m\u001b[39m3\u001b[39m,\u001b[39m4\u001b[39m,\u001b[39m-\u001b[39m\u001b[39m5\u001b[39m,\u001b[39m9\u001b[39m)\n",
      "\u001b[0;31mNameError\u001b[0m: name 'data_train' is not defined"
     ]
    }
   ],
   "source": [
    "draw_boundary(model_svm, data_train, -3,4,-5,9)"
   ]
  },
  {
   "cell_type": "raw",
   "metadata": {},
   "source": [
    "Questions :\n",
    "    - Try now to modify C and gamma to have a better decision boundary\n",
    "    - Choose the best values of C and gamma \n",
    "    - Estimate the generalization error of this SVM"
   ]
  },
  {
   "cell_type": "code",
   "execution_count": null,
   "metadata": {},
   "outputs": [],
   "source": []
  },
  {
   "cell_type": "code",
   "execution_count": null,
   "metadata": {},
   "outputs": [],
   "source": []
  },
  {
   "cell_type": "raw",
   "metadata": {},
   "source": [
    "You can also try polynomial kernels by specifying kernel = 'poly'. You'll have to tune the parameter degree with his kernel"
   ]
  },
  {
   "cell_type": "code",
   "execution_count": null,
   "metadata": {},
   "outputs": [],
   "source": []
  },
  {
   "cell_type": "code",
   "execution_count": null,
   "metadata": {},
   "outputs": [],
   "source": []
  }
 ],
 "metadata": {
  "kernelspec": {
   "display_name": "Python 3",
   "language": "python",
   "name": "python3"
  },
  "language_info": {
   "codemirror_mode": {
    "name": "ipython",
    "version": 3
   },
   "file_extension": ".py",
   "mimetype": "text/x-python",
   "name": "python",
   "nbconvert_exporter": "python",
   "pygments_lexer": "ipython3",
   "version": "3.10.7"
  }
 },
 "nbformat": 4,
 "nbformat_minor": 4
}
