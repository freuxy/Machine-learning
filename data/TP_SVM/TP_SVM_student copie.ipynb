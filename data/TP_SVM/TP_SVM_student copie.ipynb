{
 "cells": [
  {
   "cell_type": "code",
   "execution_count": 1,
   "metadata": {},
   "outputs": [],
   "source": [
    "import numpy as np\n",
    "import pandas as pd\n",
    "import matplotlib.pyplot as plt\n",
    "import matplotlib\n",
    "from sklearn.model_selection import train_test_split\n",
    "import math\n",
    "import random\n",
    "from random import uniform"
   ]
  },
  {
   "cell_type": "markdown",
   "metadata": {},
   "source": [
    "# Exercise 1 : Linear SVM - Influence of parameter C"
   ]
  },
  {
   "cell_type": "raw",
   "metadata": {},
   "source": [
    "Let's load a dataset first"
   ]
  },
  {
   "cell_type": "code",
   "execution_count": 2,
   "metadata": {},
   "outputs": [
    {
     "data": {
      "text/html": [
       "<div>\n",
       "<style scoped>\n",
       "    .dataframe tbody tr th:only-of-type {\n",
       "        vertical-align: middle;\n",
       "    }\n",
       "\n",
       "    .dataframe tbody tr th {\n",
       "        vertical-align: top;\n",
       "    }\n",
       "\n",
       "    .dataframe thead th {\n",
       "        text-align: right;\n",
       "    }\n",
       "</style>\n",
       "<table border=\"1\" class=\"dataframe\">\n",
       "  <thead>\n",
       "    <tr style=\"text-align: right;\">\n",
       "      <th></th>\n",
       "      <th>x1</th>\n",
       "      <th>x2</th>\n",
       "      <th>y</th>\n",
       "    </tr>\n",
       "  </thead>\n",
       "  <tbody>\n",
       "    <tr>\n",
       "      <th>0</th>\n",
       "      <td>10.00</td>\n",
       "      <td>5.00</td>\n",
       "      <td>1</td>\n",
       "    </tr>\n",
       "    <tr>\n",
       "      <th>1</th>\n",
       "      <td>9.50</td>\n",
       "      <td>10.00</td>\n",
       "      <td>-1</td>\n",
       "    </tr>\n",
       "    <tr>\n",
       "      <th>2</th>\n",
       "      <td>2.30</td>\n",
       "      <td>5.25</td>\n",
       "      <td>-1</td>\n",
       "    </tr>\n",
       "    <tr>\n",
       "      <th>3</th>\n",
       "      <td>3.40</td>\n",
       "      <td>3.88</td>\n",
       "      <td>-1</td>\n",
       "    </tr>\n",
       "    <tr>\n",
       "      <th>4</th>\n",
       "      <td>7.66</td>\n",
       "      <td>4.46</td>\n",
       "      <td>-1</td>\n",
       "    </tr>\n",
       "    <tr>\n",
       "      <th>...</th>\n",
       "      <td>...</td>\n",
       "      <td>...</td>\n",
       "      <td>...</td>\n",
       "    </tr>\n",
       "    <tr>\n",
       "      <th>147</th>\n",
       "      <td>15.01</td>\n",
       "      <td>15.67</td>\n",
       "      <td>1</td>\n",
       "    </tr>\n",
       "    <tr>\n",
       "      <th>148</th>\n",
       "      <td>16.05</td>\n",
       "      <td>14.70</td>\n",
       "      <td>1</td>\n",
       "    </tr>\n",
       "    <tr>\n",
       "      <th>149</th>\n",
       "      <td>15.65</td>\n",
       "      <td>18.23</td>\n",
       "      <td>1</td>\n",
       "    </tr>\n",
       "    <tr>\n",
       "      <th>150</th>\n",
       "      <td>18.85</td>\n",
       "      <td>17.43</td>\n",
       "      <td>1</td>\n",
       "    </tr>\n",
       "    <tr>\n",
       "      <th>151</th>\n",
       "      <td>17.25</td>\n",
       "      <td>15.21</td>\n",
       "      <td>1</td>\n",
       "    </tr>\n",
       "  </tbody>\n",
       "</table>\n",
       "<p>152 rows × 3 columns</p>\n",
       "</div>"
      ],
      "text/plain": [
       "        x1     x2  y\n",
       "0    10.00   5.00  1\n",
       "1     9.50  10.00 -1\n",
       "2     2.30   5.25 -1\n",
       "3     3.40   3.88 -1\n",
       "4     7.66   4.46 -1\n",
       "..     ...    ... ..\n",
       "147  15.01  15.67  1\n",
       "148  16.05  14.70  1\n",
       "149  15.65  18.23  1\n",
       "150  18.85  17.43  1\n",
       "151  17.25  15.21  1\n",
       "\n",
       "[152 rows x 3 columns]"
      ]
     },
     "execution_count": 2,
     "metadata": {},
     "output_type": "execute_result"
    }
   ],
   "source": [
    "dataset = pd.read_csv('LineaireNoisy2.csv', delimiter=';')\n",
    "dataset"
   ]
  },
  {
   "cell_type": "raw",
   "metadata": {},
   "source": [
    "As you can see, we have here 152 examples described by 2 numerical variables (x1 and x2) and 1 categorical target variable (y).\n",
    "Question : What are the possible values for y ? How many examples for each possible values of y ?"
   ]
  },
  {
   "cell_type": "code",
   "execution_count": 3,
   "metadata": {},
   "outputs": [
    {
     "name": "stdout",
     "output_type": "stream",
     "text": [
      "Possible values for Y\n",
      " 1    76\n",
      "-1    76\n",
      "Name: y, dtype: int64\n",
      "En pourcentage\n",
      " 1    50.0\n",
      "-1    50.0\n",
      "Name: y, dtype: float64\n"
     ]
    }
   ],
   "source": [
    "print(\"Possible values for Y\")\n",
    "print(dataset.iloc[:, 2].value_counts())\n",
    "print(\"En pourcentage\")\n",
    "print(dataset.iloc[:, 2].value_counts(normalize=True)* 100)"
   ]
  },
  {
   "cell_type": "raw",
   "metadata": {},
   "source": [
    "Question : Plot this dataset in a (x1, x2) plane, with different colors for the values of y."
   ]
  },
  {
   "cell_type": "code",
   "execution_count": 4,
   "metadata": {},
   "outputs": [
    {
     "name": "stderr",
     "output_type": "stream",
     "text": [
      "No artists with labels found to put in legend.  Note that artists whose label start with an underscore are ignored when legend() is called with no argument.\n"
     ]
    },
    {
     "data": {
      "text/plain": [
       "<matplotlib.legend.Legend at 0x157485f30>"
      ]
     },
     "execution_count": 4,
     "metadata": {},
     "output_type": "execute_result"
    },
    {
     "data": {
      "image/png": "[encoded data removed]",
      "text/plain": [
       "<Figure size 1200x1000 with 1 Axes>"
      ]
     },
     "metadata": {},
     "output_type": "display_data"
    }
   ],
   "source": [
    "# Ici on regroupe les individus en fonction de la valeur de Y\n",
    "class_1 = dataset[dataset['y'] == 1]\n",
    "class_2 = dataset[dataset['y'] == -1]\n",
    "\n",
    "plt.figure(figsize=(12, 10)) # creates a figure with the desired size\n",
    "plt.scatter(class_1.x1, class_1.x2, marker = 'o', color = 'blue')\n",
    "plt.scatter(class_2.x1, class_2.x2, marker = 'o', color = 'red')\n",
    "plt.title(\"Relation entre x1 (x-axis) et x2 (y-axis) en fonction de la valeur de y. Bleu pour classe 1 et rouge pour -1\") # gives a title to the figure\n",
    "plt.xlabel(\"X1\")\n",
    "plt.ylabel(\"X2\")\n",
    "plt.legend(loc = 'best')"
   ]
  },
  {
   "cell_type": "raw",
   "metadata": {},
   "source": [
    "Question : Is this dataset linearly separable ? Find some examples that are close to the boundary"
   ]
  },
  {
   "cell_type": "raw",
   "metadata": {},
   "source": [
    "Yes this dataset is linearly separable"
   ]
  },
  {
   "cell_type": "markdown",
   "metadata": {},
   "source": [
    "## Fitting a linear SVM to this dataset"
   ]
  },
  {
   "cell_type": "code",
   "execution_count": 5,
   "metadata": {},
   "outputs": [],
   "source": [
    "from sklearn import svm"
   ]
  },
  {
   "cell_type": "code",
   "execution_count": 6,
   "metadata": {},
   "outputs": [],
   "source": [
    "model_svm = svm.SVC(C = 1000, kernel = 'linear')\n",
    "# here SVC stands for Support Vector Classification (there are other kinds of SVM),and we ask for a linear kernel\n",
    "# The parameter C is set to 1000"
   ]
  },
  {
   "cell_type": "code",
   "execution_count": 7,
   "metadata": {},
   "outputs": [
    {
     "data": {
      "text/html": [
       "<style>#sk-container-id-1 {color: black;background-color: white;}#sk-container-id-1 pre{padding: 0;}#sk-container-id-1 div.sk-toggleable {background-color: white;}#sk-container-id-1 label.sk-toggleable__label {cursor: pointer;display: block;width: 100%;margin-bottom: 0;padding: 0.3em;box-sizing: border-box;text-align: center;}#sk-container-id-1 label.sk-toggleable__label-arrow:before {content: \"▸\";float: left;margin-right: 0.25em;color: #696969;}#sk-container-id-1 label.sk-toggleable__label-arrow:hover:before {color: black;}#sk-container-id-1 div.sk-estimator:hover label.sk-toggleable__label-arrow:before {color: black;}#sk-container-id-1 div.sk-toggleable__content {max-height: 0;max-width: 0;overflow: hidden;text-align: left;background-color: #f0f8ff;}#sk-container-id-1 div.sk-toggleable__content pre {margin: 0.2em;color: black;border-radius: 0.25em;background-color: #f0f8ff;}#sk-container-id-1 input.sk-toggleable__control:checked~div.sk-toggleable__content {max-height: 200px;max-width: 100%;overflow: auto;}#sk-container-id-1 input.sk-toggleable__control:checked~label.sk-toggleable__label-arrow:before {content: \"▾\";}#sk-container-id-1 div.sk-estimator input.sk-toggleable__control:checked~label.sk-toggleable__label {background-color: #d4ebff;}#sk-container-id-1 div.sk-label input.sk-toggleable__control:checked~label.sk-toggleable__label {background-color: #d4ebff;}#sk-container-id-1 input.sk-hidden--visually {border: 0;clip: rect(1px 1px 1px 1px);clip: rect(1px, 1px, 1px, 1px);height: 1px;margin: -1px;overflow: hidden;padding: 0;position: absolute;width: 1px;}#sk-container-id-1 div.sk-estimator {font-family: monospace;background-color: #f0f8ff;border: 1px dotted black;border-radius: 0.25em;box-sizing: border-box;margin-bottom: 0.5em;}#sk-container-id-1 div.sk-estimator:hover {background-color: #d4ebff;}#sk-container-id-1 div.sk-parallel-item::after {content: \"\";width: 100%;border-bottom: 1px solid gray;flex-grow: 1;}#sk-container-id-1 div.sk-label:hover label.sk-toggleable__label {background-color: #d4ebff;}#sk-container-id-1 div.sk-serial::before {content: \"\";position: absolute;border-left: 1px solid gray;box-sizing: border-box;top: 0;bottom: 0;left: 50%;z-index: 0;}#sk-container-id-1 div.sk-serial {display: flex;flex-direction: column;align-items: center;background-color: white;padding-right: 0.2em;padding-left: 0.2em;position: relative;}#sk-container-id-1 div.sk-item {position: relative;z-index: 1;}#sk-container-id-1 div.sk-parallel {display: flex;align-items: stretch;justify-content: center;background-color: white;position: relative;}#sk-container-id-1 div.sk-item::before, #sk-container-id-1 div.sk-parallel-item::before {content: \"\";position: absolute;border-left: 1px solid gray;box-sizing: border-box;top: 0;bottom: 0;left: 50%;z-index: -1;}#sk-container-id-1 div.sk-parallel-item {display: flex;flex-direction: column;z-index: 1;position: relative;background-color: white;}#sk-container-id-1 div.sk-parallel-item:first-child::after {align-self: flex-end;width: 50%;}#sk-container-id-1 div.sk-parallel-item:last-child::after {align-self: flex-start;width: 50%;}#sk-container-id-1 div.sk-parallel-item:only-child::after {width: 0;}#sk-container-id-1 div.sk-dashed-wrapped {border: 1px dashed gray;margin: 0 0.4em 0.5em 0.4em;box-sizing: border-box;padding-bottom: 0.4em;background-color: white;}#sk-container-id-1 div.sk-label label {font-family: monospace;font-weight: bold;display: inline-block;line-height: 1.2em;}#sk-container-id-1 div.sk-label-container {text-align: center;}#sk-container-id-1 div.sk-container {/* jupyter's `normalize.less` sets `[hidden] { display: none; }` but bootstrap.min.css set `[hidden] { display: none !important; }` so we also need the `!important` here to be able to override the default hidden behavior on the sphinx rendered scikit-learn.org. See: https://github.com/scikit-learn/scikit-learn/issues/21755 */display: inline-block !important;position: relative;}#sk-container-id-1 div.sk-text-repr-fallback {display: none;}</style><div id=\"sk-container-id-1\" class=\"sk-top-container\"><div class=\"sk-text-repr-fallback\"><pre>SVC(C=1000, kernel=&#x27;linear&#x27;)</pre><b>In a Jupyter environment, please rerun this cell to show the HTML representation or trust the notebook. <br />On GitHub, the HTML representation is unable to render, please try loading this page with nbviewer.org.</b></div><div class=\"sk-container\" hidden><div class=\"sk-item\"><div class=\"sk-estimator sk-toggleable\"><input class=\"sk-toggleable__control sk-hidden--visually\" id=\"sk-estimator-id-1\" type=\"checkbox\" checked><label for=\"sk-estimator-id-1\" class=\"sk-toggleable__label sk-toggleable__label-arrow\">SVC</label><div class=\"sk-toggleable__content\"><pre>SVC(C=1000, kernel=&#x27;linear&#x27;)</pre></div></div></div></div></div>"
      ],
      "text/plain": [
       "SVC(C=1000, kernel='linear')"
      ]
     },
     "execution_count": 7,
     "metadata": {},
     "output_type": "execute_result"
    }
   ],
   "source": [
    "model_svm.fit(dataset.iloc[:,0:2], dataset.y)\n",
    "# here we ask to fit the model using the features (x1 and x2) and the target (y)"
   ]
  },
  {
   "cell_type": "raw",
   "metadata": {},
   "source": [
    "In the CM, you have seen that when fitting a SVC model, some support vectors are identified and one coefficient (called weight or Lagrange coefficient) is associated to each support vector. In addition, one more parameter is also estimated: the constant of the model.\n",
    "We can find these informations bt the following commands:"
   ]
  },
  {
   "cell_type": "code",
   "execution_count": 8,
   "metadata": {},
   "outputs": [
    {
     "data": {
      "text/plain": [
       "array([[ 9.41,  6.97],\n",
       "       [10.  ,  5.  ],\n",
       "       [10.78, 18.49]])"
      ]
     },
     "execution_count": 8,
     "metadata": {},
     "output_type": "execute_result"
    }
   ],
   "source": [
    "model_svm.support_vectors_\n",
    "# the support vectors found by the SVC. Here 3 support vectors, called sv1, sv2 and sv3"
   ]
  },
  {
   "cell_type": "code",
   "execution_count": 9,
   "metadata": {},
   "outputs": [
    {
     "data": {
      "text/plain": [
       "array([ 61,   0, 102], dtype=int32)"
      ]
     },
     "execution_count": 9,
     "metadata": {},
     "output_type": "execute_result"
    }
   ],
   "source": [
    "indice_support = model_svm.support_\n",
    "indice_support\n",
    "# the index of the support vectors in the dataset. you can check "
   ]
  },
  {
   "cell_type": "code",
   "execution_count": 10,
   "metadata": {},
   "outputs": [
    {
     "data": {
      "text/plain": [
       "array([[-4.04838982,  3.46935572,  0.5790341 ]])"
      ]
     },
     "execution_count": 10,
     "metadata": {},
     "output_type": "execute_result"
    }
   ],
   "source": [
    "model_svm.dual_coef_\n",
    "# the lagrange coefficients associated to the support vectors (w1, w2 and w3)"
   ]
  },
  {
   "cell_type": "code",
   "execution_count": 11,
   "metadata": {},
   "outputs": [
    {
     "data": {
      "text/plain": [
       "array([-26.58177221])"
      ]
     },
     "execution_count": 11,
     "metadata": {},
     "output_type": "execute_result"
    }
   ],
   "source": [
    "model_svm.intercept_\n",
    "# the constant of the model (w0)"
   ]
  },
  {
   "cell_type": "raw",
   "metadata": {},
   "source": [
    "When a model is fitted, it can be used to make some predictions. We'll recall the decision process of a SVC here.\n",
    "For an example described by a feature vector x (here with 2 features), the model computes:\n",
    "h(x) = w1* (sv1.x) + w2*(sv2.x) + w3 * (sv3.x) + w0. w_i = alpha_i * y_i\n",
    "here there is 3 support vectors, so three terms in this formula, plus the constant\n",
    "then if h(x) > 0, it predicts y = 1, otherwise it predicts y = -1 (here it is binary classification)\n",
    "You can obtain the h(x) values for the examples in the dataset by the following command:"
   ]
  },
  {
   "cell_type": "code",
   "execution_count": 12,
   "metadata": {},
   "outputs": [
    {
     "data": {
      "text/plain": [
       "array([  0.99940407,  -1.24148389, -20.91114918, -17.56203656,\n",
       "        -5.55801067, -10.10889154,  -3.90822106, -21.76685665,\n",
       "       -10.39666304, -18.76130279, -13.09448448, -15.41565599,\n",
       "       -22.18728362,  -3.62255982, -16.27032034, -17.78695937,\n",
       "        -7.43350422, -17.49256868, -17.13473082,  -7.38326661,\n",
       "       -19.5516331 , -12.85908729, -16.87859157, -18.21741848,\n",
       "        -4.32685023, -10.06558557,  -6.0540296 , -12.56078853,\n",
       "       -12.99192542, -11.72582313,  -7.3553862 , -12.18372041,\n",
       "        -7.47457014, -24.64741494, -10.16024918, -18.04301931,\n",
       "       -14.80785344, -21.27232307,  -1.34003152, -17.23762877,\n",
       "        -7.28068112, -13.86615894, -19.43865014, -10.60139177,\n",
       "        -7.27870065, -10.47191611,  -5.97833429, -10.88212828,\n",
       "        -3.49899913, -12.14974236,  -4.26845759, -20.12147022,\n",
       "       -11.9679693 , -11.42929574, -14.07039256, -24.64824895,\n",
       "        -6.91064799, -19.1329775 , -16.77089868,  -8.609971  ,\n",
       "        -9.54137378,  -0.99970304, -10.91975481,  -7.86935675,\n",
       "       -19.29142955,  -9.86622382, -13.47327349, -21.38481091,\n",
       "       -12.16303122,  -3.04138787, -18.88973774,  -6.08563542,\n",
       "       -11.23397424, -21.91339945, -21.53578334, -24.28360924,\n",
       "       -10.94026133,  11.17421548,  19.20404996,   9.92861971,\n",
       "        20.03091321,  13.13832788,  16.69910087,   8.34470237,\n",
       "        13.68124839,  12.45511842,  15.96721608,   4.13081394,\n",
       "        16.63815334,  14.39411201,  19.83746643,   5.63744726,\n",
       "        19.67263072,  11.46438326,  19.11986073,  17.72779908,\n",
       "         4.53487799,  18.03120523,  21.22731209,   9.7979447 ,\n",
       "        13.76173865,  23.24992287,   1.00026691,  22.67359873,\n",
       "        11.25139614,  23.45449538,   5.03868662,  12.51364085,\n",
       "        11.64227468,   9.52888192,  16.39600717,  15.81851014,\n",
       "        16.62528268,   6.20978641,  16.19787119,  26.19585832,\n",
       "        23.10254606,   8.46878461,   8.73326155,  18.9249286 ,\n",
       "         4.38789055,  11.97306614,  16.02847607,  15.56403891,\n",
       "        13.53293421,  16.8728487 ,   4.88588995,   9.80372989,\n",
       "        18.22183753,  10.02690537,   8.79188972,  15.36751807,\n",
       "        15.81861349,  11.76604448,   6.34606393,   5.872532  ,\n",
       "        13.78159383,   9.90850494,   9.55921149,  24.05111932,\n",
       "        15.08263797,   4.53881249,  15.33236712,  22.02290602,\n",
       "        15.70107113,  15.28296352,  13.41395698,  13.47722387,\n",
       "        16.59026152,  14.87470538,  24.09466083,  19.91477689])"
      ]
     },
     "execution_count": 12,
     "metadata": {},
     "output_type": "execute_result"
    }
   ],
   "source": [
    "decisions = model_svm.decision_function(dataset.iloc[:,0:2])\n",
    "decisions"
   ]
  },
  {
   "cell_type": "raw",
   "metadata": {},
   "source": [
    "Question : what are the decisions (predictions of y) for the 2 first examples of the dataset ? Are these decisions correct ?"
   ]
  },
  {
   "cell_type": "raw",
   "metadata": {},
   "source": [
    "1er exemple h(x) = 0.99940407 > 0 => y = 1\n",
    "2eme exemple h(x) = -1.24148389 < 0 => y = -1\n",
    "oui la décision est bien correcte"
   ]
  },
  {
   "cell_type": "raw",
   "metadata": {},
   "source": [
    "Question : what are the decision values for the 3 support vectors ? Was it expected ?"
   ]
  },
  {
   "cell_type": "code",
   "execution_count": 13,
   "metadata": {},
   "outputs": [
    {
     "name": "stdout",
     "output_type": "stream",
     "text": [
      "h_support_indice_61 = -0.9997030442377621 \n",
      "h_support_indice_0 = 0.9994040735050476 \n",
      "h_support_indice_102 = 1.0002669063476475 \n",
      "yes is expected\n"
     ]
    }
   ],
   "source": [
    "for indice in indice_support:\n",
    "    h = decisions[indice]\n",
    "    print(f\"h_support_indice_{indice} = {h} \")\n",
    "\n",
    "print('yes is expected')"
   ]
  },
  {
   "cell_type": "raw",
   "metadata": {},
   "source": [
    "Question : without any command or computation, what should be the prediction score of this model on the examples of dataset ?"
   ]
  },
  {
   "cell_type": "raw",
   "metadata": {},
   "source": [
    "The prediction score of this model is 1.\n",
    "Car on a définit une très grande valeur pour C, donc d'essayer de ne pas faire d'erreur."
   ]
  },
  {
   "cell_type": "raw",
   "metadata": {},
   "source": [
    "Question : using the score function applied to svm_model on dataset, compute the prediction score on this dataset (same use of score function than previous algorithms). "
   ]
  },
  {
   "cell_type": "code",
   "execution_count": 14,
   "metadata": {},
   "outputs": [
    {
     "name": "stdout",
     "output_type": "stream",
     "text": [
      "Le score = 1.0\n"
     ]
    }
   ],
   "source": [
    "score = model_svm.score(dataset.iloc[:,0:2], dataset.y)\n",
    "print(f\"Le score = {score}\")"
   ]
  },
  {
   "cell_type": "raw",
   "metadata": {},
   "source": [
    "Run the following cells to see a plot of your dataset together with the decision boundary and the margins.\n",
    "Question : Does this boundary seem adapted to the dataset ?"
   ]
  },
  {
   "cell_type": "code",
   "execution_count": 15,
   "metadata": {},
   "outputs": [],
   "source": [
    "def svm_draw(model_svm, xmin, xmax, dataset):\n",
    "    \n",
    "    color_map = matplotlib.colors.ListedColormap(pd.Series(['blue', 'red']))\n",
    "\n",
    "\n",
    "    plt.figure(figsize=(10, 8))\n",
    "    # Plotting our two-features-space\n",
    "    plt.scatter(dataset.iloc[:,0], dataset.iloc[:,1], c = dataset.y, cmap = color_map, marker='+')\n",
    "    # Constructing a hyperplane using a formula.\n",
    "    w = model_svm.coef_[0]           # w consists of 2 elements\n",
    "    b = model_svm.intercept_[0]      # b consists of 1 element\n",
    "    x_points = np.linspace(xmin, xmax)    # generating x-points from -1 to 1\n",
    "    y_points = -(w[0] / w[1]) * x_points - b / w[1]  # getting corresponding y-points\n",
    "\n",
    "    plt.plot(x_points, y_points, c='g');\n",
    "\n",
    "    plt.scatter(model_svm.support_vectors_[:, 0],\n",
    "                model_svm.support_vectors_[:, 1], \n",
    "                s=50, \n",
    "                facecolors='none', \n",
    "                edgecolors='k', \n",
    "                alpha=1);\n",
    "\n",
    "    # Step 2 (unit-vector):\n",
    "    w_hat = model_svm.coef_[0] / (np.sqrt(np.sum(model_svm.coef_[0] ** 2)))\n",
    "    # Step 3 (margin):\n",
    "    margin = 1 / np.sqrt(np.sum(model_svm.coef_[0] ** 2))\n",
    "    # Step 4 (calculate points of the margin lines):\n",
    "    decision_boundary_points = np.array(list(zip(x_points, y_points)))\n",
    "    points_of_line_above = decision_boundary_points + w_hat * margin\n",
    "    points_of_line_below = decision_boundary_points - w_hat * margin\n",
    "    # Plot margin lines\n",
    "    # Blue margin line above\n",
    "    plt.plot(points_of_line_above[:, 0], \n",
    "             points_of_line_above[:, 1], \n",
    "             'g--', \n",
    "             linewidth=2)\n",
    "    # Green margin line below\n",
    "    plt.plot(points_of_line_below[:, 0], \n",
    "             points_of_line_below[:, 1], \n",
    "             'g--',\n",
    "             linewidth=2)"
   ]
  },
  {
   "cell_type": "code",
   "execution_count": 16,
   "metadata": {},
   "outputs": [
    {
     "data": {
      "image/png": "[encoded data removed]",
      "text/plain": [
       "<Figure size 1000x800 with 1 Axes>"
      ]
     },
     "metadata": {},
     "output_type": "display_data"
    }
   ],
   "source": [
    "svm_draw(model_svm, 9.3, 10.7, dataset)"
   ]
  },
  {
   "cell_type": "raw",
   "metadata": {},
   "source": [
    "Even if the dataset is linearly separable, this boundary is not very adapted. because C is very high the model favours no training error. a diagonal line would have been more adapted by it would have made a few errors, that are penalized by the high value of C"
   ]
  },
  {
   "cell_type": "raw",
   "metadata": {},
   "source": [
    "We will now try a smaller value of C to understand its influence.\n",
    "Questions : \n",
    " - Fit a model with C = 1\n",
    " - How many support vectors are selected ?\n",
    " - Plot the new boundary and margins\n",
    " - How many points are inside the margins ? on the margins ?\n",
    " - How many points from the dataset are misclassified ?\n",
    " - What are the values of h(x) for the support vectors ?"
   ]
  },
  {
   "cell_type": "code",
   "execution_count": 17,
   "metadata": {},
   "outputs": [],
   "source": [
    "model_svm_1 = svm.SVC(C = 1, kernel = 'linear').fit(dataset.iloc[:,0:2], dataset.y)"
   ]
  },
  {
   "cell_type": "code",
   "execution_count": 18,
   "metadata": {},
   "outputs": [
    {
     "name": "stdout",
     "output_type": "stream",
     "text": [
      "there are 4 for this model \n",
      "vectors support for this model : [[ 9.5  10.  ]\n",
      " [ 9.41  6.97]\n",
      " [10.    5.  ]\n",
      " [10.78 18.49]] \n",
      "indice of vectors support : [  1  61   0 102] \n"
     ]
    }
   ],
   "source": [
    "supports = model_svm_1.support_vectors_\n",
    "indice_supports = model_svm_1.support_\n",
    "\n",
    "print(f\"there are {len(indice_supports)} for this model \")\n",
    "print(f\"vectors support for this model : {supports} \")\n",
    "print(f\"indice of vectors support : {indice_supports} \")"
   ]
  },
  {
   "cell_type": "code",
   "execution_count": 19,
   "metadata": {},
   "outputs": [
    {
     "data": {
      "image/png": "[encoded data removed]",
      "text/plain": [
       "<Figure size 1000x800 with 1 Axes>"
      ]
     },
     "metadata": {},
     "output_type": "display_data"
    }
   ],
   "source": [
    "svm_draw(model_svm_1, 9.3, 10.7, dataset)"
   ]
  },
  {
   "cell_type": "code",
   "execution_count": 20,
   "metadata": {},
   "outputs": [
    {
     "name": "stdout",
     "output_type": "stream",
     "text": [
      "On a deux points sur la marge et 2 autres dans la marge\n",
      "On a 1 seul point qui est mal placé.\n",
      "Valeur des h des vecteurs support : \n",
      "h_support_indice_1 = -0.7712497694552205 \n",
      "h_support_indice_61 = -0.9999940580628071 \n",
      "h_support_indice_0 = -0.4355364352112012 \n",
      "h_support_indice_102 = 0.9999944997884178 \n"
     ]
    }
   ],
   "source": [
    "print(\"On a deux points sur la marge et 2 autres dans la marge\")\n",
    "print(\"On a 1 seul point qui est mal placé.\")\n",
    "print(\"Valeur des h des vecteurs support : \")\n",
    "\n",
    "decisions_1 = model_svm_1.decision_function(dataset.iloc[:,0:2])\n",
    "for indice in indice_supports:\n",
    "    h = decisions_1[indice]\n",
    "    print(f\"h_support_indice_{indice} = {h} \")"
   ]
  },
  {
   "cell_type": "raw",
   "metadata": {},
   "source": [
    "Questions : Same questions for C = 0.01.\n",
    "you'll have to modify xmin and xmax in the svm_draw function to 3 and 17"
   ]
  },
  {
   "cell_type": "code",
   "execution_count": 21,
   "metadata": {},
   "outputs": [],
   "source": [
    "model_svm_2 = svm.SVC(C = 0.01, kernel = 'linear').fit(dataset.iloc[:,0:2], dataset.y)"
   ]
  },
  {
   "cell_type": "code",
   "execution_count": 22,
   "metadata": {},
   "outputs": [
    {
     "name": "stdout",
     "output_type": "stream",
     "text": [
      "there are 12 for this model \n",
      "vectors support for this model : [[ 9.5  10.  ]\n",
      " [ 5.24  8.5 ]\n",
      " [ 8.19  6.13]\n",
      " [ 9.3   7.14]\n",
      " [ 9.41  6.97]\n",
      " [ 7.03  7.64]\n",
      " [10.    5.  ]\n",
      " [11.61 13.78]\n",
      " [14.01 10.63]\n",
      " [11.91 13.44]\n",
      " [11.63 12.56]\n",
      " [13.59 12.12]] \n",
      "indice of vectors support : [  1  10  24  38  61  63   0  87  93 106 120 129] \n"
     ]
    }
   ],
   "source": [
    "supports = model_svm_2.support_vectors_\n",
    "indice_supports = model_svm_2.support_\n",
    "\n",
    "print(f\"there are {len(indice_supports)} for this model \")\n",
    "print(f\"vectors support for this model : {supports} \")\n",
    "print(f\"indice of vectors support : {indice_supports} \")"
   ]
  },
  {
   "cell_type": "code",
   "execution_count": 23,
   "metadata": {},
   "outputs": [
    {
     "data": {
      "image/png": "[encoded data removed]",
      "text/plain": [
       "<Figure size 1000x800 with 1 Axes>"
      ]
     },
     "metadata": {},
     "output_type": "display_data"
    }
   ],
   "source": [
    "svm_draw(model_svm_2, 3, 17, dataset)"
   ]
  },
  {
   "cell_type": "code",
   "execution_count": 24,
   "metadata": {},
   "outputs": [
    {
     "name": "stdout",
     "output_type": "stream",
     "text": [
      "On a 10 points sur la marge et 2 autres dans la marge\n",
      "On a 1 seul point qui est mal placé.\n",
      "Valeur des h des vecteurs support : \n",
      "h_support_indice_1 = -0.041231222131473455 \n",
      "h_support_indice_10 = -1.0000001334355244 \n",
      "h_support_indice_24 = -0.9413556385389343 \n",
      "h_support_indice_38 = -0.5815916640424228 \n",
      "h_support_indice_61 = -0.5938995221381709 \n",
      "h_support_indice_63 = -0.86176782035208 \n",
      "h_support_indice_0 = -0.8478167088246971 \n",
      "h_support_indice_87 = 0.9729423364336944 \n",
      "h_support_indice_93 = 0.8036855338174935 \n",
      "h_support_indice_106 = 0.9613296726738754 \n",
      "h_support_indice_120 = 0.759556585830166 \n",
      "h_support_indice_129 = 1.0000001687397764 \n"
     ]
    }
   ],
   "source": [
    "print(\"On a 10 points sur la marge et 2 autres dans la marge\")\n",
    "print(\"On a 1 seul point qui est mal placé.\")\n",
    "print(\"Valeur des h des vecteurs support : \")\n",
    "\n",
    "decisions = model_svm_2.decision_function(dataset.iloc[:,0:2])\n",
    "for indice in indice_supports:\n",
    "    h = decisions[indice]\n",
    "    print(f\"h_support_indice_{indice} = {h} \")"
   ]
  },
  {
   "cell_type": "raw",
   "metadata": {},
   "source": [
    "Question : what can you conclude about the influence of C ?"
   ]
  },
  {
   "cell_type": "markdown",
   "metadata": {},
   "source": [
    "Lorsque C est élevé, nous n'avons pas beaucoup de points sélectionnés comme vecteur support parce que le coût d'une erreur est important, mais lorsque C est court, nous avons beaucoup de points sélectionnés comme vecteur support parce que le coût des erreurs n'est pas important.\n",
    "\n",
    "When C is high, we don't have many points selected as support vectors because the cost of an error is high, but when C is low, we have many points selected as support vectors because the cost of errors is not high."
   ]
  },
  {
   "cell_type": "markdown",
   "metadata": {},
   "source": [
    "# Exercise 2: Choosing C using train/val/test split"
   ]
  },
  {
   "cell_type": "raw",
   "metadata": {},
   "source": [
    "In this exercise, you will choose the best value of C (for a given dataset) by the same procedure as for the other algorithms: train/validation/test split"
   ]
  },
  {
   "cell_type": "code",
   "execution_count": 25,
   "metadata": {},
   "outputs": [
    {
     "data": {
      "text/html": [
       "<div>\n",
       "<style scoped>\n",
       "    .dataframe tbody tr th:only-of-type {\n",
       "        vertical-align: middle;\n",
       "    }\n",
       "\n",
       "    .dataframe tbody tr th {\n",
       "        vertical-align: top;\n",
       "    }\n",
       "\n",
       "    .dataframe thead th {\n",
       "        text-align: right;\n",
       "    }\n",
       "</style>\n",
       "<table border=\"1\" class=\"dataframe\">\n",
       "  <thead>\n",
       "    <tr style=\"text-align: right;\">\n",
       "      <th></th>\n",
       "      <th>crl.tot</th>\n",
       "      <th>dollar</th>\n",
       "      <th>bang</th>\n",
       "      <th>money</th>\n",
       "      <th>n000</th>\n",
       "      <th>make</th>\n",
       "      <th>yesno</th>\n",
       "    </tr>\n",
       "  </thead>\n",
       "  <tbody>\n",
       "    <tr>\n",
       "      <th>0</th>\n",
       "      <td>278</td>\n",
       "      <td>0.000</td>\n",
       "      <td>0.778</td>\n",
       "      <td>0.00</td>\n",
       "      <td>0.00</td>\n",
       "      <td>0.00</td>\n",
       "      <td>y</td>\n",
       "    </tr>\n",
       "    <tr>\n",
       "      <th>1</th>\n",
       "      <td>1028</td>\n",
       "      <td>0.180</td>\n",
       "      <td>0.372</td>\n",
       "      <td>0.43</td>\n",
       "      <td>0.43</td>\n",
       "      <td>0.21</td>\n",
       "      <td>y</td>\n",
       "    </tr>\n",
       "    <tr>\n",
       "      <th>2</th>\n",
       "      <td>2259</td>\n",
       "      <td>0.184</td>\n",
       "      <td>0.276</td>\n",
       "      <td>0.06</td>\n",
       "      <td>1.16</td>\n",
       "      <td>0.06</td>\n",
       "      <td>y</td>\n",
       "    </tr>\n",
       "    <tr>\n",
       "      <th>3</th>\n",
       "      <td>191</td>\n",
       "      <td>0.000</td>\n",
       "      <td>0.137</td>\n",
       "      <td>0.00</td>\n",
       "      <td>0.00</td>\n",
       "      <td>0.00</td>\n",
       "      <td>y</td>\n",
       "    </tr>\n",
       "    <tr>\n",
       "      <th>4</th>\n",
       "      <td>191</td>\n",
       "      <td>0.000</td>\n",
       "      <td>0.135</td>\n",
       "      <td>0.00</td>\n",
       "      <td>0.00</td>\n",
       "      <td>0.00</td>\n",
       "      <td>y</td>\n",
       "    </tr>\n",
       "    <tr>\n",
       "      <th>...</th>\n",
       "      <td>...</td>\n",
       "      <td>...</td>\n",
       "      <td>...</td>\n",
       "      <td>...</td>\n",
       "      <td>...</td>\n",
       "      <td>...</td>\n",
       "      <td>...</td>\n",
       "    </tr>\n",
       "    <tr>\n",
       "      <th>4596</th>\n",
       "      <td>88</td>\n",
       "      <td>0.000</td>\n",
       "      <td>0.000</td>\n",
       "      <td>0.00</td>\n",
       "      <td>0.00</td>\n",
       "      <td>0.31</td>\n",
       "      <td>n</td>\n",
       "    </tr>\n",
       "    <tr>\n",
       "      <th>4597</th>\n",
       "      <td>14</td>\n",
       "      <td>0.000</td>\n",
       "      <td>0.353</td>\n",
       "      <td>0.00</td>\n",
       "      <td>0.00</td>\n",
       "      <td>0.00</td>\n",
       "      <td>n</td>\n",
       "    </tr>\n",
       "    <tr>\n",
       "      <th>4598</th>\n",
       "      <td>118</td>\n",
       "      <td>0.000</td>\n",
       "      <td>0.000</td>\n",
       "      <td>0.00</td>\n",
       "      <td>0.00</td>\n",
       "      <td>0.30</td>\n",
       "      <td>n</td>\n",
       "    </tr>\n",
       "    <tr>\n",
       "      <th>4599</th>\n",
       "      <td>78</td>\n",
       "      <td>0.000</td>\n",
       "      <td>0.000</td>\n",
       "      <td>0.00</td>\n",
       "      <td>0.00</td>\n",
       "      <td>0.96</td>\n",
       "      <td>n</td>\n",
       "    </tr>\n",
       "    <tr>\n",
       "      <th>4600</th>\n",
       "      <td>40</td>\n",
       "      <td>0.000</td>\n",
       "      <td>0.125</td>\n",
       "      <td>0.00</td>\n",
       "      <td>0.00</td>\n",
       "      <td>0.00</td>\n",
       "      <td>n</td>\n",
       "    </tr>\n",
       "  </tbody>\n",
       "</table>\n",
       "<p>4601 rows × 7 columns</p>\n",
       "</div>"
      ],
      "text/plain": [
       "      crl.tot  dollar   bang  money  n000  make yesno\n",
       "0         278   0.000  0.778   0.00  0.00  0.00     y\n",
       "1        1028   0.180  0.372   0.43  0.43  0.21     y\n",
       "2        2259   0.184  0.276   0.06  1.16  0.06     y\n",
       "3         191   0.000  0.137   0.00  0.00  0.00     y\n",
       "4         191   0.000  0.135   0.00  0.00  0.00     y\n",
       "...       ...     ...    ...    ...   ...   ...   ...\n",
       "4596       88   0.000  0.000   0.00  0.00  0.31     n\n",
       "4597       14   0.000  0.353   0.00  0.00  0.00     n\n",
       "4598      118   0.000  0.000   0.00  0.00  0.30     n\n",
       "4599       78   0.000  0.000   0.00  0.00  0.96     n\n",
       "4600       40   0.000  0.125   0.00  0.00  0.00     n\n",
       "\n",
       "[4601 rows x 7 columns]"
      ]
     },
     "execution_count": 25,
     "metadata": {},
     "output_type": "execute_result"
    }
   ],
   "source": [
    "# Load the dataset\n",
    "dataset = pd.read_csv(\"spam7.csv\", decimal=\",\", index_col=0, delimiter = \";\")\n",
    "dataset\n",
    "# A description about this dataset is given here:\n",
    "# http://math.furman.edu/~dcs/courses/math47/R/library/DAAG/html/spam7.html"
   ]
  },
  {
   "cell_type": "raw",
   "metadata": {},
   "source": [
    "Question : How many examples ? How many features ? What is the distribution of the target"
   ]
  },
  {
   "cell_type": "code",
   "execution_count": 26,
   "metadata": {},
   "outputs": [
    {
     "name": "stdout",
     "output_type": "stream",
     "text": [
      "Examples are available in this dataset : 4601\n",
      "Features : ['crl.tot', 'dollar', 'bang', 'money', 'n000', 'make']\n",
      "Distribution of the target variable\n",
      "n    2788\n",
      "y    1813\n",
      "Name: yesno, dtype: int64\n",
      "En pourcentage\n",
      "n    60.595523\n",
      "y    39.404477\n",
      "Name: yesno, dtype: float64\n"
     ]
    }
   ],
   "source": [
    "print(f\"Examples are available in this dataset : {len(dataset)}\")\n",
    "liste = dataset.columns.to_list()\n",
    "liste.pop()\n",
    "print(f\"Features : {liste}\")\n",
    "print(\"Distribution of the target variable\")\n",
    "print(dataset.iloc[:, 6].value_counts())\n",
    "print(\"En pourcentage\")\n",
    "print(dataset.iloc[:, 6].value_counts(normalize=True)* 100)"
   ]
  },
  {
   "cell_type": "raw",
   "metadata": {},
   "source": [
    "SVM can be very long to fit when the dataset is big (number of examples, number of features).\n",
    "It is better to scale the features before fitting a model. A classical scaling is the standard scaler, which removes the mean and divide by the standard deviation. Hence, after this operation, each feature has a mean of zero and a standard deviation of 1. We are going to do this in the next cells"
   ]
  },
  {
   "cell_type": "code",
   "execution_count": null,
   "metadata": {},
   "outputs": [
    {
     "data": {
      "text/html": [
       "<div>\n",
       "<style scoped>\n",
       "    .dataframe tbody tr th:only-of-type {\n",
       "        vertical-align: middle;\n",
       "    }\n",
       "\n",
       "    .dataframe tbody tr th {\n",
       "        vertical-align: top;\n",
       "    }\n",
       "\n",
       "    .dataframe thead th {\n",
       "        text-align: right;\n",
       "    }\n",
       "</style>\n",
       "<table border=\"1\" class=\"dataframe\">\n",
       "  <thead>\n",
       "    <tr style=\"text-align: right;\">\n",
       "      <th></th>\n",
       "      <th>crl.tot</th>\n",
       "      <th>dollar</th>\n",
       "      <th>bang</th>\n",
       "      <th>money</th>\n",
       "      <th>n000</th>\n",
       "      <th>make</th>\n",
       "      <th>yesno</th>\n",
       "    </tr>\n",
       "  </thead>\n",
       "  <tbody>\n",
       "    <tr>\n",
       "      <th>0</th>\n",
       "      <td>278</td>\n",
       "      <td>0.000</td>\n",
       "      <td>0.778</td>\n",
       "      <td>0.00</td>\n",
       "      <td>0.00</td>\n",
       "      <td>0.00</td>\n",
       "      <td>y</td>\n",
       "    </tr>\n",
       "    <tr>\n",
       "      <th>1</th>\n",
       "      <td>1028</td>\n",
       "      <td>0.180</td>\n",
       "      <td>0.372</td>\n",
       "      <td>0.43</td>\n",
       "      <td>0.43</td>\n",
       "      <td>0.21</td>\n",
       "      <td>y</td>\n",
       "    </tr>\n",
       "    <tr>\n",
       "      <th>2</th>\n",
       "      <td>2259</td>\n",
       "      <td>0.184</td>\n",
       "      <td>0.276</td>\n",
       "      <td>0.06</td>\n",
       "      <td>1.16</td>\n",
       "      <td>0.06</td>\n",
       "      <td>y</td>\n",
       "    </tr>\n",
       "    <tr>\n",
       "      <th>3</th>\n",
       "      <td>191</td>\n",
       "      <td>0.000</td>\n",
       "      <td>0.137</td>\n",
       "      <td>0.00</td>\n",
       "      <td>0.00</td>\n",
       "      <td>0.00</td>\n",
       "      <td>y</td>\n",
       "    </tr>\n",
       "    <tr>\n",
       "      <th>4</th>\n",
       "      <td>191</td>\n",
       "      <td>0.000</td>\n",
       "      <td>0.135</td>\n",
       "      <td>0.00</td>\n",
       "      <td>0.00</td>\n",
       "      <td>0.00</td>\n",
       "      <td>y</td>\n",
       "    </tr>\n",
       "    <tr>\n",
       "      <th>...</th>\n",
       "      <td>...</td>\n",
       "      <td>...</td>\n",
       "      <td>...</td>\n",
       "      <td>...</td>\n",
       "      <td>...</td>\n",
       "      <td>...</td>\n",
       "      <td>...</td>\n",
       "    </tr>\n",
       "    <tr>\n",
       "      <th>4596</th>\n",
       "      <td>88</td>\n",
       "      <td>0.000</td>\n",
       "      <td>0.000</td>\n",
       "      <td>0.00</td>\n",
       "      <td>0.00</td>\n",
       "      <td>0.31</td>\n",
       "      <td>n</td>\n",
       "    </tr>\n",
       "    <tr>\n",
       "      <th>4597</th>\n",
       "      <td>14</td>\n",
       "      <td>0.000</td>\n",
       "      <td>0.353</td>\n",
       "      <td>0.00</td>\n",
       "      <td>0.00</td>\n",
       "      <td>0.00</td>\n",
       "      <td>n</td>\n",
       "    </tr>\n",
       "    <tr>\n",
       "      <th>4598</th>\n",
       "      <td>118</td>\n",
       "      <td>0.000</td>\n",
       "      <td>0.000</td>\n",
       "      <td>0.00</td>\n",
       "      <td>0.00</td>\n",
       "      <td>0.30</td>\n",
       "      <td>n</td>\n",
       "    </tr>\n",
       "    <tr>\n",
       "      <th>4599</th>\n",
       "      <td>78</td>\n",
       "      <td>0.000</td>\n",
       "      <td>0.000</td>\n",
       "      <td>0.00</td>\n",
       "      <td>0.00</td>\n",
       "      <td>0.96</td>\n",
       "      <td>n</td>\n",
       "    </tr>\n",
       "    <tr>\n",
       "      <th>4600</th>\n",
       "      <td>40</td>\n",
       "      <td>0.000</td>\n",
       "      <td>0.125</td>\n",
       "      <td>0.00</td>\n",
       "      <td>0.00</td>\n",
       "      <td>0.00</td>\n",
       "      <td>n</td>\n",
       "    </tr>\n",
       "  </tbody>\n",
       "</table>\n",
       "<p>4601 rows × 7 columns</p>\n",
       "</div>"
      ],
      "text/plain": [
       "      crl.tot  dollar   bang  money  n000  make yesno\n",
       "0         278   0.000  0.778   0.00  0.00  0.00     y\n",
       "1        1028   0.180  0.372   0.43  0.43  0.21     y\n",
       "2        2259   0.184  0.276   0.06  1.16  0.06     y\n",
       "3         191   0.000  0.137   0.00  0.00  0.00     y\n",
       "4         191   0.000  0.135   0.00  0.00  0.00     y\n",
       "...       ...     ...    ...    ...   ...   ...   ...\n",
       "4596       88   0.000  0.000   0.00  0.00  0.31     n\n",
       "4597       14   0.000  0.353   0.00  0.00  0.00     n\n",
       "4598      118   0.000  0.000   0.00  0.00  0.30     n\n",
       "4599       78   0.000  0.000   0.00  0.00  0.96     n\n",
       "4600       40   0.000  0.125   0.00  0.00  0.00     n\n",
       "\n",
       "[4601 rows x 7 columns]"
      ]
     },
     "execution_count": 27,
     "metadata": {},
     "output_type": "execute_result"
    }
   ],
   "source": [
    "dataset"
   ]
  },
  {
   "cell_type": "code",
   "execution_count": 28,
   "metadata": {},
   "outputs": [
    {
     "name": "stdout",
     "output_type": "stream",
     "text": [
      "-2.470915838331146e-17\n"
     ]
    }
   ],
   "source": [
    "from sklearn.preprocessing import StandardScaler\n",
    "# First, get the features\n",
    "X = dataset.iloc[:,0:6]\n",
    "# then create a scaler on X\n",
    "scaler = StandardScaler().fit(X)\n",
    "# Apply it to X\n",
    "X = scaler.transform(X)\n",
    "# create a dataframe with X\n",
    "X = pd.DataFrame(X, columns=dataset.columns[0:6])\n",
    "X\n",
    "# You should see that the features have been transformed\n",
    "print(X.dollar.mean())\n",
    "# the mean of feature 'dollar' is now 0 (very close to 0)\n",
    "# it is the same for the other features"
   ]
  },
  {
   "cell_type": "code",
   "execution_count": 29,
   "metadata": {},
   "outputs": [
    {
     "data": {
      "text/html": [
       "<div>\n",
       "<style scoped>\n",
       "    .dataframe tbody tr th:only-of-type {\n",
       "        vertical-align: middle;\n",
       "    }\n",
       "\n",
       "    .dataframe tbody tr th {\n",
       "        vertical-align: top;\n",
       "    }\n",
       "\n",
       "    .dataframe thead th {\n",
       "        text-align: right;\n",
       "    }\n",
       "</style>\n",
       "<table border=\"1\" class=\"dataframe\">\n",
       "  <thead>\n",
       "    <tr style=\"text-align: right;\">\n",
       "      <th></th>\n",
       "      <th>crl.tot</th>\n",
       "      <th>dollar</th>\n",
       "      <th>bang</th>\n",
       "      <th>money</th>\n",
       "      <th>n000</th>\n",
       "      <th>make</th>\n",
       "      <th>yesno</th>\n",
       "    </tr>\n",
       "  </thead>\n",
       "  <tbody>\n",
       "    <tr>\n",
       "      <th>0</th>\n",
       "      <td>-0.008724</td>\n",
       "      <td>-0.308355</td>\n",
       "      <td>0.624007</td>\n",
       "      <td>-0.212994</td>\n",
       "      <td>-0.290209</td>\n",
       "      <td>-0.342434</td>\n",
       "      <td>y</td>\n",
       "    </tr>\n",
       "    <tr>\n",
       "      <th>1</th>\n",
       "      <td>1.228324</td>\n",
       "      <td>0.423783</td>\n",
       "      <td>0.126203</td>\n",
       "      <td>0.758565</td>\n",
       "      <td>0.937491</td>\n",
       "      <td>0.345359</td>\n",
       "      <td>y</td>\n",
       "    </tr>\n",
       "    <tr>\n",
       "      <th>2</th>\n",
       "      <td>3.258733</td>\n",
       "      <td>0.440053</td>\n",
       "      <td>0.008496</td>\n",
       "      <td>-0.077428</td>\n",
       "      <td>3.021726</td>\n",
       "      <td>-0.145921</td>\n",
       "      <td>y</td>\n",
       "    </tr>\n",
       "    <tr>\n",
       "      <th>3</th>\n",
       "      <td>-0.152222</td>\n",
       "      <td>-0.308355</td>\n",
       "      <td>-0.161934</td>\n",
       "      <td>-0.212994</td>\n",
       "      <td>-0.290209</td>\n",
       "      <td>-0.342434</td>\n",
       "      <td>y</td>\n",
       "    </tr>\n",
       "    <tr>\n",
       "      <th>4</th>\n",
       "      <td>-0.152222</td>\n",
       "      <td>-0.308355</td>\n",
       "      <td>-0.164387</td>\n",
       "      <td>-0.212994</td>\n",
       "      <td>-0.290209</td>\n",
       "      <td>-0.342434</td>\n",
       "      <td>y</td>\n",
       "    </tr>\n",
       "    <tr>\n",
       "      <th>...</th>\n",
       "      <td>...</td>\n",
       "      <td>...</td>\n",
       "      <td>...</td>\n",
       "      <td>...</td>\n",
       "      <td>...</td>\n",
       "      <td>...</td>\n",
       "      <td>...</td>\n",
       "    </tr>\n",
       "    <tr>\n",
       "      <th>4596</th>\n",
       "      <td>-0.322110</td>\n",
       "      <td>-0.308355</td>\n",
       "      <td>-0.329912</td>\n",
       "      <td>-0.212994</td>\n",
       "      <td>-0.290209</td>\n",
       "      <td>0.672880</td>\n",
       "      <td>n</td>\n",
       "    </tr>\n",
       "    <tr>\n",
       "      <th>4597</th>\n",
       "      <td>-0.444165</td>\n",
       "      <td>-0.308355</td>\n",
       "      <td>0.102907</td>\n",
       "      <td>-0.212994</td>\n",
       "      <td>-0.290209</td>\n",
       "      <td>-0.342434</td>\n",
       "      <td>n</td>\n",
       "    </tr>\n",
       "    <tr>\n",
       "      <th>4598</th>\n",
       "      <td>-0.272628</td>\n",
       "      <td>-0.308355</td>\n",
       "      <td>-0.329912</td>\n",
       "      <td>-0.212994</td>\n",
       "      <td>-0.290209</td>\n",
       "      <td>0.640128</td>\n",
       "      <td>n</td>\n",
       "    </tr>\n",
       "    <tr>\n",
       "      <th>4599</th>\n",
       "      <td>-0.338604</td>\n",
       "      <td>-0.308355</td>\n",
       "      <td>-0.329912</td>\n",
       "      <td>-0.212994</td>\n",
       "      <td>-0.290209</td>\n",
       "      <td>2.801763</td>\n",
       "      <td>n</td>\n",
       "    </tr>\n",
       "    <tr>\n",
       "      <th>4600</th>\n",
       "      <td>-0.401281</td>\n",
       "      <td>-0.308355</td>\n",
       "      <td>-0.176648</td>\n",
       "      <td>-0.212994</td>\n",
       "      <td>-0.290209</td>\n",
       "      <td>-0.342434</td>\n",
       "      <td>n</td>\n",
       "    </tr>\n",
       "  </tbody>\n",
       "</table>\n",
       "<p>4601 rows × 7 columns</p>\n",
       "</div>"
      ],
      "text/plain": [
       "       crl.tot    dollar      bang     money      n000      make yesno\n",
       "0    -0.008724 -0.308355  0.624007 -0.212994 -0.290209 -0.342434     y\n",
       "1     1.228324  0.423783  0.126203  0.758565  0.937491  0.345359     y\n",
       "2     3.258733  0.440053  0.008496 -0.077428  3.021726 -0.145921     y\n",
       "3    -0.152222 -0.308355 -0.161934 -0.212994 -0.290209 -0.342434     y\n",
       "4    -0.152222 -0.308355 -0.164387 -0.212994 -0.290209 -0.342434     y\n",
       "...        ...       ...       ...       ...       ...       ...   ...\n",
       "4596 -0.322110 -0.308355 -0.329912 -0.212994 -0.290209  0.672880     n\n",
       "4597 -0.444165 -0.308355  0.102907 -0.212994 -0.290209 -0.342434     n\n",
       "4598 -0.272628 -0.308355 -0.329912 -0.212994 -0.290209  0.640128     n\n",
       "4599 -0.338604 -0.308355 -0.329912 -0.212994 -0.290209  2.801763     n\n",
       "4600 -0.401281 -0.308355 -0.176648 -0.212994 -0.290209 -0.342434     n\n",
       "\n",
       "[4601 rows x 7 columns]"
      ]
     },
     "execution_count": 29,
     "metadata": {},
     "output_type": "execute_result"
    }
   ],
   "source": [
    "# Now we will add the target variable inside X\n",
    "X['yesno'] = dataset.yesno\n",
    "X\n",
    "# now our dataset is called X"
   ]
  },
  {
   "cell_type": "raw",
   "metadata": {},
   "source": [
    "Question : Split this dataset into training/validation/test "
   ]
  },
  {
   "cell_type": "code",
   "execution_count": 30,
   "metadata": {},
   "outputs": [
    {
     "name": "stdout",
     "output_type": "stream",
     "text": [
      "Taille données entrainement : 3220\n",
      "Taille données validation : 690\n",
      "Taille données test : 691\n"
     ]
    }
   ],
   "source": [
    "data_train, data_test = train_test_split(X, test_size = 0.3, random_state = 20)\n",
    "data_valid, data_test = train_test_split(data_test, test_size = 0.5, random_state = 20)\n",
    "\n"
   ]
  },
  {
   "cell_type": "raw",
   "metadata": {},
   "source": [
    "Questions: \n",
    " - Fit a first linear SVM model with C = 1\n",
    " - How many support vectors are selected ?\n",
    " - What is the performance of this model on the training set ? on the validation set ?\n",
    " - What is the confusion matrix of the predictions of the validation set ? What kind of errors is more often made? (check confusion_matrix function for that"
   ]
  },
  {
   "cell_type": "code",
   "execution_count": 31,
   "metadata": {},
   "outputs": [],
   "source": [
    "model_svm = svm.SVC(C = 1, kernel = 'linear').fit(data_train.iloc[:, 0:6], data_train.yesno)"
   ]
  },
  {
   "cell_type": "code",
   "execution_count": 32,
   "metadata": {},
   "outputs": [
    {
     "name": "stdout",
     "output_type": "stream",
     "text": [
      "there are 1356 for this model \n",
      "vectors support for this model : [[ 4.75803493 -0.30835494 -0.31029443 -0.14521117 -0.2902092  -0.30968165]\n",
      " [ 0.59000719  0.20007423 -0.32991229 -0.21299439 -0.03324868 -0.34243371]\n",
      " [-0.34685064 -0.30835494 -0.16683876 -0.21299439 -0.2902092  -0.34243371]\n",
      " ...\n",
      " [-0.1670663  -0.30835494 -0.32991229 -0.21299439 -0.2902092  -0.34243371]\n",
      " [-0.20830124  0.32616466 -0.32991229  0.51002661 -0.2902092  -0.34243371]\n",
      " [-0.43756751 -0.30835494  0.61910211 -0.21299439 -0.2902092  -0.34243371]] \n",
      "indice of vectors support : [   4   10   17 ... 3208 3211 3212] \n"
     ]
    }
   ],
   "source": [
    "supports = model_svm.support_vectors_\n",
    "indice_supports = model_svm.support_\n",
    "\n",
    "print(f\"there are {len(indice_supports)} for this model \")\n",
    "print(f\"vectors support for this model : {supports} \")\n",
    "print(f\"indice of vectors support : {indice_supports} \")"
   ]
  },
  {
   "cell_type": "code",
   "execution_count": 33,
   "metadata": {},
   "outputs": [
    {
     "name": "stdout",
     "output_type": "stream",
     "text": [
      "Le score train = 0.8350931677018634\n",
      "Le score valid = 0.8536231884057971\n"
     ]
    }
   ],
   "source": [
    "score_train = model_svm.score(data_train.iloc[:, 0:6], data_train.yesno)\n",
    "score_valid = model_svm.score(data_valid.iloc[:, 0:6], data_valid.yesno)\n",
    "print(f\"Le score train = {score_train}\")\n",
    "print(f\"Le score valid = {score_valid}\")"
   ]
  },
  {
   "cell_type": "raw",
   "metadata": {},
   "source": [
    "Question : Now try different values of C (between 0.01 and 1000 for instance) and compute the training and validation scores for each value of C. Select the best value of C and estimate the generalization error of the selected SVM"
   ]
  },
  {
   "cell_type": "code",
   "execution_count": 34,
   "metadata": {},
   "outputs": [
    {
     "name": "stdout",
     "output_type": "stream",
     "text": [
      "Model avec C = 0.01\n",
      "Score train = 0.8142857142857143\n",
      "Score valid = 0.8188405797101449\n",
      "Model avec C = 0.1\n",
      "Score train = 0.834472049689441\n",
      "Score valid = 0.8507246376811595\n",
      "Model avec C = 1\n",
      "Score train = 0.8350931677018634\n",
      "Score valid = 0.8536231884057971\n",
      "Model avec C = 1.8\n",
      "Score train = 0.8350931677018634\n",
      "Score valid = 0.8536231884057971\n",
      "Model avec C = 3\n",
      "Score train = 0.8350931677018634\n",
      "Score valid = 0.8536231884057971\n",
      "Model avec C = 8\n",
      "Score train = 0.8350931677018634\n",
      "Score valid = 0.8536231884057971\n",
      "Model avec C = 10\n",
      "Score train = 0.8350931677018634\n",
      "Score valid = 0.8536231884057971\n",
      "Model avec C = 25\n",
      "Score train = 0.8350931677018634\n",
      "Score valid = 0.8536231884057971\n",
      "Model avec C = 100\n",
      "Score train = 0.8350931677018634\n",
      "Score valid = 0.8536231884057971\n",
      "Model avec C = 500\n",
      "Score train = 0.8350931677018634\n",
      "Score valid = 0.8536231884057971\n",
      "Model avec C = 700\n",
      "Score train = 0.8350931677018634\n",
      "Score valid = 0.8536231884057971\n",
      "Model avec C = 800\n",
      "Score train = 0.8350931677018634\n",
      "Score valid = 0.8536231884057971\n"
     ]
    },
    {
     "ename": "KeyboardInterrupt",
     "evalue": "",
     "output_type": "error",
     "traceback": [
      "\u001b[0;31m---------------------------------------------------------------------------\u001b[0m",
      "\u001b[0;31mKeyboardInterrupt\u001b[0m                         Traceback (most recent call last)",
      "\u001b[1;32m/Users/freuxy/Documents/Istic/Cours/M2/FST/TP/TP_SVM/TP_SVM_student copie.ipynb Cellule 62\u001b[0m line \u001b[0;36m5\n\u001b[1;32m      <a href='vscode-notebook-cell:/Users/freuxy/Documents/Istic/Cours/M2/FST/TP/TP_SVM/TP_SVM_student%20copie.ipynb#Y115sZmlsZQ%3D%3D?line=2'>3</a>\u001b[0m score_valids \u001b[39m=\u001b[39m []\n\u001b[1;32m      <a href='vscode-notebook-cell:/Users/freuxy/Documents/Istic/Cours/M2/FST/TP/TP_SVM/TP_SVM_student%20copie.ipynb#Y115sZmlsZQ%3D%3D?line=3'>4</a>\u001b[0m \u001b[39mfor\u001b[39;00m c \u001b[39min\u001b[39;00m c_lists :\n\u001b[0;32m----> <a href='vscode-notebook-cell:/Users/freuxy/Documents/Istic/Cours/M2/FST/TP/TP_SVM/TP_SVM_student%20copie.ipynb#Y115sZmlsZQ%3D%3D?line=4'>5</a>\u001b[0m     model \u001b[39m=\u001b[39m svm\u001b[39m.\u001b[39;49mSVC(C \u001b[39m=\u001b[39;49m c, kernel \u001b[39m=\u001b[39;49m \u001b[39m'\u001b[39;49m\u001b[39mlinear\u001b[39;49m\u001b[39m'\u001b[39;49m)\u001b[39m.\u001b[39;49mfit(data_train\u001b[39m.\u001b[39;49miloc[:, \u001b[39m0\u001b[39;49m:\u001b[39m6\u001b[39;49m], data_train\u001b[39m.\u001b[39;49myesno)\n\u001b[1;32m      <a href='vscode-notebook-cell:/Users/freuxy/Documents/Istic/Cours/M2/FST/TP/TP_SVM/TP_SVM_student%20copie.ipynb#Y115sZmlsZQ%3D%3D?line=5'>6</a>\u001b[0m     score_t \u001b[39m=\u001b[39m model\u001b[39m.\u001b[39mscore(data_train\u001b[39m.\u001b[39miloc[:, \u001b[39m0\u001b[39m:\u001b[39m6\u001b[39m], data_train\u001b[39m.\u001b[39myesno)\n\u001b[1;32m      <a href='vscode-notebook-cell:/Users/freuxy/Documents/Istic/Cours/M2/FST/TP/TP_SVM/TP_SVM_student%20copie.ipynb#Y115sZmlsZQ%3D%3D?line=6'>7</a>\u001b[0m     score_v \u001b[39m=\u001b[39m model\u001b[39m.\u001b[39mscore(data_valid\u001b[39m.\u001b[39miloc[:, \u001b[39m0\u001b[39m:\u001b[39m6\u001b[39m], data_valid\u001b[39m.\u001b[39myesno)\n",
      "File \u001b[0;32m~/Library/Python/3.10/lib/python/site-packages/sklearn/svm/_base.py:252\u001b[0m, in \u001b[0;36mBaseLibSVM.fit\u001b[0;34m(self, X, y, sample_weight)\u001b[0m\n\u001b[1;32m    249\u001b[0m     \u001b[39mprint\u001b[39m(\u001b[39m\"\u001b[39m\u001b[39m[LibSVM]\u001b[39m\u001b[39m\"\u001b[39m, end\u001b[39m=\u001b[39m\u001b[39m\"\u001b[39m\u001b[39m\"\u001b[39m)\n\u001b[1;32m    251\u001b[0m seed \u001b[39m=\u001b[39m rnd\u001b[39m.\u001b[39mrandint(np\u001b[39m.\u001b[39miinfo(\u001b[39m\"\u001b[39m\u001b[39mi\u001b[39m\u001b[39m\"\u001b[39m)\u001b[39m.\u001b[39mmax)\n\u001b[0;32m--> 252\u001b[0m fit(X, y, sample_weight, solver_type, kernel, random_seed\u001b[39m=\u001b[39;49mseed)\n\u001b[1;32m    253\u001b[0m \u001b[39m# see comment on the other call to np.iinfo in this file\u001b[39;00m\n\u001b[1;32m    255\u001b[0m \u001b[39mself\u001b[39m\u001b[39m.\u001b[39mshape_fit_ \u001b[39m=\u001b[39m X\u001b[39m.\u001b[39mshape \u001b[39mif\u001b[39;00m \u001b[39mhasattr\u001b[39m(X, \u001b[39m\"\u001b[39m\u001b[39mshape\u001b[39m\u001b[39m\"\u001b[39m) \u001b[39melse\u001b[39;00m (n_samples,)\n",
      "File \u001b[0;32m~/Library/Python/3.10/lib/python/site-packages/sklearn/svm/_base.py:331\u001b[0m, in \u001b[0;36mBaseLibSVM._dense_fit\u001b[0;34m(self, X, y, sample_weight, solver_type, kernel, random_seed)\u001b[0m\n\u001b[1;32m    317\u001b[0m libsvm\u001b[39m.\u001b[39mset_verbosity_wrap(\u001b[39mself\u001b[39m\u001b[39m.\u001b[39mverbose)\n\u001b[1;32m    319\u001b[0m \u001b[39m# we don't pass **self.get_params() to allow subclasses to\u001b[39;00m\n\u001b[1;32m    320\u001b[0m \u001b[39m# add other parameters to __init__\u001b[39;00m\n\u001b[1;32m    321\u001b[0m (\n\u001b[1;32m    322\u001b[0m     \u001b[39mself\u001b[39m\u001b[39m.\u001b[39msupport_,\n\u001b[1;32m    323\u001b[0m     \u001b[39mself\u001b[39m\u001b[39m.\u001b[39msupport_vectors_,\n\u001b[1;32m    324\u001b[0m     \u001b[39mself\u001b[39m\u001b[39m.\u001b[39m_n_support,\n\u001b[1;32m    325\u001b[0m     \u001b[39mself\u001b[39m\u001b[39m.\u001b[39mdual_coef_,\n\u001b[1;32m    326\u001b[0m     \u001b[39mself\u001b[39m\u001b[39m.\u001b[39mintercept_,\n\u001b[1;32m    327\u001b[0m     \u001b[39mself\u001b[39m\u001b[39m.\u001b[39m_probA,\n\u001b[1;32m    328\u001b[0m     \u001b[39mself\u001b[39m\u001b[39m.\u001b[39m_probB,\n\u001b[1;32m    329\u001b[0m     \u001b[39mself\u001b[39m\u001b[39m.\u001b[39mfit_status_,\n\u001b[1;32m    330\u001b[0m     \u001b[39mself\u001b[39m\u001b[39m.\u001b[39m_num_iter,\n\u001b[0;32m--> 331\u001b[0m ) \u001b[39m=\u001b[39m libsvm\u001b[39m.\u001b[39;49mfit(\n\u001b[1;32m    332\u001b[0m     X,\n\u001b[1;32m    333\u001b[0m     y,\n\u001b[1;32m    334\u001b[0m     svm_type\u001b[39m=\u001b[39;49msolver_type,\n\u001b[1;32m    335\u001b[0m     sample_weight\u001b[39m=\u001b[39;49msample_weight,\n\u001b[1;32m    336\u001b[0m     \u001b[39m# TODO(1.4): Replace \"_class_weight\" with \"class_weight_\"\u001b[39;49;00m\n\u001b[1;32m    337\u001b[0m     class_weight\u001b[39m=\u001b[39;49m\u001b[39mgetattr\u001b[39;49m(\u001b[39mself\u001b[39;49m, \u001b[39m\"\u001b[39;49m\u001b[39m_class_weight\u001b[39;49m\u001b[39m\"\u001b[39;49m, np\u001b[39m.\u001b[39;49mempty(\u001b[39m0\u001b[39;49m)),\n\u001b[1;32m    338\u001b[0m     kernel\u001b[39m=\u001b[39;49mkernel,\n\u001b[1;32m    339\u001b[0m     C\u001b[39m=\u001b[39;49m\u001b[39mself\u001b[39;49m\u001b[39m.\u001b[39;49mC,\n\u001b[1;32m    340\u001b[0m     nu\u001b[39m=\u001b[39;49m\u001b[39mself\u001b[39;49m\u001b[39m.\u001b[39;49mnu,\n\u001b[1;32m    341\u001b[0m     probability\u001b[39m=\u001b[39;49m\u001b[39mself\u001b[39;49m\u001b[39m.\u001b[39;49mprobability,\n\u001b[1;32m    342\u001b[0m     degree\u001b[39m=\u001b[39;49m\u001b[39mself\u001b[39;49m\u001b[39m.\u001b[39;49mdegree,\n\u001b[1;32m    343\u001b[0m     shrinking\u001b[39m=\u001b[39;49m\u001b[39mself\u001b[39;49m\u001b[39m.\u001b[39;49mshrinking,\n\u001b[1;32m    344\u001b[0m     tol\u001b[39m=\u001b[39;49m\u001b[39mself\u001b[39;49m\u001b[39m.\u001b[39;49mtol,\n\u001b[1;32m    345\u001b[0m     cache_size\u001b[39m=\u001b[39;49m\u001b[39mself\u001b[39;49m\u001b[39m.\u001b[39;49mcache_size,\n\u001b[1;32m    346\u001b[0m     coef0\u001b[39m=\u001b[39;49m\u001b[39mself\u001b[39;49m\u001b[39m.\u001b[39;49mcoef0,\n\u001b[1;32m    347\u001b[0m     gamma\u001b[39m=\u001b[39;49m\u001b[39mself\u001b[39;49m\u001b[39m.\u001b[39;49m_gamma,\n\u001b[1;32m    348\u001b[0m     epsilon\u001b[39m=\u001b[39;49m\u001b[39mself\u001b[39;49m\u001b[39m.\u001b[39;49mepsilon,\n\u001b[1;32m    349\u001b[0m     max_iter\u001b[39m=\u001b[39;49m\u001b[39mself\u001b[39;49m\u001b[39m.\u001b[39;49mmax_iter,\n\u001b[1;32m    350\u001b[0m     random_seed\u001b[39m=\u001b[39;49mrandom_seed,\n\u001b[1;32m    351\u001b[0m )\n\u001b[1;32m    353\u001b[0m \u001b[39mself\u001b[39m\u001b[39m.\u001b[39m_warn_from_fit_status()\n",
      "\u001b[0;31mKeyboardInterrupt\u001b[0m: "
     ]
    }
   ],
   "source": [
    "c_lists = [0.01, 0.1, 1, 1.8, 3, 8, 10, 25, 100, 500, 700, 800, 1000]\n",
    "score_trains = []\n",
    "score_valids = []\n",
    "for c in c_lists :\n",
    "    model = svm.SVC(C = c, kernel = 'linear').fit(data_train.iloc[:, 0:6], data_train.yesno)\n",
    "    score_t = model.score(data_train.iloc[:, 0:6], data_train.yesno)\n",
    "    score_v = model.score(data_valid.iloc[:, 0:6], data_valid.yesno)\n",
    "    score_trains.append(score_t)\n",
    "    score_valids.append(score_v)\n",
    "    print(f\"Model avec C = {c}\")\n",
    "    print(f\"Score train = {score_t}\")\n",
    "    print(f\"Score valid = {score_v}\")\n",
    "\n",
    "print()\n",
    "print(\"Meilleur model\")\n",
    "\n",
    "best_perf = max(score_valids)\n",
    "indice_best_perf = score_valids.index(best_perf)\n",
    "c = c_lists[indice_best_perf]\n",
    "\n",
    "print(f\"Meilleur performance = {best_perf}\")\n",
    "print(f\"Valeur de C de cette performance = {c}\")\n",
    "\n",
    "model = svm.SVC(C = c, kernel = 'linear').fit(data_train.iloc[:, 0:6], data_train.yesno)\n",
    "\n",
    "score_test = model.score(data_test.iloc[:, 0:6], data_test.yesno)\n",
    "print()\n",
    "print(f\"Performance de ce model sur l'ensemble test : {score_test} \")\n",
    "print(f\"Estimation de l'erreur de généralisation : {1-score_test} \")"
   ]
  },
  {
   "cell_type": "markdown",
   "metadata": {},
   "source": [
    "# Exercise 3: Non-linear SVM"
   ]
  },
  {
   "cell_type": "code",
   "execution_count": null,
   "metadata": {},
   "outputs": [
    {
     "data": {
      "text/html": [
       "<div>\n",
       "<style scoped>\n",
       "    .dataframe tbody tr th:only-of-type {\n",
       "        vertical-align: middle;\n",
       "    }\n",
       "\n",
       "    .dataframe tbody tr th {\n",
       "        vertical-align: top;\n",
       "    }\n",
       "\n",
       "    .dataframe thead th {\n",
       "        text-align: right;\n",
       "    }\n",
       "</style>\n",
       "<table border=\"1\" class=\"dataframe\">\n",
       "  <thead>\n",
       "    <tr style=\"text-align: right;\">\n",
       "      <th></th>\n",
       "      <th>x1</th>\n",
       "      <th>x2</th>\n",
       "      <th>y</th>\n",
       "    </tr>\n",
       "  </thead>\n",
       "  <tbody>\n",
       "    <tr>\n",
       "      <th>0</th>\n",
       "      <td>1.5</td>\n",
       "      <td>4.0</td>\n",
       "      <td>1</td>\n",
       "    </tr>\n",
       "    <tr>\n",
       "      <th>1</th>\n",
       "      <td>1.0</td>\n",
       "      <td>2.0</td>\n",
       "      <td>1</td>\n",
       "    </tr>\n",
       "    <tr>\n",
       "      <th>2</th>\n",
       "      <td>0.0</td>\n",
       "      <td>0.0</td>\n",
       "      <td>1</td>\n",
       "    </tr>\n",
       "    <tr>\n",
       "      <th>3</th>\n",
       "      <td>1.0</td>\n",
       "      <td>4.0</td>\n",
       "      <td>1</td>\n",
       "    </tr>\n",
       "    <tr>\n",
       "      <th>4</th>\n",
       "      <td>0.5</td>\n",
       "      <td>3.0</td>\n",
       "      <td>1</td>\n",
       "    </tr>\n",
       "    <tr>\n",
       "      <th>...</th>\n",
       "      <td>...</td>\n",
       "      <td>...</td>\n",
       "      <td>...</td>\n",
       "    </tr>\n",
       "    <tr>\n",
       "      <th>145</th>\n",
       "      <td>-2.8</td>\n",
       "      <td>-3.3</td>\n",
       "      <td>0</td>\n",
       "    </tr>\n",
       "    <tr>\n",
       "      <th>146</th>\n",
       "      <td>-2.8</td>\n",
       "      <td>1.0</td>\n",
       "      <td>0</td>\n",
       "    </tr>\n",
       "    <tr>\n",
       "      <th>147</th>\n",
       "      <td>-2.8</td>\n",
       "      <td>3.0</td>\n",
       "      <td>0</td>\n",
       "    </tr>\n",
       "    <tr>\n",
       "      <th>148</th>\n",
       "      <td>-2.4</td>\n",
       "      <td>3.0</td>\n",
       "      <td>0</td>\n",
       "    </tr>\n",
       "    <tr>\n",
       "      <th>149</th>\n",
       "      <td>-2.3</td>\n",
       "      <td>5.0</td>\n",
       "      <td>0</td>\n",
       "    </tr>\n",
       "  </tbody>\n",
       "</table>\n",
       "<p>150 rows × 3 columns</p>\n",
       "</div>"
      ],
      "text/plain": [
       "      x1   x2  y\n",
       "0    1.5  4.0  1\n",
       "1    1.0  2.0  1\n",
       "2    0.0  0.0  1\n",
       "3    1.0  4.0  1\n",
       "4    0.5  3.0  1\n",
       "..   ...  ... ..\n",
       "145 -2.8 -3.3  0\n",
       "146 -2.8  1.0  0\n",
       "147 -2.8  3.0  0\n",
       "148 -2.4  3.0  0\n",
       "149 -2.3  5.0  0\n",
       "\n",
       "[150 rows x 3 columns]"
      ]
     },
     "execution_count": 61,
     "metadata": {},
     "output_type": "execute_result"
    }
   ],
   "source": [
    "# Load a dataset\n",
    "dataset = pd.read_csv(\"SepNonLineaire.csv\")\n",
    "dataset\n"
   ]
  },
  {
   "cell_type": "raw",
   "metadata": {},
   "source": [
    "Question : How many examples? features? distribution of the target values ?"
   ]
  },
  {
   "cell_type": "code",
   "execution_count": null,
   "metadata": {},
   "outputs": [
    {
     "name": "stdout",
     "output_type": "stream",
     "text": [
      "Examples are available in this dataset : 150\n",
      "Features : ['x1', 'x2']\n",
      "Distribution of the target variable\n",
      "y\n",
      "0    105\n",
      "1     45\n",
      "Name: count, dtype: int64\n",
      "En pourcentage\n",
      "y\n",
      "0    70.0\n",
      "1    30.0\n",
      "Name: proportion, dtype: float64\n"
     ]
    }
   ],
   "source": [
    "print(f\"Examples are available in this dataset : {len(dataset)}\")\n",
    "liste = dataset.columns.to_list()\n",
    "liste.pop()\n",
    "print(f\"Features : {liste}\")\n",
    "print(\"Distribution of the target variable\")\n",
    "print(dataset.iloc[:, 2].value_counts())\n",
    "print(\"En pourcentage\")\n",
    "print(dataset.iloc[:, 2].value_counts(normalize=True)* 100)"
   ]
  },
  {
   "cell_type": "raw",
   "metadata": {},
   "source": [
    "Question : Plot this dataset with different colours for the values of y"
   ]
  },
  {
   "cell_type": "code",
   "execution_count": null,
   "metadata": {},
   "outputs": [
    {
     "name": "stderr",
     "output_type": "stream",
     "text": [
      "No artists with labels found to put in legend.  Note that artists whose label start with an underscore are ignored when legend() is called with no argument.\n"
     ]
    },
    {
     "data": {
      "text/plain": [
       "<matplotlib.legend.Legend at 0x12933b310>"
      ]
     },
     "execution_count": 63,
     "metadata": {},
     "output_type": "execute_result"
    },
    {
     "data": {
      "image/png": "[encoded data removed]",
      "text/plain": [
       "<Figure size 1200x1000 with 1 Axes>"
      ]
     },
     "metadata": {},
     "output_type": "display_data"
    }
   ],
   "source": [
    "# Ici on regroupe les individus en fonction de la valeur de Y\n",
    "class_0 = dataset[dataset['y'] == 0]\n",
    "class_1 = dataset[dataset['y'] == 1]\n",
    "\n",
    "plt.figure(figsize=(12, 10)) # creates a figure with the desired size\n",
    "plt.scatter(class_0.x1, class_0.x2, marker = 'o', color = 'blue')\n",
    "plt.scatter(class_1.x1, class_1.x2, marker = 'o', color = 'red')\n",
    "plt.title(\"Relation entre x1 (x-axis) et x2 (y-axis) en fonction de la valeur de y. Bleu pour classe 0 et rouge pour 1\") # gives a title to the figure\n",
    "plt.xlabel(\"X1\")\n",
    "plt.ylabel(\"X2\")\n",
    "plt.legend(loc = 'best')"
   ]
  },
  {
   "cell_type": "raw",
   "metadata": {},
   "source": [
    "Question : Is this dataset linearly separable ?"
   ]
  },
  {
   "cell_type": "raw",
   "metadata": {},
   "source": [
    "No"
   ]
  },
  {
   "cell_type": "raw",
   "metadata": {},
   "source": [
    "Question : Split this dataset into training/validation/test "
   ]
  },
  {
   "cell_type": "code",
   "execution_count": null,
   "metadata": {},
   "outputs": [
    {
     "name": "stdout",
     "output_type": "stream",
     "text": [
      "Taille données entrainement : 105\n",
      "Taille données validation : 22\n",
      "Taille données test : 23\n"
     ]
    }
   ],
   "source": [
    "data_train, data_test = train_test_split(dataset, test_size = 0.3, random_state = 20)\n",
    "data_valid, data_test = train_test_split(data_test, test_size = 0.5, random_state = 20)\n",
    "\n",
    "print(f\"Taille données entrainement : {len(data_train)}\")\n",
    "print(f\"Taille données validation : {len(data_valid)}\")\n",
    "print(f\"Taille données test : {len(data_test)}\")"
   ]
  },
  {
   "cell_type": "raw",
   "metadata": {},
   "source": [
    "We will apply a radial SVM (with rbf kernel).\n",
    "For this, you just need to specify kernel = 'rbf' rather than kernel = 'linear'\n",
    "And you'll need to set also a value for gamma (otherwise there is a default value)\n",
    "Questions:\n",
    " - Fit a rbf SVM with C = 1 and gamma = 10\n",
    " - Compute train and validation scores\n",
    " - Plot the decision boundaries and the margins using the function draw_boundary above\n",
    " - What phenomenon can you observe here ?"
   ]
  },
  {
   "cell_type": "code",
   "execution_count": null,
   "metadata": {},
   "outputs": [],
   "source": [
    "def draw_boundary(model, data, x_min, x_max, y_min, y_max):\n",
    "    h = 0.1\n",
    "    xx, yy = np.meshgrid(np.arange(x_min, x_max, h), np.arange(y_min, y_max, h))\n",
    "    zz = np.c_[xx.ravel(), yy.ravel()]\n",
    "    zz = pd.DataFrame(zz)\n",
    "    zz2 = zz\n",
    "    pred_zz= pd.Series(model.predict(zz2))\n",
    "    color_map = matplotlib.colors.ListedColormap(pd.Series(['blue', 'red']))\n",
    "    fig = plt.figure(figsize=  (8,8))\n",
    "    fig = plt.scatter(zz.iloc[:,0], zz.iloc[:,1], c = pred_zz, cmap = color_map, marker='+')\n",
    "    fig = plt.scatter(data.iloc[:,0], data.iloc[:,1], s = 50, c = data.iloc[:,2], cmap = color_map)\n",
    "    "
   ]
  },
  {
   "cell_type": "code",
   "execution_count": null,
   "metadata": {},
   "outputs": [],
   "source": [
    "model_svm = svm.SVC(C = 1, kernel = 'rbf', gamma = 10).fit(data_train.iloc[:, 0:2], data_train.y)"
   ]
  },
  {
   "cell_type": "code",
   "execution_count": null,
   "metadata": {},
   "outputs": [
    {
     "name": "stdout",
     "output_type": "stream",
     "text": [
      "Le score train = 1.0\n",
      "Le score valid = 0.7727272727272727\n"
     ]
    }
   ],
   "source": [
    "score_train = model_svm.score(data_train.iloc[:, 0:2], data_train.y)\n",
    "score_valid = model_svm.score(data_valid.iloc[:, 0:2], data_valid.y)\n",
    "print(f\"Le score train = {score_train}\")\n",
    "print(f\"Le score valid = {score_valid}\")"
   ]
  },
  {
   "cell_type": "code",
   "execution_count": null,
   "metadata": {},
   "outputs": [
    {
     "name": "stderr",
     "output_type": "stream",
     "text": [
      "/Library/Frameworks/Python.framework/Versions/3.10/lib/python3.10/site-packages/sklearn/base.py:439: UserWarning: X does not have valid feature names, but SVC was fitted with feature names\n",
      "  warnings.warn(\n"
     ]
    },
    {
     "data": {
      "image/png": "[encoded data removed]",
      "text/plain": [
       "<Figure size 800x800 with 1 Axes>"
      ]
     },
     "metadata": {},
     "output_type": "display_data"
    }
   ],
   "source": [
    "draw_boundary(model_svm, data_train, -3,4,-5,9)"
   ]
  },
  {
   "cell_type": "markdown",
   "metadata": {},
   "source": [
    "On remarque que le modèle est en sur-apprentissage, qu'il traitre  la frontière point par point."
   ]
  },
  {
   "cell_type": "raw",
   "metadata": {},
   "source": [
    "Questions :\n",
    "    - Try now to modify C and gamma to have a better decision boundary\n",
    "    - Choose the best values of C and gamma \n",
    "    - Estimate the generalization error of this SVM"
   ]
  },
  {
   "cell_type": "code",
   "execution_count": null,
   "metadata": {},
   "outputs": [
    {
     "name": "stdout",
     "output_type": "stream",
     "text": [
      "Model avec C = 0.01\n",
      "Pour gamma = 0.01\n",
      "Score train = 0.6761904761904762\n",
      "Score valid = 0.7727272727272727\n",
      "Pour gamma = 0.05\n",
      "Score train = 0.6761904761904762\n",
      "Score valid = 0.7727272727272727\n",
      "Pour gamma = 0.1\n",
      "Score train = 0.6761904761904762\n",
      "Score valid = 0.7727272727272727\n",
      "Pour gamma = 0.3\n",
      "Score train = 0.6761904761904762\n",
      "Score valid = 0.7727272727272727\n",
      "Pour gamma = 0.5\n",
      "Score train = 0.6761904761904762\n",
      "Score valid = 0.7727272727272727\n",
      "Pour gamma = 0.9\n",
      "Score train = 0.6761904761904762\n",
      "Score valid = 0.7727272727272727\n",
      "Pour gamma = 1\n",
      "Score train = 0.6761904761904762\n",
      "Score valid = 0.7727272727272727\n",
      "Pour gamma = 2\n",
      "Score train = 0.6761904761904762\n",
      "Score valid = 0.7727272727272727\n",
      "\n",
      "Model avec C = 0.1\n",
      "Pour gamma = 0.01\n",
      "Score train = 0.6761904761904762\n",
      "Score valid = 0.7727272727272727\n",
      "Pour gamma = 0.05\n",
      "Score train = 0.8380952380952381\n",
      "Score valid = 0.8181818181818182\n",
      "Pour gamma = 0.1\n",
      "Score train = 0.9333333333333333\n",
      "Score valid = 0.9090909090909091\n",
      "Pour gamma = 0.3\n",
      "Score train = 0.8380952380952381\n",
      "Score valid = 0.8181818181818182\n",
      "Pour gamma = 0.5\n",
      "Score train = 0.6761904761904762\n",
      "Score valid = 0.7727272727272727\n",
      "Pour gamma = 0.9\n",
      "Score train = 0.6761904761904762\n",
      "Score valid = 0.7727272727272727\n",
      "Pour gamma = 1\n",
      "Score train = 0.6761904761904762\n",
      "Score valid = 0.7727272727272727\n",
      "Pour gamma = 2\n",
      "Score train = 0.6761904761904762\n",
      "Score valid = 0.7727272727272727\n",
      "\n",
      "Model avec C = 1\n",
      "Pour gamma = 0.01\n",
      "Score train = 0.8285714285714286\n",
      "Score valid = 0.8181818181818182\n",
      "Pour gamma = 0.05\n",
      "Score train = 0.9904761904761905\n",
      "Score valid = 0.9545454545454546\n",
      "Pour gamma = 0.1\n",
      "Score train = 1.0\n",
      "Score valid = 1.0\n",
      "Pour gamma = 0.3\n",
      "Score train = 1.0\n",
      "Score valid = 1.0\n",
      "Pour gamma = 0.5\n",
      "Score train = 1.0\n",
      "Score valid = 1.0\n",
      "Pour gamma = 0.9\n",
      "Score train = 1.0\n",
      "Score valid = 1.0\n",
      "Pour gamma = 1\n",
      "Score train = 1.0\n",
      "Score valid = 1.0\n",
      "Pour gamma = 2\n",
      "Score train = 1.0\n",
      "Score valid = 0.9545454545454546\n",
      "\n",
      "Model avec C = 3\n",
      "Pour gamma = 0.01\n",
      "Score train = 0.8761904761904762\n",
      "Score valid = 0.8636363636363636\n",
      "Pour gamma = 0.05\n",
      "Score train = 1.0\n",
      "Score valid = 1.0\n",
      "Pour gamma = 0.1\n",
      "Score train = 1.0\n",
      "Score valid = 1.0\n",
      "Pour gamma = 0.3\n",
      "Score train = 1.0\n",
      "Score valid = 1.0\n",
      "Pour gamma = 0.5\n",
      "Score train = 1.0\n",
      "Score valid = 1.0\n",
      "Pour gamma = 0.9\n",
      "Score train = 1.0\n",
      "Score valid = 1.0\n",
      "Pour gamma = 1\n",
      "Score train = 1.0\n",
      "Score valid = 1.0\n",
      "Pour gamma = 2\n",
      "Score train = 1.0\n",
      "Score valid = 1.0\n",
      "\n",
      "Model avec C = 25\n",
      "Pour gamma = 0.01\n",
      "Score train = 1.0\n",
      "Score valid = 1.0\n",
      "Pour gamma = 0.05\n",
      "Score train = 1.0\n",
      "Score valid = 1.0\n",
      "Pour gamma = 0.1\n",
      "Score train = 1.0\n",
      "Score valid = 1.0\n",
      "Pour gamma = 0.3\n",
      "Score train = 1.0\n",
      "Score valid = 1.0\n",
      "Pour gamma = 0.5\n",
      "Score train = 1.0\n",
      "Score valid = 1.0\n",
      "Pour gamma = 0.9\n",
      "Score train = 1.0\n",
      "Score valid = 1.0\n",
      "Pour gamma = 1\n",
      "Score train = 1.0\n",
      "Score valid = 1.0\n",
      "Pour gamma = 2\n",
      "Score train = 1.0\n",
      "Score valid = 1.0\n",
      "\n",
      "Model avec C = 500\n",
      "Pour gamma = 0.01\n",
      "Score train = 1.0\n",
      "Score valid = 0.9545454545454546\n",
      "Pour gamma = 0.05\n",
      "Score train = 1.0\n",
      "Score valid = 1.0\n",
      "Pour gamma = 0.1\n",
      "Score train = 1.0\n",
      "Score valid = 1.0\n",
      "Pour gamma = 0.3\n",
      "Score train = 1.0\n",
      "Score valid = 1.0\n",
      "Pour gamma = 0.5\n",
      "Score train = 1.0\n",
      "Score valid = 1.0\n",
      "Pour gamma = 0.9\n",
      "Score train = 1.0\n",
      "Score valid = 1.0\n",
      "Pour gamma = 1\n",
      "Score train = 1.0\n",
      "Score valid = 1.0\n",
      "Pour gamma = 2\n",
      "Score train = 1.0\n",
      "Score valid = 1.0\n",
      "\n",
      "Model avec C = 700\n",
      "Pour gamma = 0.01\n",
      "Score train = 1.0\n",
      "Score valid = 0.9545454545454546\n",
      "Pour gamma = 0.05\n",
      "Score train = 1.0\n",
      "Score valid = 1.0\n",
      "Pour gamma = 0.1\n",
      "Score train = 1.0\n",
      "Score valid = 1.0\n",
      "Pour gamma = 0.3\n",
      "Score train = 1.0\n",
      "Score valid = 1.0\n",
      "Pour gamma = 0.5\n",
      "Score train = 1.0\n",
      "Score valid = 1.0\n",
      "Pour gamma = 0.9\n",
      "Score train = 1.0\n",
      "Score valid = 1.0\n",
      "Pour gamma = 1\n",
      "Score train = 1.0\n",
      "Score valid = 1.0\n",
      "Pour gamma = 2\n",
      "Score train = 1.0\n",
      "Score valid = 1.0\n",
      "\n",
      "Model avec C = 1000\n",
      "Pour gamma = 0.01\n",
      "Score train = 1.0\n",
      "Score valid = 0.9545454545454546\n",
      "Pour gamma = 0.05\n",
      "Score train = 1.0\n",
      "Score valid = 1.0\n",
      "Pour gamma = 0.1\n",
      "Score train = 1.0\n",
      "Score valid = 1.0\n",
      "Pour gamma = 0.3\n",
      "Score train = 1.0\n",
      "Score valid = 1.0\n",
      "Pour gamma = 0.5\n",
      "Score train = 1.0\n",
      "Score valid = 1.0\n",
      "Pour gamma = 0.9\n",
      "Score train = 1.0\n",
      "Score valid = 1.0\n",
      "Pour gamma = 1\n",
      "Score train = 1.0\n",
      "Score valid = 1.0\n",
      "Pour gamma = 2\n",
      "Score train = 1.0\n",
      "Score valid = 1.0\n",
      "\n",
      "\n",
      "Meilleur model\n",
      "Meilleur performance = 1.0\n",
      "Valeur du couple (c, gamma) de cette performance = (1, 0.1)\n",
      "\n",
      "Performance de ce model sur l'ensemble test : 1.0 \n",
      "Estimation de l'erreur de généralisation : 0.0 \n"
     ]
    }
   ],
   "source": [
    "c_lists = [0.01, 0.1, 1, 3, 25, 500, 700, 1000]\n",
    "gamma_lists = [0.01, 0.05, 0.1, 0.3, 0.5, 0.9, 1, 2]\n",
    "couple_c_gamma = []\n",
    "score_trains = []\n",
    "score_valids = []\n",
    "\n",
    "for c in c_lists :\n",
    "    print(f\"Model avec C = {c}\")\n",
    "    for g in gamma_lists :\n",
    "        couple_c_gamma.append((c, g))\n",
    "        model = svm.SVC(C = c, kernel = 'rbf', gamma = g).fit(data_train.iloc[:, 0:2], data_train.y)\n",
    "        score_t = model.score(data_train.iloc[:, 0:2], data_train.y)\n",
    "        score_v = model.score(data_valid.iloc[:, 0:2], data_valid.y)\n",
    "        score_trains.append(score_t)\n",
    "        score_valids.append(score_v)\n",
    "        print(f\"Pour gamma = {g}\")\n",
    "        print(f\"Score train = {score_t}\")\n",
    "        print(f\"Score valid = {score_v}\")\n",
    "    print()\n",
    "\n",
    "\n",
    "print()\n",
    "print(\"Meilleur model\")\n",
    "\n",
    "best_perf = max(score_valids)\n",
    "indice_best_perf = score_valids.index(best_perf)\n",
    "couple = couple_c_gamma[indice_best_perf]\n",
    "\n",
    "print(f\"Meilleur performance = {best_perf}\")\n",
    "print(f\"Valeur du couple (c, gamma) de cette performance = {couple}\")\n",
    "\n",
    "model = svm.SVC(C = couple[0], kernel = 'rbf', gamma = couple[1]).fit(data_train.iloc[:, 0:2], data_train.y)\n",
    "score_test = model.score(data_test.iloc[:, 0:2], data_test.y)\n",
    "print()\n",
    "print(f\"Performance de ce model sur l'ensemble test : {score_test} \")\n",
    "print(f\"Estimation de l'erreur de généralisation : {1-score_test} \")"
   ]
  },
  {
   "cell_type": "code",
   "execution_count": null,
   "metadata": {},
   "outputs": [
    {
     "name": "stderr",
     "output_type": "stream",
     "text": [
      "/Library/Frameworks/Python.framework/Versions/3.10/lib/python3.10/site-packages/sklearn/base.py:439: UserWarning: X does not have valid feature names, but SVC was fitted with feature names\n",
      "  warnings.warn(\n"
     ]
    },
    {
     "data": {
      "image/png": "[encoded data removed]",
      "text/plain": [
       "<Figure size 800x800 with 1 Axes>"
      ]
     },
     "metadata": {},
     "output_type": "display_data"
    }
   ],
   "source": [
    "draw_boundary(model, data_train, -3,4,-5,9)"
   ]
  },
  {
   "cell_type": "raw",
   "metadata": {},
   "source": [
    "You can also try polynomial kernels by specifying kernel = 'poly'. You'll have to tune the parameter degree with his kernel"
   ]
  },
  {
   "cell_type": "code",
   "execution_count": null,
   "metadata": {},
   "outputs": [
    {
     "name": "stdout",
     "output_type": "stream",
     "text": [
      "Model avec C = 0.01\n",
      "Pour degree = 1\n",
      "Score train = 0.6761904761904762\n",
      "Score valid = 0.7727272727272727\n",
      "Pour degree = 2\n",
      "Score train = 0.6761904761904762\n",
      "Score valid = 0.7727272727272727\n",
      "Pour degree = 3\n",
      "Score train = 0.7142857142857143\n",
      "Score valid = 0.8181818181818182\n",
      "Pour degree = 4\n",
      "Score train = 0.7238095238095238\n",
      "Score valid = 0.8181818181818182\n",
      "Pour degree = 5\n",
      "Score train = 0.7238095238095238\n",
      "Score valid = 0.8181818181818182\n",
      "Pour degree = 6\n",
      "Score train = 0.7428571428571429\n",
      "Score valid = 0.8181818181818182\n",
      "Pour degree = 7\n",
      "Score train = 0.7619047619047619\n",
      "Score valid = 0.8181818181818182\n",
      "Pour degree = 8\n",
      "Score train = 0.780952380952381\n",
      "Score valid = 0.8181818181818182\n",
      "Pour degree = 9\n",
      "Score train = 0.780952380952381\n",
      "Score valid = 0.8181818181818182\n",
      "Pour degree = 10\n",
      "Score train = 0.780952380952381\n",
      "Score valid = 0.8181818181818182\n",
      "\n",
      "Model avec C = 0.1\n",
      "Pour degree = 1\n",
      "Score train = 0.7714285714285715\n",
      "Score valid = 0.8181818181818182\n",
      "Pour degree = 2\n",
      "Score train = 0.7238095238095238\n",
      "Score valid = 0.8181818181818182\n",
      "Pour degree = 3\n",
      "Score train = 0.7714285714285715\n",
      "Score valid = 0.7727272727272727\n",
      "Pour degree = 4\n",
      "Score train = 0.7523809523809524\n",
      "Score valid = 0.8181818181818182\n",
      "Pour degree = 5\n",
      "Score train = 0.7714285714285715\n",
      "Score valid = 0.8181818181818182\n",
      "Pour degree = 6\n",
      "Score train = 0.780952380952381\n",
      "Score valid = 0.8181818181818182\n",
      "Pour degree = 7\n",
      "Score train = 0.780952380952381\n",
      "Score valid = 0.8181818181818182\n",
      "Pour degree = 8\n",
      "Score train = 0.780952380952381\n",
      "Score valid = 0.8181818181818182\n",
      "Pour degree = 9\n",
      "Score train = 0.8095238095238095\n",
      "Score valid = 0.8181818181818182\n",
      "Pour degree = 10\n",
      "Score train = 0.7904761904761904\n",
      "Score valid = 0.8181818181818182\n",
      "\n",
      "Model avec C = 1\n",
      "Pour degree = 1\n",
      "Score train = 0.780952380952381\n",
      "Score valid = 0.8181818181818182\n",
      "Pour degree = 2\n",
      "Score train = 0.780952380952381\n",
      "Score valid = 0.8181818181818182\n",
      "Pour degree = 3\n",
      "Score train = 0.780952380952381\n",
      "Score valid = 0.8181818181818182\n",
      "Pour degree = 4\n",
      "Score train = 0.7904761904761904\n",
      "Score valid = 0.8181818181818182\n",
      "Pour degree = 5\n",
      "Score train = 0.780952380952381\n",
      "Score valid = 0.8181818181818182\n",
      "Pour degree = 6\n",
      "Score train = 0.8\n",
      "Score valid = 0.8181818181818182\n",
      "Pour degree = 7\n",
      "Score train = 0.8095238095238095\n",
      "Score valid = 0.8636363636363636\n",
      "Pour degree = 8\n",
      "Score train = 0.8\n",
      "Score valid = 0.8636363636363636\n",
      "Pour degree = 9\n",
      "Score train = 0.8095238095238095\n",
      "Score valid = 0.8636363636363636\n",
      "Pour degree = 10\n",
      "Score train = 0.8\n",
      "Score valid = 0.8636363636363636\n",
      "\n",
      "Model avec C = 3\n",
      "Pour degree = 1\n",
      "Score train = 0.7904761904761904\n",
      "Score valid = 0.8181818181818182\n",
      "Pour degree = 2\n",
      "Score train = 0.8666666666666667\n",
      "Score valid = 0.8181818181818182\n",
      "Pour degree = 3\n",
      "Score train = 0.780952380952381\n",
      "Score valid = 0.8181818181818182\n",
      "Pour degree = 4\n",
      "Score train = 0.780952380952381\n",
      "Score valid = 0.8636363636363636\n",
      "Pour degree = 5\n",
      "Score train = 0.7904761904761904\n",
      "Score valid = 0.8181818181818182\n",
      "Pour degree = 6\n",
      "Score train = 0.8\n",
      "Score valid = 0.8636363636363636\n",
      "Pour degree = 7\n",
      "Score train = 0.8095238095238095\n",
      "Score valid = 0.8636363636363636\n",
      "Pour degree = 8\n",
      "Score train = 0.8\n",
      "Score valid = 0.8636363636363636\n",
      "Pour degree = 9\n",
      "Score train = 0.8095238095238095\n",
      "Score valid = 0.8636363636363636\n",
      "Pour degree = 10\n",
      "Score train = 0.8\n",
      "Score valid = 0.8636363636363636\n",
      "\n",
      "Model avec C = 25\n",
      "Pour degree = 1\n",
      "Score train = 0.7904761904761904\n",
      "Score valid = 0.8181818181818182\n",
      "Pour degree = 2\n",
      "Score train = 0.8571428571428571\n",
      "Score valid = 0.8181818181818182\n",
      "Pour degree = 3\n",
      "Score train = 0.780952380952381\n",
      "Score valid = 0.8181818181818182\n",
      "Pour degree = 4\n",
      "Score train = 0.780952380952381\n",
      "Score valid = 0.8636363636363636\n",
      "Pour degree = 5\n",
      "Score train = 0.8\n",
      "Score valid = 0.8181818181818182\n",
      "Pour degree = 6\n",
      "Score train = 0.8\n",
      "Score valid = 0.8636363636363636\n",
      "Pour degree = 7\n",
      "Score train = 0.8095238095238095\n",
      "Score valid = 0.8636363636363636\n",
      "Pour degree = 8\n",
      "Score train = 0.8\n",
      "Score valid = 0.8636363636363636\n",
      "Pour degree = 9\n",
      "Score train = 0.8095238095238095\n",
      "Score valid = 0.8636363636363636\n",
      "Pour degree = 10\n",
      "Score train = 0.8\n",
      "Score valid = 0.8636363636363636\n",
      "\n",
      "Model avec C = 500\n",
      "Pour degree = 1\n",
      "Score train = 0.7904761904761904\n",
      "Score valid = 0.8181818181818182\n",
      "Pour degree = 2\n",
      "Score train = 0.8571428571428571\n",
      "Score valid = 0.7727272727272727\n",
      "Pour degree = 3\n",
      "Score train = 0.780952380952381\n",
      "Score valid = 0.8181818181818182\n",
      "Pour degree = 4\n",
      "Score train = 0.8761904761904762\n",
      "Score valid = 0.7272727272727273\n",
      "Pour degree = 5\n",
      "Score train = 0.8\n",
      "Score valid = 0.8636363636363636\n",
      "Pour degree = 6\n",
      "Score train = 0.8666666666666667\n",
      "Score valid = 0.7727272727272727\n",
      "Pour degree = 7\n",
      "Score train = 0.8095238095238095\n",
      "Score valid = 0.8636363636363636\n",
      "Pour degree = 8\n",
      "Score train = 0.8\n",
      "Score valid = 0.8636363636363636\n",
      "Pour degree = 9\n",
      "Score train = 0.8380952380952381\n",
      "Score valid = 0.8181818181818182\n",
      "Pour degree = 10\n",
      "Score train = 0.8\n",
      "Score valid = 0.8636363636363636\n",
      "\n",
      "Model avec C = 700\n",
      "Pour degree = 1\n",
      "Score train = 0.7904761904761904\n",
      "Score valid = 0.8181818181818182\n",
      "Pour degree = 2\n",
      "Score train = 0.8571428571428571\n",
      "Score valid = 0.7727272727272727\n",
      "Pour degree = 3\n",
      "Score train = 0.780952380952381\n",
      "Score valid = 0.8181818181818182\n",
      "Pour degree = 4\n",
      "Score train = 0.8761904761904762\n",
      "Score valid = 0.7272727272727273\n",
      "Pour degree = 5\n",
      "Score train = 0.8\n",
      "Score valid = 0.8636363636363636\n",
      "Pour degree = 6\n",
      "Score train = 0.8666666666666667\n",
      "Score valid = 0.7727272727272727\n",
      "Pour degree = 7\n",
      "Score train = 0.8095238095238095\n",
      "Score valid = 0.8636363636363636\n",
      "Pour degree = 8\n",
      "Score train = 0.8\n",
      "Score valid = 0.8636363636363636\n",
      "Pour degree = 9\n",
      "Score train = 0.8380952380952381\n",
      "Score valid = 0.8181818181818182\n",
      "Pour degree = 10\n",
      "Score train = 0.8\n",
      "Score valid = 0.8636363636363636\n",
      "\n",
      "Model avec C = 1000\n",
      "Pour degree = 1\n",
      "Score train = 0.7904761904761904\n",
      "Score valid = 0.8181818181818182\n",
      "Pour degree = 2\n",
      "Score train = 0.8571428571428571\n",
      "Score valid = 0.7727272727272727\n",
      "Pour degree = 3\n",
      "Score train = 0.780952380952381\n",
      "Score valid = 0.8181818181818182\n",
      "Pour degree = 4\n",
      "Score train = 0.8761904761904762\n",
      "Score valid = 0.7272727272727273\n",
      "Pour degree = 5\n",
      "Score train = 0.8\n",
      "Score valid = 0.8636363636363636\n",
      "Pour degree = 6\n",
      "Score train = 0.8476190476190476\n",
      "Score valid = 0.7727272727272727\n",
      "Pour degree = 7\n",
      "Score train = 0.8095238095238095\n",
      "Score valid = 0.8636363636363636\n",
      "Pour degree = 8\n",
      "Score train = 0.8\n",
      "Score valid = 0.8636363636363636\n",
      "Pour degree = 9\n",
      "Score train = 0.8380952380952381\n",
      "Score valid = 0.8181818181818182\n",
      "Pour degree = 10\n",
      "Score train = 0.8\n",
      "Score valid = 0.8636363636363636\n",
      "\n",
      "\n",
      "Meilleur model\n",
      "Meilleur performance = 0.8636363636363636\n",
      "Valeur du couple (c, degree) de cette performance = (1, 7)\n",
      "\n",
      "Performance de ce model sur l'ensemble test : 0.782608695652174 \n",
      "Estimation de l'erreur de généralisation : 0.21739130434782605 \n"
     ]
    }
   ],
   "source": [
    "c_lists = [0.01, 0.1, 1, 3, 25, 500, 700, 1000]\n",
    "degrees = range(1, 11)\n",
    "couple_c_degree = []\n",
    "score_trains = []\n",
    "score_valids = []\n",
    "\n",
    "for c in c_lists :\n",
    "    print(f\"Model avec C = {c}\")\n",
    "    for d in degrees :\n",
    "        couple_c_degree.append((c, d))\n",
    "        model = svm.SVC(C = c, kernel = 'poly', degree= d).fit(data_train.iloc[:, 0:2], data_train.y)\n",
    "        score_t = model.score(data_train.iloc[:, 0:2], data_train.y)\n",
    "        score_v = model.score(data_valid.iloc[:, 0:2], data_valid.y)\n",
    "        score_trains.append(score_t)\n",
    "        score_valids.append(score_v)\n",
    "        print(f\"Pour degree = {d}\")\n",
    "        print(f\"Score train = {score_t}\")\n",
    "        print(f\"Score valid = {score_v}\")\n",
    "    print()\n",
    "\n",
    "\n",
    "print()\n",
    "print(\"Meilleur model\")\n",
    "\n",
    "best_perf = max(score_valids)\n",
    "indice_best_perf = score_valids.index(best_perf)\n",
    "couple = couple_c_degree[indice_best_perf]\n",
    "\n",
    "print(f\"Meilleur performance = {best_perf}\")\n",
    "print(f\"Valeur du couple (c, degree) de cette performance = {couple}\")\n",
    "\n",
    "model = svm.SVC(C = couple[0], kernel = 'poly', degree = couple[1]).fit(data_train.iloc[:, 0:2], data_train.y)\n",
    "score_test = model.score(data_test.iloc[:, 0:2], data_test.y)\n",
    "print()\n",
    "print(f\"Performance de ce model sur l'ensemble test : {score_test} \")\n",
    "print(f\"Estimation de l'erreur de généralisation : {1-score_test} \")"
   ]
  },
  {
   "cell_type": "code",
   "execution_count": null,
   "metadata": {},
   "outputs": [
    {
     "name": "stderr",
     "output_type": "stream",
     "text": [
      "/Library/Frameworks/Python.framework/Versions/3.10/lib/python3.10/site-packages/sklearn/base.py:439: UserWarning: X does not have valid feature names, but SVC was fitted with feature names\n",
      "  warnings.warn(\n"
     ]
    },
    {
     "data": {
      "image/png": "[encoded data removed]",
      "text/plain": [
       "<Figure size 800x800 with 1 Axes>"
      ]
     },
     "metadata": {},
     "output_type": "display_data"
    }
   ],
   "source": [
    "draw_boundary(model, data_train, -3, 4, -5, 9)"
   ]
  }
 ],
 "metadata": {
  "kernelspec": {
   "display_name": "Python 3.10.7 64-bit",
   "language": "python",
   "name": "python3"
  },
  "language_info": {
   "codemirror_mode": {
    "name": "ipython",
    "version": 3
   },
   "file_extension": ".py",
   "mimetype": "text/x-python",
   "name": "python",
   "nbconvert_exporter": "python",
   "pygments_lexer": "ipython3",
   "version": "3.10.7"
  },
  "vscode": {
   "interpreter": {
    "hash": "aee8b7b246df8f9039afb4144a1f6fd8d2ca17a180786b69acc140d282b71a49"
   }
  }
 },
 "nbformat": 4,
 "nbformat_minor": 4
}
